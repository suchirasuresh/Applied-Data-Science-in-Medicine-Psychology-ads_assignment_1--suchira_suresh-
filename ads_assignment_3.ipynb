{
  "cells": [
    {
      "cell_type": "markdown",
      "metadata": {
        "id": "view-in-github",
        "colab_type": "text"
      },
      "source": [
        "<a href=\"https://colab.research.google.com/github/suchirasuresh/Applied-Data-Science-in-Medicine-Psychology-ads_assignment_1--suchira_suresh-/blob/main/ads_assignment_3.ipynb\" target=\"_parent\"><img src=\"https://colab.research.google.com/assets/colab-badge.svg\" alt=\"Open In Colab\"/></a>"
      ]
    },
    {
      "cell_type": "markdown",
      "id": "e5de8dd8",
      "metadata": {
        "pycharm": {
          "name": "#%% md\n"
        },
        "id": "e5de8dd8"
      },
      "source": [
        "Fill in your github username and idm credentials below:"
      ]
    },
    {
      "cell_type": "code",
      "execution_count": 100,
      "id": "2c076ae3",
      "metadata": {
        "pycharm": {
          "is_executing": true,
          "name": "#%%\n"
        },
        "vscode": {
          "languageId": "python"
        },
        "id": "2c076ae3"
      },
      "outputs": [],
      "source": [
        "github_username = \"suchirasuresh\"\n",
        "idm_credentials = \"yh07ajaw\""
      ]
    },
    {
      "cell_type": "markdown",
      "id": "61ece7da",
      "metadata": {
        "pycharm": {
          "name": "#%% md\n"
        },
        "id": "61ece7da"
      },
      "source": [
        "---"
      ]
    },
    {
      "cell_type": "markdown",
      "id": "755c6140-79ab-496f-9e79-71972edca5bc",
      "metadata": {
        "tags": [],
        "pycharm": {
          "name": "#%% md\n"
        },
        "id": "755c6140-79ab-496f-9e79-71972edca5bc"
      },
      "source": [
        "# **Applied Data Science in Medicine & Psychology - Assignment 3**\n",
        "---\n",
        "**Deadline: 16.05.2023, 23:59**\n",
        "### **General setup and submission**\n",
        "1. Save an editable copy of this notebook to your Google Drive ``File`` $\\rightarrow$ ``Save a copy in Drive`` and remove the automatically appended \"Copy of\" text. **Do not change the file name**.\n",
        "2. Work on the assignment in the *copied* version of the notebook. Make sure that you **replace** all parts of the tasks indicated with *YOUR CODE HERE* and **raise NotImplementedError()** (otherwise this causes an error in your implementation) or *YOUR ANSWER HERE* with your solution.\n",
        "3. If you do a break during the implementation, you can save the current status of your work in your repository following the submission instructions below. When you continue working on the assignment, do this in the version of the notebook that you saved in your Google Drive (access from your Google Colab account) or your repository.\n",
        "4. After finishing the assignment submit your assignment as follows:\n",
        "    * Check that everything runs as expected. To do that select in the menubar ``Runtime`` $\\rightarrow$ ``Restart and run all``. This will clear all your local variables and runs your notebook from the beginning\n",
        "    * Save your notebook, click ``File`` $\\rightarrow$ ``Save``\n",
        "    * Click ``File`` $\\rightarrow$ ``Save a copy in GitHub``\n",
        "    * Select ``digikolleg-data-science-psychology/ads_assignment_3-<username>`` from the Repository drop-down menu \n",
        "    * Type ``ads_assignment_3.ipynb`` into the File path text box\n",
        "    * Optionally, you may enter a description into the \"Commit message\" text box (like: \"solved task 1\" or \"ready for grading\")\n",
        "    * Make sure that the \"Include a link to Colaboratory\" box is checked\n",
        "    * Press \"Ok\"\n",
        "    * A new tab or window should open up, displaying your submitted notebook within your GitHub repository\n",
        "\n",
        "Before the assignment deadline, you can re-submit your assignment as often as you would like. This will update the copy of your assignment file in your assignment's repository."
      ]
    },
    {
      "cell_type": "markdown",
      "id": "2fe61c2c-a030-4c02-8214-7db7d1c10df5",
      "metadata": {
        "tags": [],
        "pycharm": {
          "name": "#%% md\n"
        },
        "id": "2fe61c2c-a030-4c02-8214-7db7d1c10df5"
      },
      "source": [
        "### **Assignment Description**\n",
        "In this assignment, we cover the second part of Python basics. You will learn essential programming building blocks such as functions, data types and structures, control flow elements, and data type casting which are used to store, manipulate, and control data in a program. Understanding these concepts is crucial for writing efficient and effective code.\n",
        "\n",
        "#### **Assignment goals**\n",
        "You are going to learn the following things in this assignment:\n",
        "1. how to implement and use functions\n",
        "2. how to create variables of different data types\n",
        "3. how to set up and work with dictionaries and lists\n",
        "4. how to control the program flow with if-statements and loops\n",
        "5. how to cast variables to different datatypes\n",
        "\n",
        "#### **Assignment point value**\n",
        "This assignment is worth a total (up to) **10** points. If your code passes all of the manual and automatic tests you will receive full credit."
      ]
    },
    {
      "cell_type": "markdown",
      "id": "89d2a637-e274-43a8-a88a-23bb204e96db",
      "metadata": {
        "pycharm": {
          "name": "#%% md\n"
        },
        "id": "89d2a637-e274-43a8-a88a-23bb204e96db"
      },
      "source": [
        "### **Tasks**\n",
        "Make sure that you now work on your *copied* version of this assignment's notebook."
      ]
    },
    {
      "cell_type": "markdown",
      "id": "1b5fb641-3203-4dab-87b5-1c5e3c6c9341",
      "metadata": {
        "pycharm": {
          "name": "#%% md\n"
        },
        "id": "1b5fb641-3203-4dab-87b5-1c5e3c6c9341"
      },
      "source": [
        "#### 1. Functions\n",
        "Functions are a set of instructions that perform a specific task within a program. They allow developers to modularize code and reuse it throughout the program. Functions can take arguments (inputs) and return values (outputs):\n",
        "```\n",
        "def <function_name>(<arg_1>, ..., <arg_N>):\n",
        "    <instruction_1>\n",
        "    ...\n",
        "    <instruction_N>\n",
        "    return <value>\n",
        "```\n",
        "\n",
        "##### 1.1 Create a function called ``get_datatype`` that takes a variable called ``var`` as argument and returns the type of the variable. Test your solution with variables of different datatypes:\n",
        "**Hint:** check the lecture slides for a suitable function."
      ]
    },
    {
      "cell_type": "code",
      "execution_count": 101,
      "id": "8c93da0e-7354-4a72-9963-d7c2d366effc",
      "metadata": {
        "deletable": false,
        "nbgrader": {
          "cell_type": "code",
          "checksum": "b7bfac1fdd124964e3ce9ff8cb2dbe4e",
          "grade": false,
          "grade_id": "function_datatype",
          "locked": false,
          "schema_version": 3,
          "solution": true,
          "task": false
        },
        "tags": [],
        "pycharm": {
          "name": "#%%\n"
        },
        "id": "8c93da0e-7354-4a72-9963-d7c2d366effc"
      },
      "outputs": [],
      "source": [
        "def get_datatype(var):\n",
        "  return type(var)"
      ]
    },
    {
      "cell_type": "code",
      "execution_count": 102,
      "id": "d47ec9b1-a219-4c47-9e76-476b069d40f9",
      "metadata": {
        "deletable": false,
        "editable": false,
        "nbgrader": {
          "cell_type": "code",
          "checksum": "e2db25622b56d220600ad628a9869ca3",
          "grade": true,
          "grade_id": "function_datatype_test",
          "locked": true,
          "points": 1,
          "schema_version": 3,
          "solution": false,
          "task": false
        },
        "tags": [],
        "pycharm": {
          "name": "#%%\n"
        },
        "id": "d47ec9b1-a219-4c47-9e76-476b069d40f9"
      },
      "outputs": [],
      "source": [
        "# run tests to check your implementation\n",
        "assert get_datatype(5) == int, \"Check if you return the data type itself and not a string representation or similar\"\n",
        "assert get_datatype(\"Hello, world!\") == str, \"Check if you return the data type itself and not a string representation or similar\""
      ]
    },
    {
      "cell_type": "markdown",
      "id": "a41eef49-58fd-46a4-bc98-2740c63509a5",
      "metadata": {
        "pycharm": {
          "name": "#%% md\n"
        },
        "id": "a41eef49-58fd-46a4-bc98-2740c63509a5"
      },
      "source": [
        "#### 2. Datatypes - List\n",
        "A Python list is a structure that allows you to store a collection of elements of any data type in a single variable, like\n",
        "```\n",
        "python_list = [12, \"hello\", 23.5, 25]\n",
        "```\n",
        "Lists are provided with the following functionalities:\n",
        "\n",
        "| functionality | key word|explanation | example | return |\n",
        "| :- | :- | :- | :- | :- |\n",
        "|Accessing||access individual elements by their index, <br /> index starts from 0|``python_list[0]``|``12``|\n",
        "|Slicing||create a sub-list, <br /> syntax: ``lst[start:stop:step]``|``python_list[1:4:2]`` <br /> |``[\"hello\", 25]``|\n",
        "|Inserting|``insert``|insert a new element at a specific position|``python_list.insert(2, \"new\")`` | ``[12, \"hello\", \"new\", 23.5, 25]``\n",
        "|Deleting|``remove``|remove an element|``python_list.remove(\"hello\")``|``[12, 23.5, 25]``|\n",
        "|Appending|``append``|add new elements to the end|``python_list.append([26, 27])``|``[12, \"hello\", 23.5, 25, [26, 27]]``|\n",
        "|Extending|``extend``|add new elements to the end|``python_list.extend([26, 27])``|``[12, \"hello\", 23.5, 25, 26, 27]``|\n",
        "|Membership|``in``|check if a particular element is present|``25 in python_list`` <br /> ``56 in python_list``|``True`` <br /> ``False``\n",
        "\n",
        "##### 2.1 Create a list called ``my_list`` with the elements ``1, 2, \"hello\", 4, True``:"
      ]
    },
    {
      "cell_type": "code",
      "execution_count": 103,
      "id": "ad1385a2-ec77-47f1-ac25-38851de79b28",
      "metadata": {
        "deletable": false,
        "nbgrader": {
          "cell_type": "code",
          "checksum": "9a068443504eaaaa05c51e7c194b5d69",
          "grade": false,
          "grade_id": "list",
          "locked": false,
          "schema_version": 3,
          "solution": true,
          "task": false
        },
        "tags": [],
        "pycharm": {
          "name": "#%%\n"
        },
        "id": "ad1385a2-ec77-47f1-ac25-38851de79b28"
      },
      "outputs": [],
      "source": [
        "my_list = [1, 2, \"hello\", 4, True]"
      ]
    },
    {
      "cell_type": "code",
      "execution_count": 104,
      "id": "fbc4a8ce-f4c3-4bdd-a191-8c3baf801e12",
      "metadata": {
        "deletable": false,
        "editable": false,
        "nbgrader": {
          "cell_type": "code",
          "checksum": "ca7a9b013e6bb12d37406056506a66a6",
          "grade": true,
          "grade_id": "list_test",
          "locked": true,
          "points": 0.5,
          "schema_version": 3,
          "solution": false,
          "task": false
        },
        "tags": [],
        "pycharm": {
          "name": "#%%\n"
        },
        "id": "fbc4a8ce-f4c3-4bdd-a191-8c3baf801e12"
      },
      "outputs": [],
      "source": [
        "# run tests to check your implementation\n",
        "assert my_list\n",
        "assert len(my_list) == 5, \"Check if you created the list with all the elements\"\n",
        "assert my_list[2] == \"hello\", \"Check if all elements are in the right order\""
      ]
    },
    {
      "cell_type": "markdown",
      "id": "a5775933-e8c6-4ad0-a865-1cfa35c876af",
      "metadata": {
        "pycharm": {
          "name": "#%% md\n"
        },
        "id": "a5775933-e8c6-4ad0-a865-1cfa35c876af"
      },
      "source": [
        "##### 2.2 Create a variable ``result`` which adds the 2nd and 4th element of ``my_list`` using their index:"
      ]
    },
    {
      "cell_type": "code",
      "execution_count": 105,
      "id": "bf2d0965-9a4b-4993-a247-4cf03b37aff7",
      "metadata": {
        "deletable": false,
        "nbgrader": {
          "cell_type": "code",
          "checksum": "bb39986a45b594f1ae4b91c893f3a857",
          "grade": false,
          "grade_id": "list_index",
          "locked": false,
          "schema_version": 3,
          "solution": true,
          "task": false
        },
        "tags": [],
        "pycharm": {
          "name": "#%%\n"
        },
        "id": "bf2d0965-9a4b-4993-a247-4cf03b37aff7"
      },
      "outputs": [],
      "source": [
        "result = my_list[1]+my_list[3]"
      ]
    },
    {
      "cell_type": "code",
      "execution_count": 106,
      "id": "94353778-ecc3-4ad9-88b6-e123c4d419c2",
      "metadata": {
        "deletable": false,
        "editable": false,
        "nbgrader": {
          "cell_type": "code",
          "checksum": "f557b0ebd821eafcdcbc55bfef48ab92",
          "grade": true,
          "grade_id": "list_index_test",
          "locked": true,
          "points": 0.5,
          "schema_version": 3,
          "solution": false,
          "task": false
        },
        "tags": [],
        "pycharm": {
          "name": "#%%\n"
        },
        "id": "94353778-ecc3-4ad9-88b6-e123c4d419c2"
      },
      "outputs": [],
      "source": [
        "# run tests to check your implementation\n",
        "assert result\n",
        "assert result == 6"
      ]
    },
    {
      "cell_type": "markdown",
      "id": "cf9550ce-909c-4fec-85a1-a9a38c0f95e4",
      "metadata": {
        "pycharm": {
          "name": "#%% md\n"
        },
        "id": "cf9550ce-909c-4fec-85a1-a9a38c0f95e4"
      },
      "source": [
        "##### 2.3 Create a list ``sub_list`` which contains the 3rd, 4th, and 5th element of ``my_list`` using slicing:"
      ]
    },
    {
      "cell_type": "code",
      "execution_count": 107,
      "id": "01dc2193-fd45-4be9-be79-6c41aa58deb8",
      "metadata": {
        "deletable": false,
        "nbgrader": {
          "cell_type": "code",
          "checksum": "81c23e047f76a6e860517773ddf6a56d",
          "grade": false,
          "grade_id": "list_slicing",
          "locked": false,
          "schema_version": 3,
          "solution": true,
          "task": false
        },
        "tags": [],
        "pycharm": {
          "name": "#%%\n"
        },
        "id": "01dc2193-fd45-4be9-be79-6c41aa58deb8",
        "colab": {
          "base_uri": "https://localhost:8080/"
        },
        "outputId": "8d741334-af92-4d89-8011-8ef9958c375b"
      },
      "outputs": [
        {
          "output_type": "stream",
          "name": "stdout",
          "text": [
            "['hello', 4, True]\n"
          ]
        }
      ],
      "source": [
        "sub_list= my_list[2:5:1]\n",
        "print (sub_list)"
      ]
    },
    {
      "cell_type": "code",
      "execution_count": 108,
      "id": "23df79df-ce70-4407-8949-cfee1396c30d",
      "metadata": {
        "deletable": false,
        "editable": false,
        "nbgrader": {
          "cell_type": "code",
          "checksum": "8740897cad0e67f93d7150847891a5c2",
          "grade": true,
          "grade_id": "list_slicing_test",
          "locked": true,
          "points": 0.5,
          "schema_version": 3,
          "solution": false,
          "task": false
        },
        "tags": [],
        "pycharm": {
          "name": "#%%\n"
        },
        "id": "23df79df-ce70-4407-8949-cfee1396c30d"
      },
      "outputs": [],
      "source": [
        "# run tests to check your implementation\n",
        "assert sub_list\n",
        "assert len(sub_list) == 3, \"Check the length of your sub_list and your indices. Did you consider how the last element is handled in slicing?\""
      ]
    },
    {
      "cell_type": "markdown",
      "id": "9c479dee-37da-49aa-90f6-cdfa4526d5ab",
      "metadata": {
        "pycharm": {
          "name": "#%% md\n"
        },
        "id": "9c479dee-37da-49aa-90f6-cdfa4526d5ab"
      },
      "source": [
        "##### 2.4 Insert at the 4th position of ``new_list`` the string ``world``. Delete ``4`` out of ``new_list``:"
      ]
    },
    {
      "cell_type": "code",
      "execution_count": 109,
      "id": "6c5f7e46-4da9-402f-ac95-3e9f022d89b2",
      "metadata": {
        "deletable": false,
        "nbgrader": {
          "cell_type": "code",
          "checksum": "bd0d9356f1ab317439b5fa97e15e6771",
          "grade": false,
          "grade_id": "list_ins_del",
          "locked": false,
          "schema_version": 3,
          "solution": true,
          "task": false
        },
        "tags": [],
        "pycharm": {
          "name": "#%%\n"
        },
        "id": "6c5f7e46-4da9-402f-ac95-3e9f022d89b2",
        "colab": {
          "base_uri": "https://localhost:8080/"
        },
        "outputId": "d5d7b4b1-f027-4426-f618-abd8a78be01e"
      },
      "outputs": [
        {
          "output_type": "stream",
          "name": "stdout",
          "text": [
            "[1, 2, 'hello', 'world', True]\n"
          ]
        }
      ],
      "source": [
        "new_list = my_list.copy()\n",
        "new_list.insert(4, \"world\")\n",
        "new_list.remove(4)\n",
        "\n",
        "\n",
        "print(new_list)"
      ]
    },
    {
      "cell_type": "code",
      "execution_count": 110,
      "id": "729fd5fd-d11b-4bc0-b225-e989dce484af",
      "metadata": {
        "deletable": false,
        "editable": false,
        "nbgrader": {
          "cell_type": "code",
          "checksum": "a2e79ae9d4e195931b1ee63e58bc85a9",
          "grade": true,
          "grade_id": "list_ins_del_test",
          "locked": true,
          "points": 0.5,
          "schema_version": 3,
          "solution": false,
          "task": false
        },
        "tags": [],
        "pycharm": {
          "name": "#%%\n"
        },
        "id": "729fd5fd-d11b-4bc0-b225-e989dce484af"
      },
      "outputs": [],
      "source": [
        "# run tests to check your implementation\n",
        "assert len(new_list) == 5, \"Check if you performed both operations (inserting, deleting)\"\n",
        "assert new_list[3] == \"world\", \"Check if you used the correct index for inserting\"\n",
        "assert 4 not in new_list, \"Check if you deleted 4 out of the list\""
      ]
    },
    {
      "cell_type": "markdown",
      "id": "1149d74e-0c1b-47af-bc0e-36e3a27cd3e7",
      "metadata": {
        "pycharm": {
          "name": "#%% md\n"
        },
        "id": "1149d74e-0c1b-47af-bc0e-36e3a27cd3e7"
      },
      "source": [
        "##### 2.5 Append ``tmp_list`` to ``new_list``:"
      ]
    },
    {
      "cell_type": "code",
      "execution_count": 111,
      "id": "c604ac98-cb66-4db7-a1e0-744cf656f0ea",
      "metadata": {
        "deletable": false,
        "nbgrader": {
          "cell_type": "code",
          "checksum": "5b64fbd3247dcc4d6d6df756a4e97f2d",
          "grade": false,
          "grade_id": "list_append",
          "locked": false,
          "schema_version": 3,
          "solution": true,
          "task": false
        },
        "tags": [],
        "pycharm": {
          "name": "#%%\n"
        },
        "id": "c604ac98-cb66-4db7-a1e0-744cf656f0ea",
        "colab": {
          "base_uri": "https://localhost:8080/"
        },
        "outputId": "0854a251-3631-45d1-8d6a-5804d68ba37c"
      },
      "outputs": [
        {
          "output_type": "stream",
          "name": "stdout",
          "text": [
            "[1, 2, 'hello', 4, True, [False, 'hi', 3]]\n",
            "length of new_list: 6\n"
          ]
        }
      ],
      "source": [
        "tmp_list = [False, \"hi\", 3]\n",
        "new_list = my_list.copy()\n",
        "new_list.append(tmp_list)\n",
        "\n",
        "\n",
        "\n",
        "print(new_list)\n",
        "print(f\"length of new_list: {len(new_list)}\")"
      ]
    },
    {
      "cell_type": "code",
      "execution_count": 112,
      "id": "a99bfb8c-a305-48e2-9b0c-5ecb003beb20",
      "metadata": {
        "deletable": false,
        "editable": false,
        "nbgrader": {
          "cell_type": "code",
          "checksum": "0d861ebc86143db2fbdf3ded49b5378a",
          "grade": true,
          "grade_id": "list_append_test",
          "locked": true,
          "points": 0.5,
          "schema_version": 3,
          "solution": false,
          "task": false
        },
        "tags": [],
        "pycharm": {
          "name": "#%%\n"
        },
        "id": "a99bfb8c-a305-48e2-9b0c-5ecb003beb20"
      },
      "outputs": [],
      "source": [
        "# run tests to check your implementation\n",
        "assert len(new_list) == 6, \"The length of new_list must be 6\""
      ]
    },
    {
      "cell_type": "markdown",
      "id": "cd4cba92-1b91-4161-9caf-29278b2b36d7",
      "metadata": {
        "pycharm": {
          "name": "#%% md\n"
        },
        "id": "cd4cba92-1b91-4161-9caf-29278b2b36d7"
      },
      "source": [
        "##### 2.6 Extend ``new_list`` with ``tmp_list`` from above:"
      ]
    },
    {
      "cell_type": "code",
      "execution_count": 113,
      "id": "0f237a8f-c420-4e83-bab7-40c0a5919a81",
      "metadata": {
        "deletable": false,
        "nbgrader": {
          "cell_type": "code",
          "checksum": "4cb0b8bd8829b18aef5d8e43548abeed",
          "grade": false,
          "grade_id": "list_extend",
          "locked": false,
          "schema_version": 3,
          "solution": true,
          "task": false
        },
        "tags": [],
        "pycharm": {
          "name": "#%%\n"
        },
        "id": "0f237a8f-c420-4e83-bab7-40c0a5919a81",
        "colab": {
          "base_uri": "https://localhost:8080/"
        },
        "outputId": "d3dff417-1544-4140-dd90-3c05e6ffed03"
      },
      "outputs": [
        {
          "output_type": "stream",
          "name": "stdout",
          "text": [
            "[1, 2, 'hello', 4, True, False, 'hi', 3]\n",
            "length of new_list: 8\n"
          ]
        }
      ],
      "source": [
        "new_list = my_list.copy()\n",
        "\n",
        "new_list.extend(tmp_list)\n",
        "\n",
        "print(new_list)\n",
        "print(f\"length of new_list: {len(new_list)}\")"
      ]
    },
    {
      "cell_type": "code",
      "execution_count": 114,
      "id": "af9fbe4b-044a-4334-a4d7-0cef0f90c2f8",
      "metadata": {
        "deletable": false,
        "editable": false,
        "nbgrader": {
          "cell_type": "code",
          "checksum": "e329849693c564bf2cc66e6cf7d74cce",
          "grade": true,
          "grade_id": "list_extend_test",
          "locked": true,
          "points": 0.5,
          "schema_version": 3,
          "solution": false,
          "task": false
        },
        "tags": [],
        "pycharm": {
          "name": "#%%\n"
        },
        "id": "af9fbe4b-044a-4334-a4d7-0cef0f90c2f8"
      },
      "outputs": [],
      "source": [
        "# run tests to check your implementation\n",
        "assert len(new_list) == 8, \"The length of new_list must be 8\""
      ]
    },
    {
      "cell_type": "markdown",
      "id": "d4ba5b51-5d97-4221-a5ce-78784d5c4caf",
      "metadata": {
        "pycharm": {
          "name": "#%% md\n"
        },
        "id": "d4ba5b51-5d97-4221-a5ce-78784d5c4caf"
      },
      "source": [
        "* Can you explain the difference between ``append`` and ``extend``?"
      ]
    },
    {
      "cell_type": "markdown",
      "id": "68d97a02-0a96-414f-b99a-d10d1b2d91f5",
      "metadata": {
        "pycharm": {
          "name": "#%% md\n"
        },
        "id": "68d97a02-0a96-414f-b99a-d10d1b2d91f5"
      },
      "source": [
        "\n",
        "\n",
        "```\n",
        "Append: Adds one element at the end of the parent list. Argument passed in the append function is added as single element at end of the list and the length of the list is increased by 1 only.\n",
        "\n",
        "Extend: Adds each element of the iterable passed to the end of the parent list . It increases the length of the list by the number of elements of the iterable passed as an argument.\n",
        "```\n",
        "\n"
      ]
    },
    {
      "cell_type": "markdown",
      "id": "f8e3f1b5-16c6-4393-9f4c-111f9a3b5fbe",
      "metadata": {
        "pycharm": {
          "name": "#%% md\n"
        },
        "id": "f8e3f1b5-16c6-4393-9f4c-111f9a3b5fbe"
      },
      "source": [
        "##### 2.7 Create 2 variables\n",
        "* ``var_1``: checks whether ``my_list`` contains \"hello, world!\"\n",
        "* ``var_2``: checks whether ``my_list`` contains 4"
      ]
    },
    {
      "cell_type": "code",
      "execution_count": 115,
      "id": "a26c61ae-5edb-44e9-ae67-12bf983e0b04",
      "metadata": {
        "deletable": false,
        "nbgrader": {
          "cell_type": "code",
          "checksum": "bc81f0d0bbda5b3f40fed266f5f10b55",
          "grade": false,
          "grade_id": "list_member",
          "locked": false,
          "schema_version": 3,
          "solution": true,
          "task": false
        },
        "tags": [],
        "pycharm": {
          "name": "#%%\n"
        },
        "id": "a26c61ae-5edb-44e9-ae67-12bf983e0b04",
        "colab": {
          "base_uri": "https://localhost:8080/"
        },
        "outputId": "eb94611c-21dd-406d-df0d-348aa526567c"
      },
      "outputs": [
        {
          "output_type": "stream",
          "name": "stdout",
          "text": [
            "False\n",
            "True\n"
          ]
        }
      ],
      "source": [
        "var_1 = \"hello, world!\" in my_list\n",
        "var_2 = 4 in my_list\n",
        "\n",
        "\n",
        "print(var_1)\n",
        "print(var_2)"
      ]
    },
    {
      "cell_type": "code",
      "execution_count": 116,
      "id": "e6b987e7-71c4-4091-9569-dd2b297a52d2",
      "metadata": {
        "deletable": false,
        "editable": false,
        "nbgrader": {
          "cell_type": "code",
          "checksum": "dce3e8e1a243c2cf22d3e3799b91c65c",
          "grade": true,
          "grade_id": "list_member_test",
          "locked": true,
          "points": 0.5,
          "schema_version": 3,
          "solution": false,
          "task": false
        },
        "tags": [],
        "pycharm": {
          "name": "#%%\n"
        },
        "id": "e6b987e7-71c4-4091-9569-dd2b297a52d2"
      },
      "outputs": [],
      "source": [
        "# run tests to check your implementation\n",
        "assert type(var_1) == bool\n",
        "assert type(var_2) == bool"
      ]
    },
    {
      "cell_type": "markdown",
      "id": "e9b635d1-714a-49f4-81ff-818d580a4160",
      "metadata": {
        "pycharm": {
          "name": "#%% md\n"
        },
        "id": "e9b635d1-714a-49f4-81ff-818d580a4160"
      },
      "source": [
        "#### 3. if-statement\n",
        "An if-statement is a control flow statement that allows you to execute a certain block of code only if a particular condition evaluates to true.\n",
        "##### 3.1 Create an if - elif - else statement that checks whether a variable is equal to, greater, or less than 0. To do so:\n",
        "* create a variable called ``x`` and assign -5 to it\n",
        "* if x is equal to 0: print \"x is equal to 0\"\n",
        "* if x is less than 0: print \"x is negative\"\n",
        "* if x is greater than 0: print \"x is positive\"\n",
        "* play around with different values for x to check your implementation"
      ]
    },
    {
      "cell_type": "code",
      "execution_count": 117,
      "id": "bfd46294-cf4b-46f5-8b28-2f624ac5cc4b",
      "metadata": {
        "deletable": false,
        "nbgrader": {
          "cell_type": "code",
          "checksum": "c9b1e1845dcf37b76ca0b6da07b9d1be",
          "grade": false,
          "grade_id": "simple_if",
          "locked": false,
          "schema_version": 3,
          "solution": true,
          "task": false
        },
        "tags": [],
        "pycharm": {
          "name": "#%%\n"
        },
        "id": "bfd46294-cf4b-46f5-8b28-2f624ac5cc4b",
        "colab": {
          "base_uri": "https://localhost:8080/"
        },
        "outputId": "239609a6-eb94-4e23-d3b9-8e3d76e21632"
      },
      "outputs": [
        {
          "output_type": "stream",
          "name": "stdout",
          "text": [
            "x is negative\n"
          ]
        }
      ],
      "source": [
        "x = -5\n",
        "if x==0:\n",
        "  print (\"x is equal to 0\")\n",
        "elif x<0:\n",
        "  print(\"x is negative\")\n",
        "else:\n",
        "  print(\"x is positive\")\n",
        "\n",
        "\n"
      ]
    },
    {
      "cell_type": "markdown",
      "id": "804517dd-4550-4b31-b365-7aa414d479c3",
      "metadata": {
        "pycharm": {
          "name": "#%% md\n"
        },
        "id": "804517dd-4550-4b31-b365-7aa414d479c3"
      },
      "source": [
        "##### 3.2 Implement a function that checks the potassium level of a person. The potassium level is usually between 3.7 and 5.3 mEq/l (milliequivalents per liter), inclusive both endpoints. To do so:\n",
        "* create a function called ``check_potassium`` that takes ``value`` as an argument\n",
        "* check if ``value`` is in the given normal potassium range\n",
        "    * if yes: print an informative message (e.g. \"the potassium level is in the correct range\") and return True\n",
        "    * if no: print an informative message and return False\n",
        "* Play around with different values to see if your implementation works correctly\n",
        "\n",
        "**Hint:** You can combine two conditions using logical operators. Also, you can create a variable to store your return value temporarily."
      ]
    },
    {
      "cell_type": "code",
      "execution_count": 118,
      "id": "de826a58-9650-4c33-9d92-bcc61a628cae",
      "metadata": {
        "deletable": false,
        "nbgrader": {
          "cell_type": "code",
          "checksum": "972585335708f5cb9d6f238bcf494fd2",
          "grade": false,
          "grade_id": "check_potassium",
          "locked": false,
          "schema_version": 3,
          "solution": true,
          "task": false
        },
        "tags": [],
        "pycharm": {
          "name": "#%%\n"
        },
        "id": "de826a58-9650-4c33-9d92-bcc61a628cae"
      },
      "outputs": [],
      "source": [
        "def check_potassium (value):\n",
        "  #value = 4.5\n",
        "  if (value >=3.7 and value <= 5.3):\n",
        "    print(\"potassium level is in the correct range\")\n",
        "    out = True\n",
        "  else:\n",
        "    print(\"potassium level is abnormal\")\n",
        "    out = False\n",
        "  return out\n"
      ]
    },
    {
      "cell_type": "code",
      "execution_count": 119,
      "id": "cdce67fd-622f-4914-a0ac-504c266e4505",
      "metadata": {
        "deletable": false,
        "editable": false,
        "nbgrader": {
          "cell_type": "code",
          "checksum": "8831933cb0bbda2b107162c595f0d442",
          "grade": true,
          "grade_id": "check_potassium_test",
          "locked": true,
          "points": 1,
          "schema_version": 3,
          "solution": false,
          "task": false
        },
        "tags": [],
        "pycharm": {
          "name": "#%%\n"
        },
        "id": "cdce67fd-622f-4914-a0ac-504c266e4505",
        "colab": {
          "base_uri": "https://localhost:8080/"
        },
        "outputId": "d893964d-fc14-4544-c6ab-07f24a059481"
      },
      "outputs": [
        {
          "output_type": "stream",
          "name": "stdout",
          "text": [
            "potassium level is in the correct range\n",
            "potassium level is abnormal\n",
            "potassium level is in the correct range\n"
          ]
        }
      ],
      "source": [
        "# run tests to check your implementation\n",
        "assert check_potassium(4.0) == True, \"Check if you used the correct potassium range\"\n",
        "assert check_potassium(3.0) == False, \"Check if you used the correct potassium range\"\n",
        "assert check_potassium(5.3) == True, \"Check if you used the correct potassium range\""
      ]
    },
    {
      "cell_type": "markdown",
      "id": "e6d92950-28c9-42de-92f2-91ef70c59296",
      "metadata": {
        "pycharm": {
          "name": "#%% md\n"
        },
        "id": "e6d92950-28c9-42de-92f2-91ef70c59296"
      },
      "source": [
        "##### 3.3 Implement a function that checks the hemoglobin level based on the age of the person. Assume the hemoglobin levels to be as follows:\n",
        "* 0 - 17 years: 10 - 15.5 g/dl (grams per deciliter)\n",
        "* \\>= 18 years: 12 - 18 g/dl (grams per deciliter)\n",
        "\n",
        "To do so:\n",
        "* create a function called ``check_hemoglobin`` that takes ``age`` and ``value`` as arguments\n",
        "* create a nested if-construct\n",
        "    * outer if-statement checks the range of ``age``\n",
        "    * inner if-statements checks based on the age the correct range of hemoglobin level\n",
        "        * if it is in the correct range print an informative message and return True\n",
        "        * if it is **not** in the correct range print an informative message and return False\n",
        "\n"
      ]
    },
    {
      "cell_type": "code",
      "execution_count": 120,
      "id": "828cb3cc-7caf-4351-9988-324d7d2281be",
      "metadata": {
        "deletable": false,
        "nbgrader": {
          "cell_type": "code",
          "checksum": "69abaea78dc30c85e6ca5b8bcb5e9470",
          "grade": false,
          "grade_id": "check_hemoglobin",
          "locked": false,
          "schema_version": 3,
          "solution": true,
          "task": false
        },
        "tags": [],
        "pycharm": {
          "name": "#%%\n"
        },
        "id": "828cb3cc-7caf-4351-9988-324d7d2281be"
      },
      "outputs": [],
      "source": [
        "def check_hemoglobin(age, value):\n",
        "  if age >= 18:\n",
        "    if value>=12.0 and value<=18.0:\n",
        "      print(\"reports of the adult are normal\")\n",
        "      output=True\n",
        "    else:\n",
        "      print(\"reports of the adult are abnormal\")\n",
        "      output=False\n",
        "  else:\n",
        "    if value>=10.0 and value<=15.5:\n",
        "      print(\"reports of the child are normal\")\n",
        "      output=True\n",
        "    else:\n",
        "      print(\"reports of the child are abnormal\")\n",
        "      output= False\n",
        "      \n",
        "  return output"
      ]
    },
    {
      "cell_type": "code",
      "execution_count": 121,
      "id": "c1f7e9b2-fab5-41a1-9a45-a363c0805ee4",
      "metadata": {
        "deletable": false,
        "editable": false,
        "nbgrader": {
          "cell_type": "code",
          "checksum": "936543a08c006261f2cb980b7d0ae1f9",
          "grade": true,
          "grade_id": "check_hemoglobin_test",
          "locked": true,
          "points": 2,
          "schema_version": 3,
          "solution": false,
          "task": false
        },
        "tags": [],
        "pycharm": {
          "name": "#%%\n"
        },
        "id": "c1f7e9b2-fab5-41a1-9a45-a363c0805ee4",
        "colab": {
          "base_uri": "https://localhost:8080/"
        },
        "outputId": "0649ebe4-d831-445f-b7c3-0d1ca3a89dca"
      },
      "outputs": [
        {
          "output_type": "stream",
          "name": "stdout",
          "text": [
            "reports of the adult are abnormal\n",
            "reports of the adult are normal\n",
            "reports of the adult are abnormal\n",
            "reports of the child are normal\n",
            "reports of the child are abnormal\n"
          ]
        }
      ],
      "source": [
        "# run tests to check your implementation\n",
        "assert check_hemoglobin(18, 10.5) == False, \"Check if you set the age range correctly. Check if you used the correct hemoglobin range for adult people\"\n",
        "assert check_hemoglobin(23, 12.0) == True, \"Check if you used the correct hemoglobin range for adult people\"\n",
        "assert check_hemoglobin(23, 11.9) == False, \"Check if you used the correct hemoglobin range for adult people\"\n",
        "assert check_hemoglobin(16, 15.5) == True, \"Check if you used the correct hemoglobin range for underage people\"\n",
        "assert check_hemoglobin(16, 15.6) == False, \"Check if you used the correct hemoglobin range for underage people\""
      ]
    },
    {
      "cell_type": "markdown",
      "id": "0db2a17a-d463-4d09-a3ae-8d9b04491a20",
      "metadata": {
        "pycharm": {
          "name": "#%% md\n"
        },
        "id": "0db2a17a-d463-4d09-a3ae-8d9b04491a20"
      },
      "source": [
        "#### 4. Loops\n",
        "Loops are a way to execute a block of code repeatedly. There are typically two types of loops:\n",
        "1. **For loops** allow you to iterate over a sequence of elements (such as a list or range of numbers) and execute a block of code for each element in the sequence.\n",
        "2. **While loops** allow you to execute a block of code repeatedly while a certain condition is true.\n",
        "\n",
        "##### 4.1 Create a function ``calc_sum`` that takes a list of values as argument ``values``. Then calculate the sum of the list entries using a for loop and return the sum:\n",
        "**Hint:** Initialize a variable ``sum`` before the loop and assign it to 0. Test your solution with ``numbers``."
      ]
    },
    {
      "cell_type": "code",
      "execution_count": 122,
      "id": "471e13c2-2890-448e-8a90-8b948b74944c",
      "metadata": {
        "deletable": false,
        "nbgrader": {
          "cell_type": "code",
          "checksum": "5f7cef763328dea28d3aa802c3225b22",
          "grade": false,
          "grade_id": "for_sum",
          "locked": false,
          "schema_version": 3,
          "solution": true,
          "task": false
        },
        "tags": [],
        "pycharm": {
          "name": "#%%\n"
        },
        "id": "471e13c2-2890-448e-8a90-8b948b74944c"
      },
      "outputs": [],
      "source": [
        "numbers = [23, 27, 21, 19]\n",
        "\n",
        "def calc_sum(values):\n",
        "  sum=0\n",
        "  #values = numbers\n",
        "  for i in values:\n",
        "    sum+=i\n",
        "  print(sum)\n",
        "  return sum\n"
      ]
    },
    {
      "cell_type": "code",
      "execution_count": 123,
      "id": "2ebedaaf-220a-481e-8277-c4ead30f1264",
      "metadata": {
        "deletable": false,
        "editable": false,
        "nbgrader": {
          "cell_type": "code",
          "checksum": "811e986da13ab38a1a6b6fd1ea01eea3",
          "grade": true,
          "grade_id": "for_sum_test",
          "locked": true,
          "points": 1,
          "schema_version": 3,
          "solution": false,
          "task": false
        },
        "tags": [],
        "pycharm": {
          "name": "#%%\n"
        },
        "id": "2ebedaaf-220a-481e-8277-c4ead30f1264",
        "colab": {
          "base_uri": "https://localhost:8080/"
        },
        "outputId": "48d62d43-53be-461d-9fd6-4f3d049b3fa0"
      },
      "outputs": [
        {
          "output_type": "stream",
          "name": "stdout",
          "text": [
            "90\n"
          ]
        }
      ],
      "source": [
        "# run tests to check your implementation \n",
        "assert calc_sum([23, 27, 21, 19]) == 90, \"Check your for loop syntax and used operator\""
      ]
    },
    {
      "cell_type": "markdown",
      "id": "ed6ff861-6773-4755-be8c-88a03eb12574",
      "metadata": {
        "pycharm": {
          "name": "#%% md\n"
        },
        "id": "ed6ff861-6773-4755-be8c-88a03eb12574"
      },
      "source": [
        "##### 4.2 Create a function ``arange`` which generates lists of ascending numbers using a while loop. It takes the following arguments:\n",
        "* ``start``: start of the interval, included\n",
        "* ``stop``: stop of the interval, excluded\n",
        "* ``step``: spacing between values\n",
        "\n",
        "To do so:\n",
        "* create a control variable ``n`` and initialize it with ``start``\n",
        "* initialize an empty list ``numbers``\n",
        "* create a while loop that checks the current value of ``n`` and runs until ``stop``\n",
        "* append ``n`` to ``numbers``\n",
        "* add ``step`` in every iteration to your control variable.\n",
        "* return ``numbers``"
      ]
    },
    {
      "cell_type": "code",
      "execution_count": 124,
      "id": "ede92b7f-f461-4f93-a706-6fa8b443c3f7",
      "metadata": {
        "deletable": false,
        "nbgrader": {
          "cell_type": "code",
          "checksum": "9a95297d108f66dc05ae3cd2a393d112",
          "grade": false,
          "grade_id": "while_arange",
          "locked": false,
          "schema_version": 3,
          "solution": true,
          "task": false
        },
        "tags": [],
        "pycharm": {
          "name": "#%%\n"
        },
        "id": "ede92b7f-f461-4f93-a706-6fa8b443c3f7"
      },
      "outputs": [],
      "source": [
        "def arange(start,stop,step):\n",
        "  n= start\n",
        "  numbers=[]\n",
        "  while (n<stop):\n",
        "    numbers.append(n)\n",
        "    n+=step\n",
        "  print (numbers)\n",
        "\n",
        "  return numbers\n",
        "\n"
      ]
    },
    {
      "cell_type": "code",
      "execution_count": 125,
      "id": "3ba147ae-c1ad-46a7-83f2-e79b5022024c",
      "metadata": {
        "deletable": false,
        "editable": false,
        "nbgrader": {
          "cell_type": "code",
          "checksum": "6478d64d3fca0677ee873a874b283153",
          "grade": true,
          "grade_id": "while_arange_test",
          "locked": true,
          "points": 1,
          "schema_version": 3,
          "solution": false,
          "task": false
        },
        "tags": [],
        "pycharm": {
          "name": "#%%\n"
        },
        "id": "3ba147ae-c1ad-46a7-83f2-e79b5022024c",
        "colab": {
          "base_uri": "https://localhost:8080/"
        },
        "outputId": "b6bbf621-a662-4e02-87f1-76167689cd08"
      },
      "outputs": [
        {
          "output_type": "stream",
          "name": "stdout",
          "text": [
            "[5, 6, 7, 8, 9]\n",
            "[5, 7, 9]\n"
          ]
        }
      ],
      "source": [
        "# run tests to check your implementation\n",
        "assert arange(5, 10, 1) == [5, 6, 7, 8, 9], \"Check if you set start and stop correctly, used the right operator, and performed all steps in the right order\"\n",
        "assert arange(5, 10, 2) == [5, 7, 9], \"Check if you set start and stop correctly, used the right operator, and performed all steps in the right order\""
      ]
    },
    {
      "cell_type": "markdown",
      "id": "c62fe998-f2bb-4db0-a306-3f791346cc92",
      "metadata": {
        "pycharm": {
          "name": "#%% md\n"
        },
        "id": "c62fe998-f2bb-4db0-a306-3f791346cc92"
      },
      "source": [
        "#### 5. Typecasting\n",
        "Typecasting, also known as type conversion, is the process of converting a value of one data type to another data type. This can be useful in programming when you want to perform operations that require values of a specific data type.\n",
        "\n",
        "##### 5.1 Convert the following variables to the specified data types:\n",
        "* x from ``float`` to ``int``\n",
        "* y from ``float`` to ``bool``\n",
        "* z from ``int`` to ``float``"
      ]
    },
    {
      "cell_type": "code",
      "execution_count": 126,
      "id": "3010f634-fde7-402c-b66b-76c57af9c14a",
      "metadata": {
        "deletable": false,
        "nbgrader": {
          "cell_type": "code",
          "checksum": "69ca3faffa78b72d9b5edbba2c9ff1a5",
          "grade": false,
          "grade_id": "typecasting",
          "locked": false,
          "schema_version": 3,
          "solution": true,
          "task": false
        },
        "tags": [],
        "pycharm": {
          "name": "#%%\n"
        },
        "id": "3010f634-fde7-402c-b66b-76c57af9c14a",
        "colab": {
          "base_uri": "https://localhost:8080/"
        },
        "outputId": "1dda7788-0d3d-4b6b-e79d-af0dd3fbb73a"
      },
      "outputs": [
        {
          "output_type": "stream",
          "name": "stdout",
          "text": [
            "8\n",
            "True\n",
            "9.0\n"
          ]
        }
      ],
      "source": [
        "x = 8.7\n",
        "y = 1.0\n",
        "z = 9\n",
        "\n",
        "x = int(x)\n",
        "y = bool(y)\n",
        "z = float(z)\n",
        "\n",
        "print(x)\n",
        "print(y)\n",
        "print(z)"
      ]
    },
    {
      "cell_type": "code",
      "execution_count": 127,
      "id": "ea3a75e3-58a5-4137-bde8-f7a2152fdf47",
      "metadata": {
        "deletable": false,
        "editable": false,
        "nbgrader": {
          "cell_type": "code",
          "checksum": "d70889aa7f4aa01c578f5569e1452f8b",
          "grade": true,
          "grade_id": "typecasting_test",
          "locked": true,
          "points": 0.5,
          "schema_version": 3,
          "solution": false,
          "task": false
        },
        "tags": [],
        "pycharm": {
          "name": "#%%\n"
        },
        "id": "ea3a75e3-58a5-4137-bde8-f7a2152fdf47"
      },
      "outputs": [],
      "source": [
        "# run tests to check your implementation\n",
        "assert type(x) == int, \"Check if you converted x to the correct data type\"\n",
        "assert type(y) == bool, \"Check if you converted y to the correct data type\"\n",
        "assert type(z) == float, \"Check if you converted z to the correct data type\""
      ]
    }
  ],
  "metadata": {
    "kernelspec": {
      "display_name": "Python 3",
      "name": "python3"
    },
    "language_info": {
      "name": "python"
    },
    "colab": {
      "provenance": [],
      "include_colab_link": true
    },
    "gpuClass": "standard"
  },
  "nbformat": 4,
  "nbformat_minor": 5
}