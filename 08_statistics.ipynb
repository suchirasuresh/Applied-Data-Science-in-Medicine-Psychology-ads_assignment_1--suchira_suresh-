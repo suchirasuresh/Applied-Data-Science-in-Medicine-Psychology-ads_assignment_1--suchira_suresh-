{
  "cells": [
    {
      "cell_type": "markdown",
      "metadata": {
        "id": "view-in-github",
        "colab_type": "text"
      },
      "source": [
        "<a href=\"https://colab.research.google.com/github/suchirasuresh/Applied-Data-Science-in-Medicine-Psychology-ads_assignment_1--suchira_suresh-/blob/main/08_statistics.ipynb\" target=\"_parent\"><img src=\"https://colab.research.google.com/assets/colab-badge.svg\" alt=\"Open In Colab\"/></a>"
      ]
    },
    {
      "cell_type": "markdown",
      "id": "b4ff8cb8",
      "metadata": {
        "pycharm": {
          "name": "#%% md\n"
        },
        "id": "b4ff8cb8"
      },
      "source": [
        "Fill in your github username and idm credentials below:"
      ]
    },
    {
      "cell_type": "code",
      "execution_count": null,
      "id": "f0b21494",
      "metadata": {
        "pycharm": {
          "is_executing": true,
          "name": "#%%\n"
        },
        "vscode": {
          "languageId": "python"
        },
        "id": "f0b21494"
      },
      "outputs": [],
      "source": [
        "github_username = \"suchirasuresh\"\n",
        "idm_credentials = \"yh07ajaw\""
      ]
    },
    {
      "cell_type": "markdown",
      "id": "4b335cbf",
      "metadata": {
        "pycharm": {
          "name": "#%% md\n"
        },
        "id": "4b335cbf"
      },
      "source": [
        "---"
      ]
    },
    {
      "cell_type": "markdown",
      "id": "755c6140-79ab-496f-9e79-71972edca5bc",
      "metadata": {
        "pycharm": {
          "name": "#%% md\n"
        },
        "id": "755c6140-79ab-496f-9e79-71972edca5bc"
      },
      "source": [
        "# **Applied Data Science in Medicine & Psychology - Assignment 8**\n",
        "## Statistics\n",
        "---\n",
        "**Deadline: 04.07.2023, 23:59**\n",
        "### **General setup and submission**\n",
        "1. Save an editable copy of this notebook to your Google Drive ``File`` $\\rightarrow$ ``Save a copy in Drive`` and remove the automatically appended \"Copy of\" text. **Do not change the file name**.\n",
        "2. Work on the assignment in the *copied* version of the notebook. Make sure that you **replace** all parts of the tasks indicated with *YOUR CODE HERE* and **raise NotImplementedError()** (otherwise this causes an error in your implementation) or *YOUR ANSWER HERE* with your solution.\n",
        "3. If you take a break during the implementation, you can save the current status of your work in your repository following the submission instructions below. When you continue working on the assignment, do this in the version of the notebook that you saved in your Google Drive (access from your Google Colab account) or your repository.\n",
        "4. After finishing the assignment submit your assignment as follows:\n",
        "    * Check that everything runs as expected. To do that select in the menubar ``Runtime`` $\\rightarrow$ ``Restart and run all``. This will clear all your local variables and runs your notebook from the beginning\n",
        "    * Save your notebook, click ``File`` $\\rightarrow$ ``Save``\n",
        "    * Click ``File`` $\\rightarrow$ ``Save a copy in GitHub``\n",
        "    * Select ``digikolleg-data-science-psychology/08_statistics-<username>`` from the Repository drop-down menu\n",
        "    * Type ``08_statistics.ipynb`` into the File path text box\n",
        "    * Optionally, you may enter a description into the \"Commit message\" text box (like: \"solved task 1\" or \"ready for grading\")\n",
        "    * Make sure that the \"Include a link to Colaboratory\" box is checked\n",
        "    * Press \"Ok\"\n",
        "    * A new tab or window should open up, displaying your submitted notebook within your GitHub repository\n",
        "\n",
        "Before the assignment deadline, you can re-submit your assignment as often as you would like. This will update the copy of your assignment file in your assignment's repository."
      ]
    },
    {
      "cell_type": "markdown",
      "id": "2fe61c2c-a030-4c02-8214-7db7d1c10df5",
      "metadata": {
        "id": "2fe61c2c-a030-4c02-8214-7db7d1c10df5"
      },
      "source": [
        "### **Assignment Description**\n",
        "In this assignment, you will dive into the world of statistics using Python libraries. You will learn to generate distributions, correct outliers, and perform different types of statistical analyses on two datasets.\n",
        "\n",
        "#### **Assignment goals**\n",
        "You are going to learn the following things in this assignment:\n",
        "1. how to create distributions with different parameters\n",
        "2. how to perform one way of outlier correction\n",
        "3. how to perform preparatory analysis using a library\n",
        "4. how to perform statistical analysis using a library\n",
        "\n",
        "#### **Assignment point value**\n",
        "This assignment is worth a total (up to) **11** points. If your code passes all of the manual and automatic tests you will receive full credit."
      ]
    },
    {
      "cell_type": "markdown",
      "id": "89d2a637-e274-43a8-a88a-23bb204e96db",
      "metadata": {
        "id": "89d2a637-e274-43a8-a88a-23bb204e96db"
      },
      "source": [
        "### **Tasks**\n",
        "Make sure that you now work on your *copied* version of this assignment's notebook."
      ]
    },
    {
      "cell_type": "markdown",
      "id": "42e90337-1130-4412-b037-d1267bc45101",
      "metadata": {
        "id": "42e90337-1130-4412-b037-d1267bc45101"
      },
      "source": [
        "#### 0. Imports and Setup\n",
        "Please **run** the cell below to import the libraries needed for this assignment."
      ]
    },
    {
      "cell_type": "code",
      "execution_count": 1,
      "id": "23f1cef0-5d30-4548-b6b6-4020b3013f8c",
      "metadata": {
        "id": "23f1cef0-5d30-4548-b6b6-4020b3013f8c",
        "colab": {
          "base_uri": "https://localhost:8080/"
        },
        "outputId": "4f7f54ae-a9d0-48a8-be63-d3254b7374c9"
      },
      "outputs": [
        {
          "output_type": "stream",
          "name": "stdout",
          "text": [
            "Collecting biopsykit\n",
            "  Downloading biopsykit-0.9.0-py3-none-any.whl (279 kB)\n",
            "\u001b[2K     \u001b[90m━━━━━━━━━━━━━━━━━━━━━━━━━━━━━━━━━━━━━━━\u001b[0m \u001b[32m279.9/279.9 kB\u001b[0m \u001b[31m5.9 MB/s\u001b[0m eta \u001b[36m0:00:00\u001b[0m\n",
            "\u001b[?25hCollecting XlsxWriter<2,>=1 (from biopsykit)\n",
            "  Downloading XlsxWriter-1.4.5-py2.py3-none-any.whl (149 kB)\n",
            "\u001b[2K     \u001b[90m━━━━━━━━━━━━━━━━━━━━━━━━━━━━━━━━━━━━━━\u001b[0m \u001b[32m149.7/149.7 kB\u001b[0m \u001b[31m19.0 MB/s\u001b[0m eta \u001b[36m0:00:00\u001b[0m\n",
            "\u001b[?25hCollecting bioread<4,>=3 (from biopsykit)\n",
            "  Downloading bioread-3.0.1-py3-none-any.whl (54 kB)\n",
            "\u001b[2K     \u001b[90m━━━━━━━━━━━━━━━━━━━━━━━━━━━━━━━━━━━━━━━━\u001b[0m \u001b[32m54.3/54.3 kB\u001b[0m \u001b[31m6.6 MB/s\u001b[0m eta \u001b[36m0:00:00\u001b[0m\n",
            "\u001b[?25hCollecting fau-colors<2.0,>=1.1 (from biopsykit)\n",
            "  Downloading fau_colors-1.6.0-py3-none-any.whl (9.0 kB)\n",
            "Requirement already satisfied: joblib<2,>=1 in /usr/local/lib/python3.10/dist-packages (from biopsykit) (1.2.0)\n",
            "Requirement already satisfied: matplotlib<4.0,>=3.4 in /usr/local/lib/python3.10/dist-packages (from biopsykit) (3.7.1)\n",
            "Collecting neurokit2<1,>=0 (from biopsykit)\n",
            "  Downloading neurokit2-0.2.4-py2.py3-none-any.whl (1.3 MB)\n",
            "\u001b[2K     \u001b[90m━━━━━━━━━━━━━━━━━━━━━━━━━━━━━━━━━━━━━━━━\u001b[0m \u001b[32m1.3/1.3 MB\u001b[0m \u001b[31m34.2 MB/s\u001b[0m eta \u001b[36m0:00:00\u001b[0m\n",
            "\u001b[?25hCollecting nilspodlib>=3.4.1 (from biopsykit)\n",
            "  Downloading nilspodlib-3.6.0-py3-none-any.whl (38 kB)\n",
            "Requirement already satisfied: numpy<2,>=1 in /usr/local/lib/python3.10/dist-packages (from biopsykit) (1.22.4)\n",
            "Requirement already satisfied: openpyxl<4,>=3 in /usr/local/lib/python3.10/dist-packages (from biopsykit) (3.0.10)\n",
            "Requirement already satisfied: pandas<2,>=1 in /usr/local/lib/python3.10/dist-packages (from biopsykit) (1.5.3)\n",
            "Collecting pingouin<0.6.0,>=0.5.2 (from biopsykit)\n",
            "  Downloading pingouin-0.5.3-py3-none-any.whl (198 kB)\n",
            "\u001b[2K     \u001b[90m━━━━━━━━━━━━━━━━━━━━━━━━━━━━━━━━━━━━━━\u001b[0m \u001b[32m198.6/198.6 kB\u001b[0m \u001b[31m20.7 MB/s\u001b[0m eta \u001b[36m0:00:00\u001b[0m\n",
            "\u001b[?25hRequirement already satisfied: scikit-learn<2.0,>=1.0 in /usr/local/lib/python3.10/dist-packages (from biopsykit) (1.2.2)\n",
            "Requirement already satisfied: scipy<2,>=1 in /usr/local/lib/python3.10/dist-packages (from biopsykit) (1.10.1)\n",
            "Requirement already satisfied: seaborn<1,>=0 in /usr/local/lib/python3.10/dist-packages (from biopsykit) (0.12.2)\n",
            "Collecting statannot<0.3.0,>=0.2.3 (from biopsykit)\n",
            "  Downloading statannot-0.2.3-py3-none-any.whl (10 kB)\n",
            "Requirement already satisfied: statsmodels<0.14,>=0.13 in /usr/local/lib/python3.10/dist-packages (from biopsykit) (0.13.5)\n",
            "Requirement already satisfied: tqdm<5,>=4 in /usr/local/lib/python3.10/dist-packages (from biopsykit) (4.65.0)\n",
            "Requirement already satisfied: xlrd<3,>=2 in /usr/local/lib/python3.10/dist-packages (from biopsykit) (2.0.1)\n",
            "Collecting docopt>=0.6.1 (from bioread<4,>=3->biopsykit)\n",
            "  Downloading docopt-0.6.2.tar.gz (25 kB)\n",
            "  Preparing metadata (setup.py) ... \u001b[?25l\u001b[?25hdone\n",
            "Requirement already satisfied: typing-extensions>=3.7 in /usr/local/lib/python3.10/dist-packages (from fau-colors<2.0,>=1.1->biopsykit) (4.6.3)\n",
            "Requirement already satisfied: contourpy>=1.0.1 in /usr/local/lib/python3.10/dist-packages (from matplotlib<4.0,>=3.4->biopsykit) (1.1.0)\n",
            "Requirement already satisfied: cycler>=0.10 in /usr/local/lib/python3.10/dist-packages (from matplotlib<4.0,>=3.4->biopsykit) (0.11.0)\n",
            "Requirement already satisfied: fonttools>=4.22.0 in /usr/local/lib/python3.10/dist-packages (from matplotlib<4.0,>=3.4->biopsykit) (4.40.0)\n",
            "Requirement already satisfied: kiwisolver>=1.0.1 in /usr/local/lib/python3.10/dist-packages (from matplotlib<4.0,>=3.4->biopsykit) (1.4.4)\n",
            "Requirement already satisfied: packaging>=20.0 in /usr/local/lib/python3.10/dist-packages (from matplotlib<4.0,>=3.4->biopsykit) (23.1)\n",
            "Requirement already satisfied: pillow>=6.2.0 in /usr/local/lib/python3.10/dist-packages (from matplotlib<4.0,>=3.4->biopsykit) (8.4.0)\n",
            "Requirement already satisfied: pyparsing>=2.3.1 in /usr/local/lib/python3.10/dist-packages (from matplotlib<4.0,>=3.4->biopsykit) (3.1.0)\n",
            "Requirement already satisfied: python-dateutil>=2.7 in /usr/local/lib/python3.10/dist-packages (from matplotlib<4.0,>=3.4->biopsykit) (2.8.2)\n",
            "Collecting imucal>=2.0.0 (from nilspodlib>=3.4.1->biopsykit)\n",
            "  Downloading imucal-2.4.0-py3-none-any.whl (23 kB)\n",
            "Requirement already satisfied: et-xmlfile in /usr/local/lib/python3.10/dist-packages (from openpyxl<4,>=3->biopsykit) (1.1.0)\n",
            "Requirement already satisfied: pytz>=2020.1 in /usr/local/lib/python3.10/dist-packages (from pandas<2,>=1->biopsykit) (2022.7.1)\n",
            "Collecting pandas-flavor>=0.2.0 (from pingouin<0.6.0,>=0.5.2->biopsykit)\n",
            "  Downloading pandas_flavor-0.5.0-py3-none-any.whl (7.1 kB)\n",
            "Collecting outdated (from pingouin<0.6.0,>=0.5.2->biopsykit)\n",
            "  Downloading outdated-0.2.2-py2.py3-none-any.whl (7.5 kB)\n",
            "Requirement already satisfied: tabulate in /usr/local/lib/python3.10/dist-packages (from pingouin<0.6.0,>=0.5.2->biopsykit) (0.8.10)\n",
            "Requirement already satisfied: threadpoolctl>=2.0.0 in /usr/local/lib/python3.10/dist-packages (from scikit-learn<2.0,>=1.0->biopsykit) (3.1.0)\n",
            "Requirement already satisfied: patsy>=0.5.2 in /usr/local/lib/python3.10/dist-packages (from statsmodels<0.14,>=0.13->biopsykit) (0.5.3)\n",
            "Requirement already satisfied: xarray in /usr/local/lib/python3.10/dist-packages (from pandas-flavor>=0.2.0->pingouin<0.6.0,>=0.5.2->biopsykit) (2022.12.0)\n",
            "Requirement already satisfied: lazy-loader>=0.1 in /usr/local/lib/python3.10/dist-packages (from pandas-flavor>=0.2.0->pingouin<0.6.0,>=0.5.2->biopsykit) (0.2)\n",
            "Requirement already satisfied: six in /usr/local/lib/python3.10/dist-packages (from patsy>=0.5.2->statsmodels<0.14,>=0.13->biopsykit) (1.16.0)\n",
            "Requirement already satisfied: setuptools>=44 in /usr/local/lib/python3.10/dist-packages (from outdated->pingouin<0.6.0,>=0.5.2->biopsykit) (67.7.2)\n",
            "Collecting littleutils (from outdated->pingouin<0.6.0,>=0.5.2->biopsykit)\n",
            "  Downloading littleutils-0.2.2.tar.gz (6.6 kB)\n",
            "  Preparing metadata (setup.py) ... \u001b[?25l\u001b[?25hdone\n",
            "Requirement already satisfied: requests in /usr/local/lib/python3.10/dist-packages (from outdated->pingouin<0.6.0,>=0.5.2->biopsykit) (2.27.1)\n",
            "Requirement already satisfied: urllib3<1.27,>=1.21.1 in /usr/local/lib/python3.10/dist-packages (from requests->outdated->pingouin<0.6.0,>=0.5.2->biopsykit) (1.26.16)\n",
            "Requirement already satisfied: certifi>=2017.4.17 in /usr/local/lib/python3.10/dist-packages (from requests->outdated->pingouin<0.6.0,>=0.5.2->biopsykit) (2023.5.7)\n",
            "Requirement already satisfied: charset-normalizer~=2.0.0 in /usr/local/lib/python3.10/dist-packages (from requests->outdated->pingouin<0.6.0,>=0.5.2->biopsykit) (2.0.12)\n",
            "Requirement already satisfied: idna<4,>=2.5 in /usr/local/lib/python3.10/dist-packages (from requests->outdated->pingouin<0.6.0,>=0.5.2->biopsykit) (3.4)\n",
            "Building wheels for collected packages: docopt, littleutils\n",
            "  Building wheel for docopt (setup.py) ... \u001b[?25l\u001b[?25hdone\n",
            "  Created wheel for docopt: filename=docopt-0.6.2-py2.py3-none-any.whl size=13707 sha256=c57d512e7de3355b9962df065aeac4aae3f94ddea4a7e62dae4fa09f76809fc6\n",
            "  Stored in directory: /root/.cache/pip/wheels/fc/ab/d4/5da2067ac95b36618c629a5f93f809425700506f72c9732fac\n",
            "  Building wheel for littleutils (setup.py) ... \u001b[?25l\u001b[?25hdone\n",
            "  Created wheel for littleutils: filename=littleutils-0.2.2-py3-none-any.whl size=7029 sha256=07f1bdfd91a27909e14ce40a5847a2b612eb3ba8397ba04cecf9bc151dfc0679\n",
            "  Stored in directory: /root/.cache/pip/wheels/3d/fe/b0/27a9892da57472e538c7452a721a9cf463cc03cf7379889266\n",
            "Successfully built docopt littleutils\n",
            "Installing collected packages: XlsxWriter, littleutils, docopt, statannot, bioread, outdated, neurokit2, imucal, pandas-flavor, nilspodlib, fau-colors, pingouin, biopsykit\n",
            "Successfully installed XlsxWriter-1.4.5 biopsykit-0.9.0 bioread-3.0.1 docopt-0.6.2 fau-colors-1.6.0 imucal-2.4.0 littleutils-0.2.2 neurokit2-0.2.4 nilspodlib-3.6.0 outdated-0.2.2 pandas-flavor-0.5.0 pingouin-0.5.3 statannot-0.2.3\n",
            "Requirement already satisfied: pingouin in /usr/local/lib/python3.10/dist-packages (0.5.3)\n",
            "Requirement already satisfied: numpy>=1.19 in /usr/local/lib/python3.10/dist-packages (from pingouin) (1.22.4)\n",
            "Requirement already satisfied: scipy>=1.7 in /usr/local/lib/python3.10/dist-packages (from pingouin) (1.10.1)\n",
            "Requirement already satisfied: pandas>=1.0 in /usr/local/lib/python3.10/dist-packages (from pingouin) (1.5.3)\n",
            "Requirement already satisfied: matplotlib>=3.0.2 in /usr/local/lib/python3.10/dist-packages (from pingouin) (3.7.1)\n",
            "Requirement already satisfied: seaborn>=0.11 in /usr/local/lib/python3.10/dist-packages (from pingouin) (0.12.2)\n",
            "Requirement already satisfied: statsmodels>=0.13 in /usr/local/lib/python3.10/dist-packages (from pingouin) (0.13.5)\n",
            "Requirement already satisfied: scikit-learn in /usr/local/lib/python3.10/dist-packages (from pingouin) (1.2.2)\n",
            "Requirement already satisfied: pandas-flavor>=0.2.0 in /usr/local/lib/python3.10/dist-packages (from pingouin) (0.5.0)\n",
            "Requirement already satisfied: outdated in /usr/local/lib/python3.10/dist-packages (from pingouin) (0.2.2)\n",
            "Requirement already satisfied: tabulate in /usr/local/lib/python3.10/dist-packages (from pingouin) (0.8.10)\n",
            "Requirement already satisfied: contourpy>=1.0.1 in /usr/local/lib/python3.10/dist-packages (from matplotlib>=3.0.2->pingouin) (1.1.0)\n",
            "Requirement already satisfied: cycler>=0.10 in /usr/local/lib/python3.10/dist-packages (from matplotlib>=3.0.2->pingouin) (0.11.0)\n",
            "Requirement already satisfied: fonttools>=4.22.0 in /usr/local/lib/python3.10/dist-packages (from matplotlib>=3.0.2->pingouin) (4.40.0)\n",
            "Requirement already satisfied: kiwisolver>=1.0.1 in /usr/local/lib/python3.10/dist-packages (from matplotlib>=3.0.2->pingouin) (1.4.4)\n",
            "Requirement already satisfied: packaging>=20.0 in /usr/local/lib/python3.10/dist-packages (from matplotlib>=3.0.2->pingouin) (23.1)\n",
            "Requirement already satisfied: pillow>=6.2.0 in /usr/local/lib/python3.10/dist-packages (from matplotlib>=3.0.2->pingouin) (8.4.0)\n",
            "Requirement already satisfied: pyparsing>=2.3.1 in /usr/local/lib/python3.10/dist-packages (from matplotlib>=3.0.2->pingouin) (3.1.0)\n",
            "Requirement already satisfied: python-dateutil>=2.7 in /usr/local/lib/python3.10/dist-packages (from matplotlib>=3.0.2->pingouin) (2.8.2)\n",
            "Requirement already satisfied: pytz>=2020.1 in /usr/local/lib/python3.10/dist-packages (from pandas>=1.0->pingouin) (2022.7.1)\n",
            "Requirement already satisfied: xarray in /usr/local/lib/python3.10/dist-packages (from pandas-flavor>=0.2.0->pingouin) (2022.12.0)\n",
            "Requirement already satisfied: lazy-loader>=0.1 in /usr/local/lib/python3.10/dist-packages (from pandas-flavor>=0.2.0->pingouin) (0.2)\n",
            "Requirement already satisfied: patsy>=0.5.2 in /usr/local/lib/python3.10/dist-packages (from statsmodels>=0.13->pingouin) (0.5.3)\n",
            "Requirement already satisfied: setuptools>=44 in /usr/local/lib/python3.10/dist-packages (from outdated->pingouin) (67.7.2)\n",
            "Requirement already satisfied: littleutils in /usr/local/lib/python3.10/dist-packages (from outdated->pingouin) (0.2.2)\n",
            "Requirement already satisfied: requests in /usr/local/lib/python3.10/dist-packages (from outdated->pingouin) (2.27.1)\n",
            "Requirement already satisfied: joblib>=1.1.1 in /usr/local/lib/python3.10/dist-packages (from scikit-learn->pingouin) (1.2.0)\n",
            "Requirement already satisfied: threadpoolctl>=2.0.0 in /usr/local/lib/python3.10/dist-packages (from scikit-learn->pingouin) (3.1.0)\n",
            "Requirement already satisfied: six in /usr/local/lib/python3.10/dist-packages (from patsy>=0.5.2->statsmodels>=0.13->pingouin) (1.16.0)\n",
            "Requirement already satisfied: urllib3<1.27,>=1.21.1 in /usr/local/lib/python3.10/dist-packages (from requests->outdated->pingouin) (1.26.16)\n",
            "Requirement already satisfied: certifi>=2017.4.17 in /usr/local/lib/python3.10/dist-packages (from requests->outdated->pingouin) (2023.5.7)\n",
            "Requirement already satisfied: charset-normalizer~=2.0.0 in /usr/local/lib/python3.10/dist-packages (from requests->outdated->pingouin) (2.0.12)\n",
            "Requirement already satisfied: idna<4,>=2.5 in /usr/local/lib/python3.10/dist-packages (from requests->outdated->pingouin) (3.4)\n"
          ]
        }
      ],
      "source": [
        "import matplotlib.pyplot as plt\n",
        "import numpy as np\n",
        "import pandas as pd\n",
        "!pip install biopsykit\n",
        "import biopsykit as bp\n",
        "from scipy import stats\n",
        "!pip install pingouin\n",
        "import pingouin as pg"
      ]
    },
    {
      "cell_type": "markdown",
      "id": "d39917ec-e874-4068-b309-2cc4e6f0315e",
      "metadata": {
        "id": "d39917ec-e874-4068-b309-2cc4e6f0315e"
      },
      "source": [
        "#### 1. Introductory Task\n",
        "In this task, we will create a bimodal distribution from two Gaussian distributions and implement one possible way of outlier correction.\n",
        "\n",
        "##### 1.1 Create a bimodal distribution ``data`` with 20000 samples. To do so:\n",
        "* Create a Gaussian distribution ``data_1`` with mean: 17, standard deviation: 5, and 10000 samples\n",
        "* Create a Gaussian distribution ``data_2`` with mean: 28, standard deviation: 3, and 10000 samples\n",
        "* Concatenate ``data_1`` and ``data_2`` to ``data`` and convert ``data`` to type int\n",
        "\n",
        "**Hint**: Check out if [numpy.random.normal](https://numpy.org/doc/stable/reference/random/generated/numpy.random.normal.html) can help you to solve the task."
      ]
    },
    {
      "cell_type": "code",
      "execution_count": 2,
      "id": "aae3e447-5525-4c2d-9be5-1b6ceb97ea95",
      "metadata": {
        "deletable": false,
        "nbgrader": {
          "cell_type": "code",
          "checksum": "357aafc999104c31d352630b75d1b9c3",
          "grade": false,
          "grade_id": "create_distribution",
          "locked": false,
          "schema_version": 3,
          "solution": true,
          "task": false
        },
        "tags": [],
        "id": "aae3e447-5525-4c2d-9be5-1b6ceb97ea95"
      },
      "outputs": [],
      "source": [
        "np.random.seed(0) # do not delete: makes random numbers predictable\n",
        "\n",
        "# data_1 with mean=17, std=5, and 10,000 samples\n",
        "data_1 = np.random.normal(loc=17, scale=5, size=10000)\n",
        "\n",
        "# data_2 with mean=28, std=3, and 10,000 samples\n",
        "data_2 = np.random.normal(loc=28, scale=3, size=10000)\n",
        "\n",
        "# Concatenate data_1 and data_2\n",
        "data = np.concatenate((data_1, data_2))\n",
        "\n",
        "# Convert data to integer type\n",
        "data = data.astype(int)\n"
      ]
    },
    {
      "cell_type": "code",
      "execution_count": 3,
      "id": "6d973162-05b7-4dc9-95b0-f66c62d49ab2",
      "metadata": {
        "deletable": false,
        "editable": false,
        "nbgrader": {
          "cell_type": "code",
          "checksum": "313374f9fb94226aca3bd30430b2fb99",
          "grade": true,
          "grade_id": "create_distribution_test",
          "locked": true,
          "points": 1,
          "schema_version": 3,
          "solution": false,
          "task": false
        },
        "tags": [],
        "id": "6d973162-05b7-4dc9-95b0-f66c62d49ab2"
      },
      "outputs": [],
      "source": [
        "# run tests to check your implementation\n",
        "assert np.shape(data_1) == (10000,) and np.shape(data_2) == (10000,) and np.shape(data) == (20000,), \"Check the shapes of data_1, data_2, and data\"\n",
        "assert data.dtype == int, \"Check if you converted the values to type int\"\n",
        "assert np.mean(data_1) > 16.5 and np.mean(data_1) < 17.5 and np.std(data_1) > 4.5 and np.std(data_1) < 5.5, \"Check mean and standard deviation of data_1\"\n",
        "assert np.mean(data_2) > 27.5 and np.mean(data_2) < 28.5 and np.std(data_2) > 2.5 and np.std(data_2) < 3.5, \"Check mean and standard deviation of data_2\""
      ]
    },
    {
      "cell_type": "code",
      "execution_count": 4,
      "id": "d4dc3be6-7a93-47b8-8edb-0f43e705acb6",
      "metadata": {
        "tags": [],
        "id": "d4dc3be6-7a93-47b8-8edb-0f43e705acb6",
        "colab": {
          "base_uri": "https://localhost:8080/",
          "height": 307
        },
        "outputId": "991a20db-6ce5-4ec2-be2d-fd397d8d64d9"
      },
      "outputs": [
        {
          "output_type": "display_data",
          "data": {
            "text/plain": [
              "<Figure size 800x300 with 3 Axes>"
            ],
            "image/png": "[encoded data removed]"
          },
          "metadata": {}
        }
      ],
      "source": [
        "# run cell to visualize data\n",
        "bins = np.arange(start=0.5, stop=41.5, step=1).tolist()\n",
        "fig, axs = plt.subplots(ncols=3, figsize=(8, 3), sharey=True, sharex=True)\n",
        "_ = axs[0].hist(data_1, bins=bins)\n",
        "_ = axs[1].hist(data_2, bins=bins)\n",
        "_ = axs[2].hist(data, bins=bins)\n",
        "for ax in axs: ax.set_xlabel(\"random numbers\")\n",
        "for ax, t in zip(axs, [\"data_1\", \"data_2\", \"data\"]): ax.set_title(t)\n",
        "axs[0].set_ylabel(\"number of occurence\")\n",
        "fig.tight_layout()"
      ]
    },
    {
      "cell_type": "markdown",
      "id": "18e47176-9aba-46d3-91ff-ed14f84b4a57",
      "metadata": {
        "tags": [],
        "id": "18e47176-9aba-46d3-91ff-ed14f84b4a57"
      },
      "source": [
        "##### 1.2 Calculate the mean, median, and mode of ``data`` and store the values in ``data_mean``, ``data_median``, and ``data_mode``. Make sure that ``data_mode`` is of type int:\n",
        "\n",
        "**Hint**: You can use either ``numpy`` or ``scipy.stats`` functions for that."
      ]
    },
    {
      "cell_type": "code",
      "execution_count": 5,
      "id": "229afc3a-23ce-49ab-86e5-84d534bff5c2",
      "metadata": {
        "deletable": false,
        "nbgrader": {
          "cell_type": "code",
          "checksum": "8868425cf778dab1f1b30531d62ebbb4",
          "grade": false,
          "grade_id": "mean_median_mode",
          "locked": false,
          "schema_version": 3,
          "solution": true,
          "task": false
        },
        "tags": [],
        "id": "229afc3a-23ce-49ab-86e5-84d534bff5c2",
        "colab": {
          "base_uri": "https://localhost:8080/"
        },
        "outputId": "7cd88074-7771-4d88-e394-4cb4a9aaa27c"
      },
      "outputs": [
        {
          "output_type": "stream",
          "name": "stderr",
          "text": [
            "<ipython-input-5-fbc11d762e14>:8: FutureWarning: Unlike other reduction functions (e.g. `skew`, `kurtosis`), the default behavior of `mode` typically preserves the axis it acts along. In SciPy 1.11.0, this behavior will change: the default value of `keepdims` will become False, the `axis` over which the statistic is taken will be eliminated, and the value None will no longer be accepted. Set `keepdims` to True or False to avoid this warning.\n",
            "  data_mode = stats.mode(data)[0][0]\n"
          ]
        }
      ],
      "source": [
        "# mean\n",
        "data_mean = np.mean(data)\n",
        "\n",
        "# median\n",
        "data_median = np.median(data)\n",
        "\n",
        "# mode\n",
        "data_mode = stats.mode(data)[0][0]\n",
        "data_mode = int(data_mode)"
      ]
    },
    {
      "cell_type": "code",
      "execution_count": 6,
      "id": "f622ffd5-11ec-4cd8-83d0-981609308c7e",
      "metadata": {
        "deletable": false,
        "editable": false,
        "nbgrader": {
          "cell_type": "code",
          "checksum": "3ffb3c8e874a9825df468f1cde19c0d5",
          "grade": true,
          "grade_id": "mean_median_mode_test",
          "locked": true,
          "points": 1,
          "schema_version": 3,
          "solution": false,
          "task": false
        },
        "tags": [],
        "id": "f622ffd5-11ec-4cd8-83d0-981609308c7e"
      },
      "outputs": [],
      "source": [
        "# run test to check your implementation\n",
        "assert type(data_mode) == int, \"Check your conversion to int of data_mode\"\n",
        "assert data_mean > 15 and data_median > 15 and data_mode > 15, \"Check the calculation\""
      ]
    },
    {
      "cell_type": "markdown",
      "id": "0aea1381-19d5-4a63-a2b2-e0403d2798ca",
      "metadata": {
        "tags": [],
        "id": "0aea1381-19d5-4a63-a2b2-e0403d2798ca"
      },
      "source": [
        "##### 1.3 Replace all points of ``data`` that are more than two standard deviations away from the mean with ``data_median`` and save the corrected version as ``data_corrected``:\n",
        "\n",
        "**Hint**: Check out if [scipy.stats.zscore](https://docs.scipy.org/doc/scipy/reference/generated/scipy.stats.zscore.html) can help you with this task."
      ]
    },
    {
      "cell_type": "code",
      "execution_count": 7,
      "id": "6bc40ef8-9a8c-4ca7-9967-d0f9cd068512",
      "metadata": {
        "deletable": false,
        "nbgrader": {
          "cell_type": "code",
          "checksum": "6544ead879d4f170ad00ca1b4e0a2b66",
          "grade": false,
          "grade_id": "outlier_correction",
          "locked": false,
          "schema_version": 3,
          "solution": true,
          "task": false
        },
        "tags": [],
        "id": "6bc40ef8-9a8c-4ca7-9967-d0f9cd068512"
      },
      "outputs": [],
      "source": [
        "# z-scores\n",
        "z_scores = stats.zscore(data)\n",
        "\n",
        "# points more than two standard deviations away from the meanare identified\n",
        "outliers = np.abs(z_scores) > 2\n",
        "\n",
        "# Replacement of  outliers with data_median\n",
        "data_corrected = np.where(outliers, data_median, data)"
      ]
    },
    {
      "cell_type": "code",
      "execution_count": 8,
      "id": "128e927d-2a16-48e1-9999-4aa213336b42",
      "metadata": {
        "deletable": false,
        "editable": false,
        "nbgrader": {
          "cell_type": "code",
          "checksum": "e2918b383808bd9c7b76e40baca6e4e3",
          "grade": true,
          "grade_id": "outlier_correction_test",
          "locked": true,
          "points": 1,
          "schema_version": 3,
          "solution": false,
          "task": false
        },
        "tags": [],
        "id": "128e927d-2a16-48e1-9999-4aa213336b42"
      },
      "outputs": [],
      "source": [
        "# run tests to check your implementation\n",
        "assert np.min(data_corrected) > np.min(data) and np.max(data_corrected) < np.max(data), \"Check whether you replaced outliers on both sides of the mean\"\n",
        "assert np.sum(data_corrected == data_median) > 1000, \"Check if you replace all outliers with data_median\""
      ]
    },
    {
      "cell_type": "code",
      "execution_count": 9,
      "id": "7b19bbb0-dfe6-479c-aea7-563e992b7035",
      "metadata": {
        "tags": [],
        "id": "7b19bbb0-dfe6-479c-aea7-563e992b7035",
        "colab": {
          "base_uri": "https://localhost:8080/",
          "height": 307
        },
        "outputId": "852a004a-f914-4a60-a2a8-948a2bbbfbff"
      },
      "outputs": [
        {
          "output_type": "display_data",
          "data": {
            "text/plain": [
              "<Figure size 600x300 with 2 Axes>"
            ],
            "image/png": "[encoded data removed]"
          },
          "metadata": {}
        }
      ],
      "source": [
        "# run cell to visualize both distributions\n",
        "bins = np.arange(start=0.5, stop=41.5, step=1).tolist()\n",
        "fig, axs = plt.subplots(ncols=2, figsize=(6, 3), sharey=True, sharex=True)\n",
        "_ = axs[0].hist(data, bins=bins)\n",
        "axs[0].set_title(\"original distribution\")\n",
        "axs[0].set_xlabel(\"random numbers\")\n",
        "axs[0].set_ylabel(\"number of occurence\")\n",
        "for val, key, c in zip([data_mean, data_median, data_mode], [\"mean\", \"median\", \"mode\"], [\"tab:orange\", \"tab:green\", \"tab:red\"]):\n",
        "    axs[0].axvline(val, color=c, label=key)\n",
        "axs[0].legend()\n",
        "_ = axs[1].hist(data_corrected, bins=bins)\n",
        "axs[1].set_title(\"outlier corrected distribution\")\n",
        "axs[1].set_xlabel(\"random numbers\")\n",
        "fig.tight_layout()"
      ]
    },
    {
      "cell_type": "markdown",
      "id": "a235f316-2518-4987-af6b-b0079c87b69d",
      "metadata": {
        "id": "a235f316-2518-4987-af6b-b0079c87b69d"
      },
      "source": [
        "#### 2. Questionnaire Analysis\n",
        "In this task, we use a dataset where 38 participants filled out the Positive and Negative Affect Schedule (PANAS) questionnaire before (pre) and after (post) undergoing a study protocol. The PANAS questionnaire is a self-report questionnaire consisting of 20 adjectives (like interested or ashamed) that describe different sensations and feelings. The participants rate all items individually on a 5-point scale indicating how strongly they felt this way. By averaging the scores of 10 of the items, Positive Affect and Negative Affect can be calculated. By averaging the inverted Negative Affect and Positive Affect scores, a Total score over all items can be computed."
      ]
    },
    {
      "cell_type": "code",
      "execution_count": 10,
      "id": "ffd4a008-ab18-479d-ad1b-8e5998e48aa2",
      "metadata": {
        "tags": [],
        "id": "ffd4a008-ab18-479d-ad1b-8e5998e48aa2",
        "colab": {
          "base_uri": "https://localhost:8080/",
          "height": 364,
          "referenced_widgets": [
            "92734d0c4ef442a4a1c04530e118c77d",
            "5dc606999d524f9aaec94d5f0c61d112",
            "f6127452b1db4753ba22fb78fc080265",
            "0a92c54df02c4dd5b3e655fcffedd80f",
            "dddafb97e5dd44389ad0c9105c5a993a",
            "cc283474d93f4ef0ae334491fbaae2da",
            "ae9c36551d56412eb06002da0269a9b9",
            "54578220b0044bf7bd5d55d05bf3a264",
            "684981bd86344da4ad81821d10d540df",
            "6b163597fb7243519a69b5fa164f29b2",
            "9de804857c1d4efab15e25c14718a394"
          ]
        },
        "outputId": "9da18900-8178-45e9-dc97-51ad33bd3aed"
      },
      "outputs": [
        {
          "output_type": "stream",
          "name": "stdout",
          "text": [
            "Downloading file stats_sample.csv from remote URL: https://raw.githubusercontent.com/mad-lab-fau/BioPsyKit/main/example_data/stats_sample.csv.\n"
          ]
        },
        {
          "output_type": "display_data",
          "data": {
            "text/plain": [
              "stats_sample.csv: 0.00B [00:00, ?B/s]"
            ],
            "application/vnd.jupyter.widget-view+json": {
              "version_major": 2,
              "version_minor": 0,
              "model_id": "92734d0c4ef442a4a1c04530e118c77d"
            }
          },
          "metadata": {}
        },
        {
          "output_type": "display_data",
          "data": {
            "text/plain": [
              "<Figure size 600x300 with 1 Axes>"
            ],
            "image/png": "[encoded data removed]"
          },
          "metadata": {}
        }
      ],
      "source": [
        "# run cell to load and visualize data\n",
        "data_panas = bp.example_data.get_stats_example()\n",
        "fig, ax = plt.subplots(figsize=(6, 3))\n",
        "bp.plotting.feature_boxplot(data=data_panas, x=\"subscale\", y=\"PANAS\", hue=\"time\", hue_order=[\"pre\", \"post\"], ax=ax)\n",
        "fig.tight_layout()"
      ]
    },
    {
      "cell_type": "code",
      "execution_count": 11,
      "id": "8f56bf83-0186-4592-91ad-f8694be79b02",
      "metadata": {
        "tags": [],
        "id": "8f56bf83-0186-4592-91ad-f8694be79b02",
        "colab": {
          "base_uri": "https://localhost:8080/",
          "height": 215
        },
        "outputId": "72f23a4a-a7ea-4db7-986e-e4cbccd014eb"
      },
      "outputs": [
        {
          "output_type": "execute_result",
          "data": {
            "text/plain": [
              "  subject        subscale  time  PANAS\n",
              "0    Vp01  NegativeAffect  post    2.2\n",
              "1    Vp01  NegativeAffect   pre    2.2\n",
              "2    Vp01  PositiveAffect  post    2.8\n",
              "3    Vp01  PositiveAffect   pre    2.4\n",
              "4    Vp01           Total  post    3.3"
            ],
            "text/html": [
              "\n",
              "  <div id=\"df-0955e66c-8529-4c6d-b88e-5dfc0e36c7b0\">\n",
              "    <div class=\"colab-df-container\">\n",
              "      <div>\n",
              "<style scoped>\n",
              "    .dataframe tbody tr th:only-of-type {\n",
              "        vertical-align: middle;\n",
              "    }\n",
              "\n",
              "    .dataframe tbody tr th {\n",
              "        vertical-align: top;\n",
              "    }\n",
              "\n",
              "    .dataframe thead th {\n",
              "        text-align: right;\n",
              "    }\n",
              "</style>\n",
              "<table border=\"1\" class=\"dataframe\">\n",
              "  <thead>\n",
              "    <tr style=\"text-align: right;\">\n",
              "      <th></th>\n",
              "      <th>subject</th>\n",
              "      <th>subscale</th>\n",
              "      <th>time</th>\n",
              "      <th>PANAS</th>\n",
              "    </tr>\n",
              "  </thead>\n",
              "  <tbody>\n",
              "    <tr>\n",
              "      <th>0</th>\n",
              "      <td>Vp01</td>\n",
              "      <td>NegativeAffect</td>\n",
              "      <td>post</td>\n",
              "      <td>2.2</td>\n",
              "    </tr>\n",
              "    <tr>\n",
              "      <th>1</th>\n",
              "      <td>Vp01</td>\n",
              "      <td>NegativeAffect</td>\n",
              "      <td>pre</td>\n",
              "      <td>2.2</td>\n",
              "    </tr>\n",
              "    <tr>\n",
              "      <th>2</th>\n",
              "      <td>Vp01</td>\n",
              "      <td>PositiveAffect</td>\n",
              "      <td>post</td>\n",
              "      <td>2.8</td>\n",
              "    </tr>\n",
              "    <tr>\n",
              "      <th>3</th>\n",
              "      <td>Vp01</td>\n",
              "      <td>PositiveAffect</td>\n",
              "      <td>pre</td>\n",
              "      <td>2.4</td>\n",
              "    </tr>\n",
              "    <tr>\n",
              "      <th>4</th>\n",
              "      <td>Vp01</td>\n",
              "      <td>Total</td>\n",
              "      <td>post</td>\n",
              "      <td>3.3</td>\n",
              "    </tr>\n",
              "  </tbody>\n",
              "</table>\n",
              "</div>\n",
              "      <button class=\"colab-df-convert\" onclick=\"convertToInteractive('df-0955e66c-8529-4c6d-b88e-5dfc0e36c7b0')\"\n",
              "              title=\"Convert this dataframe to an interactive table.\"\n",
              "              style=\"display:none;\">\n",
              "        \n",
              "  <svg xmlns=\"http://www.w3.org/2000/svg\" height=\"24px\"viewBox=\"0 0 24 24\"\n",
              "       width=\"24px\">\n",
              "    <path d=\"M0 0h24v24H0V0z\" fill=\"none\"/>\n",
              "    <path d=\"M18.56 5.44l.94 2.06.94-2.06 2.06-.94-2.06-.94-.94-2.06-.94 2.06-2.06.94zm-11 1L8.5 8.5l.94-2.06 2.06-.94-2.06-.94L8.5 2.5l-.94 2.06-2.06.94zm10 10l.94 2.06.94-2.06 2.06-.94-2.06-.94-.94-2.06-.94 2.06-2.06.94z\"/><path d=\"M17.41 7.96l-1.37-1.37c-.4-.4-.92-.59-1.43-.59-.52 0-1.04.2-1.43.59L10.3 9.45l-7.72 7.72c-.78.78-.78 2.05 0 2.83L4 21.41c.39.39.9.59 1.41.59.51 0 1.02-.2 1.41-.59l7.78-7.78 2.81-2.81c.8-.78.8-2.07 0-2.86zM5.41 20L4 18.59l7.72-7.72 1.47 1.35L5.41 20z\"/>\n",
              "  </svg>\n",
              "      </button>\n",
              "      \n",
              "  <style>\n",
              "    .colab-df-container {\n",
              "      display:flex;\n",
              "      flex-wrap:wrap;\n",
              "      gap: 12px;\n",
              "    }\n",
              "\n",
              "    .colab-df-convert {\n",
              "      background-color: #E8F0FE;\n",
              "      border: none;\n",
              "      border-radius: 50%;\n",
              "      cursor: pointer;\n",
              "      display: none;\n",
              "      fill: #1967D2;\n",
              "      height: 32px;\n",
              "      padding: 0 0 0 0;\n",
              "      width: 32px;\n",
              "    }\n",
              "\n",
              "    .colab-df-convert:hover {\n",
              "      background-color: #E2EBFA;\n",
              "      box-shadow: 0px 1px 2px rgba(60, 64, 67, 0.3), 0px 1px 3px 1px rgba(60, 64, 67, 0.15);\n",
              "      fill: #174EA6;\n",
              "    }\n",
              "\n",
              "    [theme=dark] .colab-df-convert {\n",
              "      background-color: #3B4455;\n",
              "      fill: #D2E3FC;\n",
              "    }\n",
              "\n",
              "    [theme=dark] .colab-df-convert:hover {\n",
              "      background-color: #434B5C;\n",
              "      box-shadow: 0px 1px 3px 1px rgba(0, 0, 0, 0.15);\n",
              "      filter: drop-shadow(0px 1px 2px rgba(0, 0, 0, 0.3));\n",
              "      fill: #FFFFFF;\n",
              "    }\n",
              "  </style>\n",
              "\n",
              "      <script>\n",
              "        const buttonEl =\n",
              "          document.querySelector('#df-0955e66c-8529-4c6d-b88e-5dfc0e36c7b0 button.colab-df-convert');\n",
              "        buttonEl.style.display =\n",
              "          google.colab.kernel.accessAllowed ? 'block' : 'none';\n",
              "\n",
              "        async function convertToInteractive(key) {\n",
              "          const element = document.querySelector('#df-0955e66c-8529-4c6d-b88e-5dfc0e36c7b0');\n",
              "          const dataTable =\n",
              "            await google.colab.kernel.invokeFunction('convertToInteractive',\n",
              "                                                     [key], {});\n",
              "          if (!dataTable) return;\n",
              "\n",
              "          const docLinkHtml = 'Like what you see? Visit the ' +\n",
              "            '<a target=\"_blank\" href=https://colab.research.google.com/notebooks/data_table.ipynb>data table notebook</a>'\n",
              "            + ' to learn more about interactive tables.';\n",
              "          element.innerHTML = '';\n",
              "          dataTable['output_type'] = 'display_data';\n",
              "          await google.colab.output.renderOutput(dataTable, element);\n",
              "          const docLink = document.createElement('div');\n",
              "          docLink.innerHTML = docLinkHtml;\n",
              "          element.appendChild(docLink);\n",
              "        }\n",
              "      </script>\n",
              "    </div>\n",
              "  </div>\n",
              "  "
            ]
          },
          "metadata": {},
          "execution_count": 11
        }
      ],
      "source": [
        "# run cell to visualize the data frame structure\n",
        "data_analysis = data_panas.reset_index()\n",
        "data_analysis.head()"
      ]
    },
    {
      "cell_type": "markdown",
      "id": "8311c81e-b5e7-416c-b4dc-3c9046ac982e",
      "metadata": {
        "id": "8311c81e-b5e7-416c-b4dc-3c9046ac982e"
      },
      "source": [
        "##### 2.1 Perform a statistical analysis for the PANAS data stored in ``data_analysis`` to test for differences between group means (differences between pre and post questionnaires separately for all the subscales):\n",
        "* Follow the guidelines described in the lecture slides or provided by [pingouin](https://pingouin-stats.org/build/html/guidelines.html)\n",
        "* You should use the ``pingouin`` functions for your analysis\n",
        "* Store your results in a data frame called ``results_statistics``\n",
        "    * ``results_statistics`` should have one row for the results of every subscale and all the outputs of the ``pingouin`` function as columns\n",
        "    * Set the subscales as the indices of ``results_statistics``\n",
        "\n",
        "**Hint**: The [pingouin guidelines](https://pingouin-stats.org/build/html/guidelines.html) already show the respective *functions* for the statistical tests."
      ]
    },
    {
      "cell_type": "code",
      "execution_count": 120,
      "id": "33698d3e-8ed0-4a54-b283-2758bc057718",
      "metadata": {
        "deletable": false,
        "nbgrader": {
          "cell_type": "code",
          "checksum": "1ea32b64643eaf6fba2ba4143db519d7",
          "grade": false,
          "grade_id": "stats_question",
          "locked": false,
          "schema_version": 3,
          "solution": true,
          "task": false
        },
        "tags": [],
        "id": "33698d3e-8ed0-4a54-b283-2758bc057718",
        "colab": {
          "base_uri": "https://localhost:8080/",
          "height": 227
        },
        "outputId": "3002a5fb-c032-49c3-d947-66aa044e259b"
      },
      "outputs": [
        {
          "output_type": "stream",
          "name": "stderr",
          "text": [
            "/usr/local/lib/python3.10/dist-packages/pingouin/pairwise.py:478: FutureWarning: The default value of numeric_only in DataFrameGroupBy.mean is deprecated. In a future version, numeric_only will default to False. Either specify numeric_only or select only columns which should be valid for the function.\n",
            "  tmp = data.groupby([subject, f], as_index=False, observed=True, sort=True).mean()\n"
          ]
        },
        {
          "output_type": "execute_result",
          "data": {
            "text/plain": [
              "                       Contrast     A    B Paired  Parametric         T   dof  \\\n",
              "subscale                                                                        \n",
              "NegativeAffect  subscale * time  post  pre  False        True -0.951988  74.0   \n",
              "PositiveAffect  subscale * time  post  pre  False        True  4.292306  74.0   \n",
              "Total           subscale * time  post  pre  False        True  6.103860  74.0   \n",
              "\n",
              "               alternative         p-unc      BF10    hedges  \n",
              "subscale                                                      \n",
              "NegativeAffect   two-sided  3.442022e-01     0.351 -0.216180  \n",
              "PositiveAffect   two-sided  5.285132e-05   389.714  0.974708  \n",
              "Total            two-sided  4.366735e-08  2.43e+05  1.386081  "
            ],
            "text/html": [
              "\n",
              "  <div id=\"df-be58f410-013e-456a-9e54-a396ce480b20\">\n",
              "    <div class=\"colab-df-container\">\n",
              "      <div>\n",
              "<style scoped>\n",
              "    .dataframe tbody tr th:only-of-type {\n",
              "        vertical-align: middle;\n",
              "    }\n",
              "\n",
              "    .dataframe tbody tr th {\n",
              "        vertical-align: top;\n",
              "    }\n",
              "\n",
              "    .dataframe thead th {\n",
              "        text-align: right;\n",
              "    }\n",
              "</style>\n",
              "<table border=\"1\" class=\"dataframe\">\n",
              "  <thead>\n",
              "    <tr style=\"text-align: right;\">\n",
              "      <th></th>\n",
              "      <th>Contrast</th>\n",
              "      <th>A</th>\n",
              "      <th>B</th>\n",
              "      <th>Paired</th>\n",
              "      <th>Parametric</th>\n",
              "      <th>T</th>\n",
              "      <th>dof</th>\n",
              "      <th>alternative</th>\n",
              "      <th>p-unc</th>\n",
              "      <th>BF10</th>\n",
              "      <th>hedges</th>\n",
              "    </tr>\n",
              "    <tr>\n",
              "      <th>subscale</th>\n",
              "      <th></th>\n",
              "      <th></th>\n",
              "      <th></th>\n",
              "      <th></th>\n",
              "      <th></th>\n",
              "      <th></th>\n",
              "      <th></th>\n",
              "      <th></th>\n",
              "      <th></th>\n",
              "      <th></th>\n",
              "      <th></th>\n",
              "    </tr>\n",
              "  </thead>\n",
              "  <tbody>\n",
              "    <tr>\n",
              "      <th>NegativeAffect</th>\n",
              "      <td>subscale * time</td>\n",
              "      <td>post</td>\n",
              "      <td>pre</td>\n",
              "      <td>False</td>\n",
              "      <td>True</td>\n",
              "      <td>-0.951988</td>\n",
              "      <td>74.0</td>\n",
              "      <td>two-sided</td>\n",
              "      <td>3.442022e-01</td>\n",
              "      <td>0.351</td>\n",
              "      <td>-0.216180</td>\n",
              "    </tr>\n",
              "    <tr>\n",
              "      <th>PositiveAffect</th>\n",
              "      <td>subscale * time</td>\n",
              "      <td>post</td>\n",
              "      <td>pre</td>\n",
              "      <td>False</td>\n",
              "      <td>True</td>\n",
              "      <td>4.292306</td>\n",
              "      <td>74.0</td>\n",
              "      <td>two-sided</td>\n",
              "      <td>5.285132e-05</td>\n",
              "      <td>389.714</td>\n",
              "      <td>0.974708</td>\n",
              "    </tr>\n",
              "    <tr>\n",
              "      <th>Total</th>\n",
              "      <td>subscale * time</td>\n",
              "      <td>post</td>\n",
              "      <td>pre</td>\n",
              "      <td>False</td>\n",
              "      <td>True</td>\n",
              "      <td>6.103860</td>\n",
              "      <td>74.0</td>\n",
              "      <td>two-sided</td>\n",
              "      <td>4.366735e-08</td>\n",
              "      <td>2.43e+05</td>\n",
              "      <td>1.386081</td>\n",
              "    </tr>\n",
              "  </tbody>\n",
              "</table>\n",
              "</div>\n",
              "      <button class=\"colab-df-convert\" onclick=\"convertToInteractive('df-be58f410-013e-456a-9e54-a396ce480b20')\"\n",
              "              title=\"Convert this dataframe to an interactive table.\"\n",
              "              style=\"display:none;\">\n",
              "        \n",
              "  <svg xmlns=\"http://www.w3.org/2000/svg\" height=\"24px\"viewBox=\"0 0 24 24\"\n",
              "       width=\"24px\">\n",
              "    <path d=\"M0 0h24v24H0V0z\" fill=\"none\"/>\n",
              "    <path d=\"M18.56 5.44l.94 2.06.94-2.06 2.06-.94-2.06-.94-.94-2.06-.94 2.06-2.06.94zm-11 1L8.5 8.5l.94-2.06 2.06-.94-2.06-.94L8.5 2.5l-.94 2.06-2.06.94zm10 10l.94 2.06.94-2.06 2.06-.94-2.06-.94-.94-2.06-.94 2.06-2.06.94z\"/><path d=\"M17.41 7.96l-1.37-1.37c-.4-.4-.92-.59-1.43-.59-.52 0-1.04.2-1.43.59L10.3 9.45l-7.72 7.72c-.78.78-.78 2.05 0 2.83L4 21.41c.39.39.9.59 1.41.59.51 0 1.02-.2 1.41-.59l7.78-7.78 2.81-2.81c.8-.78.8-2.07 0-2.86zM5.41 20L4 18.59l7.72-7.72 1.47 1.35L5.41 20z\"/>\n",
              "  </svg>\n",
              "      </button>\n",
              "      \n",
              "  <style>\n",
              "    .colab-df-container {\n",
              "      display:flex;\n",
              "      flex-wrap:wrap;\n",
              "      gap: 12px;\n",
              "    }\n",
              "\n",
              "    .colab-df-convert {\n",
              "      background-color: #E8F0FE;\n",
              "      border: none;\n",
              "      border-radius: 50%;\n",
              "      cursor: pointer;\n",
              "      display: none;\n",
              "      fill: #1967D2;\n",
              "      height: 32px;\n",
              "      padding: 0 0 0 0;\n",
              "      width: 32px;\n",
              "    }\n",
              "\n",
              "    .colab-df-convert:hover {\n",
              "      background-color: #E2EBFA;\n",
              "      box-shadow: 0px 1px 2px rgba(60, 64, 67, 0.3), 0px 1px 3px 1px rgba(60, 64, 67, 0.15);\n",
              "      fill: #174EA6;\n",
              "    }\n",
              "\n",
              "    [theme=dark] .colab-df-convert {\n",
              "      background-color: #3B4455;\n",
              "      fill: #D2E3FC;\n",
              "    }\n",
              "\n",
              "    [theme=dark] .colab-df-convert:hover {\n",
              "      background-color: #434B5C;\n",
              "      box-shadow: 0px 1px 3px 1px rgba(0, 0, 0, 0.15);\n",
              "      filter: drop-shadow(0px 1px 2px rgba(0, 0, 0, 0.3));\n",
              "      fill: #FFFFFF;\n",
              "    }\n",
              "  </style>\n",
              "\n",
              "      <script>\n",
              "        const buttonEl =\n",
              "          document.querySelector('#df-be58f410-013e-456a-9e54-a396ce480b20 button.colab-df-convert');\n",
              "        buttonEl.style.display =\n",
              "          google.colab.kernel.accessAllowed ? 'block' : 'none';\n",
              "\n",
              "        async function convertToInteractive(key) {\n",
              "          const element = document.querySelector('#df-be58f410-013e-456a-9e54-a396ce480b20');\n",
              "          const dataTable =\n",
              "            await google.colab.kernel.invokeFunction('convertToInteractive',\n",
              "                                                     [key], {});\n",
              "          if (!dataTable) return;\n",
              "\n",
              "          const docLinkHtml = 'Like what you see? Visit the ' +\n",
              "            '<a target=\"_blank\" href=https://colab.research.google.com/notebooks/data_table.ipynb>data table notebook</a>'\n",
              "            + ' to learn more about interactive tables.';\n",
              "          element.innerHTML = '';\n",
              "          dataTable['output_type'] = 'display_data';\n",
              "          await google.colab.output.renderOutput(dataTable, element);\n",
              "          const docLink = document.createElement('div');\n",
              "          docLink.innerHTML = docLinkHtml;\n",
              "          element.appendChild(docLink);\n",
              "        }\n",
              "      </script>\n",
              "    </div>\n",
              "  </div>\n",
              "  "
            ]
          },
          "metadata": {},
          "execution_count": 120
        }
      ],
      "source": [
        "results_statistics = pg.pairwise_tests(data=data_analysis, dv='PANAS', within='subscale', subject='subject', between='time')\n",
        "results_statistics.set_index('subscale', inplace=True)\n",
        "\n",
        "results_statistics = results_statistics.loc[[\"NegativeAffect\", \"PositiveAffect\", \"Total\"]]\n",
        "\n",
        "results_statistics"
      ]
    },
    {
      "cell_type": "code",
      "execution_count": 121,
      "id": "3115483b-9db3-493d-896e-75b22a3adf76",
      "metadata": {
        "deletable": false,
        "editable": false,
        "nbgrader": {
          "cell_type": "code",
          "checksum": "c59e930f34ff9c3e5562d104b0d597b1",
          "grade": true,
          "grade_id": "stats_question_test",
          "locked": true,
          "points": 2,
          "schema_version": 3,
          "solution": false,
          "task": false
        },
        "tags": [],
        "id": "3115483b-9db3-493d-896e-75b22a3adf76",
        "colab": {
          "base_uri": "https://localhost:8080/",
          "height": 252
        },
        "outputId": "6eb53b82-ed65-4883-bb71-0a9b695249e1"
      },
      "outputs": [
        {
          "output_type": "error",
          "ename": "AssertionError",
          "evalue": "ignored",
          "traceback": [
            "\u001b[0;31m---------------------------------------------------------------------------\u001b[0m",
            "\u001b[0;31mAssertionError\u001b[0m                            Traceback (most recent call last)",
            "\u001b[0;32m<ipython-input-121-86f5268d9eb5>\u001b[0m in \u001b[0;36m<cell line: 5>\u001b[0;34m()\u001b[0m\n\u001b[1;32m      3\u001b[0m \u001b[0;32massert\u001b[0m \u001b[0mresults_statistics\u001b[0m\u001b[0;34m.\u001b[0m\u001b[0mshape\u001b[0m\u001b[0;34m[\u001b[0m\u001b[0;36m0\u001b[0m\u001b[0;34m]\u001b[0m \u001b[0;34m==\u001b[0m \u001b[0;36m3\u001b[0m\u001b[0;34m,\u001b[0m \u001b[0;34m\"Check if you performed and stored the results for all subscales\"\u001b[0m\u001b[0;34m\u001b[0m\u001b[0;34m\u001b[0m\u001b[0m\n\u001b[1;32m      4\u001b[0m \u001b[0;32massert\u001b[0m \u001b[0mlist\u001b[0m\u001b[0;34m(\u001b[0m\u001b[0mresults_statistics\u001b[0m\u001b[0;34m.\u001b[0m\u001b[0mindex\u001b[0m\u001b[0;34m)\u001b[0m \u001b[0;34m==\u001b[0m \u001b[0;34m[\u001b[0m\u001b[0;34m\"NegativeAffect\"\u001b[0m\u001b[0;34m,\u001b[0m \u001b[0;34m\"PositiveAffect\"\u001b[0m\u001b[0;34m,\u001b[0m \u001b[0;34m\"Total\"\u001b[0m\u001b[0;34m]\u001b[0m\u001b[0;34m,\u001b[0m \u001b[0;34m\"Check if you set the indices correctly\"\u001b[0m\u001b[0;34m\u001b[0m\u001b[0;34m\u001b[0m\u001b[0m\n\u001b[0;32m----> 5\u001b[0;31m \u001b[0;32massert\u001b[0m \u001b[0mresults_statistics\u001b[0m\u001b[0;34m[\u001b[0m\u001b[0;34m\"Paired\"\u001b[0m\u001b[0;34m]\u001b[0m\u001b[0;34m.\u001b[0m\u001b[0msum\u001b[0m\u001b[0;34m(\u001b[0m\u001b[0;34m)\u001b[0m \u001b[0;34m==\u001b[0m \u001b[0;36m3\u001b[0m\u001b[0;34m,\u001b[0m \u001b[0;34m\"Check your analysis parameters\"\u001b[0m\u001b[0;34m\u001b[0m\u001b[0;34m\u001b[0m\u001b[0m\n\u001b[0m\u001b[1;32m      6\u001b[0m \u001b[0;32massert\u001b[0m \u001b[0mlist\u001b[0m\u001b[0;34m(\u001b[0m\u001b[0mresults_statistics\u001b[0m\u001b[0;34m[\u001b[0m\u001b[0;34m\"Contrast\"\u001b[0m\u001b[0;34m]\u001b[0m\u001b[0;34m)\u001b[0m\u001b[0;34m[\u001b[0m\u001b[0;36m0\u001b[0m\u001b[0;34m]\u001b[0m \u001b[0;34m==\u001b[0m \u001b[0;34m\"time\"\u001b[0m \u001b[0;32mand\u001b[0m \u001b[0mlist\u001b[0m\u001b[0;34m(\u001b[0m\u001b[0mresults_statistics\u001b[0m\u001b[0;34m[\u001b[0m\u001b[0;34m\"A\"\u001b[0m\u001b[0;34m]\u001b[0m\u001b[0;34m)\u001b[0m\u001b[0;34m[\u001b[0m\u001b[0;36m0\u001b[0m\u001b[0;34m]\u001b[0m \u001b[0;34m==\u001b[0m \u001b[0;34m\"post\"\u001b[0m \u001b[0;32mand\u001b[0m \u001b[0mlist\u001b[0m\u001b[0;34m(\u001b[0m\u001b[0mresults_statistics\u001b[0m\u001b[0;34m[\u001b[0m\u001b[0;34m\"B\"\u001b[0m\u001b[0;34m]\u001b[0m\u001b[0;34m)\u001b[0m\u001b[0;34m[\u001b[0m\u001b[0;36m0\u001b[0m\u001b[0;34m]\u001b[0m \u001b[0;34m==\u001b[0m \u001b[0;34m\"pre\"\u001b[0m\u001b[0;34m,\u001b[0m \u001b[0;34m\"Check your analysis parameters\"\u001b[0m\u001b[0;34m\u001b[0m\u001b[0;34m\u001b[0m\u001b[0m\n\u001b[1;32m      7\u001b[0m \u001b[0mpval\u001b[0m \u001b[0;34m=\u001b[0m \u001b[0mlist\u001b[0m\u001b[0;34m(\u001b[0m\u001b[0mresults_statistics\u001b[0m\u001b[0;34m[\u001b[0m\u001b[0;34m\"p-unc\"\u001b[0m\u001b[0;34m]\u001b[0m\u001b[0;34m)\u001b[0m\u001b[0;34m\u001b[0m\u001b[0;34m\u001b[0m\u001b[0m\n",
            "\u001b[0;31mAssertionError\u001b[0m: Check your analysis parameters"
          ]
        }
      ],
      "source": [
        "# run tests to check your implementation\n",
        "assert type(results_statistics) == pd.DataFrame, \"Check if results_statistics is of type pandas.DataFrame\"\n",
        "assert results_statistics.shape[0] == 3, \"Check if you performed and stored the results for all subscales\"\n",
        "assert list(results_statistics.index) == [\"NegativeAffect\", \"PositiveAffect\", \"Total\"], \"Check if you set the indices correctly\"\n",
        "assert results_statistics[\"Paired\"].sum() == 3, \"Check your analysis parameters\"\n",
        "assert list(results_statistics[\"Contrast\"])[0] == \"time\" and list(results_statistics[\"A\"])[0] == \"post\" and list(results_statistics[\"B\"])[0] == \"pre\", \"Check your analysis parameters\"\n",
        "pval = list(results_statistics[\"p-unc\"])\n",
        "assert pval[0] < 0.2 and pval[1] < 0.0000006 and pval[2] < 0.000000007, \"Check your analysis parameters\""
      ]
    },
    {
      "cell_type": "markdown",
      "id": "386e5dcf-7d3d-46f9-a8b9-cf424f4ca762",
      "metadata": {
        "id": "386e5dcf-7d3d-46f9-a8b9-cf424f4ca762"
      },
      "source": [
        "#### 3. Cortisol Analysis\n",
        "In this task, we will use data from the same study as in the last assignment, which investigated the capability of the Cold Face Test (CFT) to reduce acute stress. Two groups underwent a similar study protocol, while the Control group performed a resting period and the Intervention group a CFT between study phases. This time we will not look at heart rate data but at cortisol values extracted from saliva samples that have been taken before and after the study phase."
      ]
    },
    {
      "cell_type": "code",
      "execution_count": 122,
      "id": "bb8033c8-dd1b-4cc0-ae64-69dc2ba3c635",
      "metadata": {
        "tags": [],
        "id": "bb8033c8-dd1b-4cc0-ae64-69dc2ba3c635",
        "colab": {
          "base_uri": "https://localhost:8080/",
          "height": 355,
          "referenced_widgets": [
            "bb146d6805de4fbc985f9c245d61e3e9",
            "ae3734b6877f45feb812130e4929fa3d",
            "d3cbebde0e4a41289401d6f7bd58bd79",
            "c290cd6a46ba4f40adcc65636500f594",
            "6b21e9a8685041caac6082acb708f817",
            "aa1010929b284b64aa2fe03b906382ab",
            "ad2aeb25b5794e14b933de8e1ac9d49c",
            "8852632279f048b587fd61d430960566",
            "7eb3c4366cc84a098b33e7e1675132d1",
            "b39e05e517d048919035bac5647dedf6",
            "8e7ed717d0b547abb021dd3648b797be"
          ]
        },
        "outputId": "b6f84272-9926-4b98-91f9-950d683b4d7f"
      },
      "outputs": [
        {
          "output_type": "stream",
          "name": "stdout",
          "text": [
            "Downloading file cortisol_sample.csv from remote URL: https://raw.githubusercontent.com/mad-lab-fau/BioPsyKit/main/example_data/cortisol_sample.csv.\n"
          ]
        },
        {
          "output_type": "display_data",
          "data": {
            "text/plain": [
              "cortisol_sample.csv: 0.00B [00:00, ?B/s]"
            ],
            "application/vnd.jupyter.widget-view+json": {
              "version_major": 2,
              "version_minor": 0,
              "model_id": "bb146d6805de4fbc985f9c245d61e3e9"
            }
          },
          "metadata": {}
        },
        {
          "output_type": "display_data",
          "data": {
            "text/plain": [
              "<Figure size 600x300 with 1 Axes>"
            ],
            "image/png": "[encoded data removed]"
          },
          "metadata": {}
        }
      ],
      "source": [
        "# run cell to load and visualize data\n",
        "data_cortisol = bp.example_data.get_saliva_example()\n",
        "sample_times = [-30, -1, 30, 40, 50, 60, 70]\n",
        "fig, ax = plt.subplots(figsize=(6, 3))\n",
        "bp.protocols.plotting.saliva_plot(\n",
        "    data=data_cortisol, saliva_type=\"cortisol\", sample_times=sample_times, test_times=[0, 30], sample_times_absolute=True,\n",
        "    test_title=\"Study Phase\", ax=ax,\n",
        ");"
      ]
    },
    {
      "cell_type": "code",
      "execution_count": 123,
      "id": "e4c73c9e-e1be-45e2-a228-1ec8c812fa27",
      "metadata": {
        "tags": [],
        "id": "e4c73c9e-e1be-45e2-a228-1ec8c812fa27",
        "colab": {
          "base_uri": "https://localhost:8080/",
          "height": 215
        },
        "outputId": "1e6bc5dd-7203-4f59-f335-247327763f66"
      },
      "outputs": [
        {
          "output_type": "execute_result",
          "data": {
            "text/plain": [
              "  condition subject saliva_feature    cortisol\n",
              "0   Control    Vp03          auc_g  870.418075\n",
              "1   Control    Vp03          auc_i  -72.035925\n",
              "2   Control    Vp03     auc_i_post  104.057250\n",
              "3   Control    Vp03        max_inc    0.956000\n",
              "4   Control    Vp03        slope14    0.013971"
            ],
            "text/html": [
              "\n",
              "  <div id=\"df-7b9e8c27-6581-4778-80ee-1767261d84c1\">\n",
              "    <div class=\"colab-df-container\">\n",
              "      <div>\n",
              "<style scoped>\n",
              "    .dataframe tbody tr th:only-of-type {\n",
              "        vertical-align: middle;\n",
              "    }\n",
              "\n",
              "    .dataframe tbody tr th {\n",
              "        vertical-align: top;\n",
              "    }\n",
              "\n",
              "    .dataframe thead th {\n",
              "        text-align: right;\n",
              "    }\n",
              "</style>\n",
              "<table border=\"1\" class=\"dataframe\">\n",
              "  <thead>\n",
              "    <tr style=\"text-align: right;\">\n",
              "      <th></th>\n",
              "      <th>condition</th>\n",
              "      <th>subject</th>\n",
              "      <th>saliva_feature</th>\n",
              "      <th>cortisol</th>\n",
              "    </tr>\n",
              "  </thead>\n",
              "  <tbody>\n",
              "    <tr>\n",
              "      <th>0</th>\n",
              "      <td>Control</td>\n",
              "      <td>Vp03</td>\n",
              "      <td>auc_g</td>\n",
              "      <td>870.418075</td>\n",
              "    </tr>\n",
              "    <tr>\n",
              "      <th>1</th>\n",
              "      <td>Control</td>\n",
              "      <td>Vp03</td>\n",
              "      <td>auc_i</td>\n",
              "      <td>-72.035925</td>\n",
              "    </tr>\n",
              "    <tr>\n",
              "      <th>2</th>\n",
              "      <td>Control</td>\n",
              "      <td>Vp03</td>\n",
              "      <td>auc_i_post</td>\n",
              "      <td>104.057250</td>\n",
              "    </tr>\n",
              "    <tr>\n",
              "      <th>3</th>\n",
              "      <td>Control</td>\n",
              "      <td>Vp03</td>\n",
              "      <td>max_inc</td>\n",
              "      <td>0.956000</td>\n",
              "    </tr>\n",
              "    <tr>\n",
              "      <th>4</th>\n",
              "      <td>Control</td>\n",
              "      <td>Vp03</td>\n",
              "      <td>slope14</td>\n",
              "      <td>0.013971</td>\n",
              "    </tr>\n",
              "  </tbody>\n",
              "</table>\n",
              "</div>\n",
              "      <button class=\"colab-df-convert\" onclick=\"convertToInteractive('df-7b9e8c27-6581-4778-80ee-1767261d84c1')\"\n",
              "              title=\"Convert this dataframe to an interactive table.\"\n",
              "              style=\"display:none;\">\n",
              "        \n",
              "  <svg xmlns=\"http://www.w3.org/2000/svg\" height=\"24px\"viewBox=\"0 0 24 24\"\n",
              "       width=\"24px\">\n",
              "    <path d=\"M0 0h24v24H0V0z\" fill=\"none\"/>\n",
              "    <path d=\"M18.56 5.44l.94 2.06.94-2.06 2.06-.94-2.06-.94-.94-2.06-.94 2.06-2.06.94zm-11 1L8.5 8.5l.94-2.06 2.06-.94-2.06-.94L8.5 2.5l-.94 2.06-2.06.94zm10 10l.94 2.06.94-2.06 2.06-.94-2.06-.94-.94-2.06-.94 2.06-2.06.94z\"/><path d=\"M17.41 7.96l-1.37-1.37c-.4-.4-.92-.59-1.43-.59-.52 0-1.04.2-1.43.59L10.3 9.45l-7.72 7.72c-.78.78-.78 2.05 0 2.83L4 21.41c.39.39.9.59 1.41.59.51 0 1.02-.2 1.41-.59l7.78-7.78 2.81-2.81c.8-.78.8-2.07 0-2.86zM5.41 20L4 18.59l7.72-7.72 1.47 1.35L5.41 20z\"/>\n",
              "  </svg>\n",
              "      </button>\n",
              "      \n",
              "  <style>\n",
              "    .colab-df-container {\n",
              "      display:flex;\n",
              "      flex-wrap:wrap;\n",
              "      gap: 12px;\n",
              "    }\n",
              "\n",
              "    .colab-df-convert {\n",
              "      background-color: #E8F0FE;\n",
              "      border: none;\n",
              "      border-radius: 50%;\n",
              "      cursor: pointer;\n",
              "      display: none;\n",
              "      fill: #1967D2;\n",
              "      height: 32px;\n",
              "      padding: 0 0 0 0;\n",
              "      width: 32px;\n",
              "    }\n",
              "\n",
              "    .colab-df-convert:hover {\n",
              "      background-color: #E2EBFA;\n",
              "      box-shadow: 0px 1px 2px rgba(60, 64, 67, 0.3), 0px 1px 3px 1px rgba(60, 64, 67, 0.15);\n",
              "      fill: #174EA6;\n",
              "    }\n",
              "\n",
              "    [theme=dark] .colab-df-convert {\n",
              "      background-color: #3B4455;\n",
              "      fill: #D2E3FC;\n",
              "    }\n",
              "\n",
              "    [theme=dark] .colab-df-convert:hover {\n",
              "      background-color: #434B5C;\n",
              "      box-shadow: 0px 1px 3px 1px rgba(0, 0, 0, 0.15);\n",
              "      filter: drop-shadow(0px 1px 2px rgba(0, 0, 0, 0.3));\n",
              "      fill: #FFFFFF;\n",
              "    }\n",
              "  </style>\n",
              "\n",
              "      <script>\n",
              "        const buttonEl =\n",
              "          document.querySelector('#df-7b9e8c27-6581-4778-80ee-1767261d84c1 button.colab-df-convert');\n",
              "        buttonEl.style.display =\n",
              "          google.colab.kernel.accessAllowed ? 'block' : 'none';\n",
              "\n",
              "        async function convertToInteractive(key) {\n",
              "          const element = document.querySelector('#df-7b9e8c27-6581-4778-80ee-1767261d84c1');\n",
              "          const dataTable =\n",
              "            await google.colab.kernel.invokeFunction('convertToInteractive',\n",
              "                                                     [key], {});\n",
              "          if (!dataTable) return;\n",
              "\n",
              "          const docLinkHtml = 'Like what you see? Visit the ' +\n",
              "            '<a target=\"_blank\" href=https://colab.research.google.com/notebooks/data_table.ipynb>data table notebook</a>'\n",
              "            + ' to learn more about interactive tables.';\n",
              "          element.innerHTML = '';\n",
              "          dataTable['output_type'] = 'display_data';\n",
              "          await google.colab.output.renderOutput(dataTable, element);\n",
              "          const docLink = document.createElement('div');\n",
              "          docLink.innerHTML = docLinkHtml;\n",
              "          element.appendChild(docLink);\n",
              "        }\n",
              "      </script>\n",
              "    </div>\n",
              "  </div>\n",
              "  "
            ]
          },
          "metadata": {},
          "execution_count": 123
        }
      ],
      "source": [
        "# run cell to extract features from cortisol data using BioPsyKit\n",
        "auc = bp.saliva.auc(\n",
        "    data_cortisol, saliva_type=\"cortisol\", sample_times=sample_times, compute_auc_post=True, remove_s0=True\n",
        ")\n",
        "max_inc = bp.saliva.max_increase(data_cortisol, saliva_type=\"cortisol\", remove_s0=True)\n",
        "slope = bp.saliva.slope(data_cortisol, sample_idx=[1, 4], sample_times=sample_times, saliva_type=\"cortisol\")\n",
        "\n",
        "cort_features = pd.concat([auc, max_inc, slope], axis=1)\n",
        "cort_features = bp.saliva.utils.saliva_feature_wide_to_long(cort_features, saliva_type=\"cortisol\")\n",
        "data_analysis = cort_features.reset_index()\n",
        "data_analysis.head()"
      ]
    },
    {
      "cell_type": "markdown",
      "id": "05f8f8b6-9d29-460b-9312-72e46a282f5e",
      "metadata": {
        "id": "05f8f8b6-9d29-460b-9312-72e46a282f5e"
      },
      "source": [
        "##### 3.1 Preparatory Analysis 1: Perform a Normality Check on ``data_analysis`` to test whether our samples come from a normal distribution:\n",
        "* Use the [pingouin.normality](https://pingouin-stats.org/build/html/generated/pingouin.normality.html) function\n",
        "* Perform the check for every feature-condition combination\n",
        "* Store your results in a data frame called ``results_normality``\n",
        "    * ``results_normality`` should have one row for every feature-condition combination and all the outputs of the pingouin function as columns\n",
        "    * Set the index of ``results_normality`` to ``saliva_feature`` and ``condition`` (in this order), set the index names accordingly\n",
        "* Sort the index of ``results_normality`` after performing all the tests"
      ]
    },
    {
      "cell_type": "code",
      "execution_count": 143,
      "id": "6563e4e9-6db3-4f7a-a71b-55bbfcca02f1",
      "metadata": {
        "deletable": false,
        "nbgrader": {
          "cell_type": "code",
          "checksum": "2821704964cafc9693531f868a881d6f",
          "grade": false,
          "grade_id": "norm_cortisol",
          "locked": false,
          "schema_version": 3,
          "solution": true,
          "task": false
        },
        "tags": [],
        "id": "6563e4e9-6db3-4f7a-a71b-55bbfcca02f1",
        "colab": {
          "base_uri": "https://localhost:8080/",
          "height": 747
        },
        "outputId": "26512125-d339-455f-eb02-3cd704be07a4"
      },
      "outputs": [
        {
          "output_type": "stream",
          "name": "stderr",
          "text": [
            "<ipython-input-143-36f027f0e72e>:8: FutureWarning: The frame.append method is deprecated and will be removed from pandas in a future version. Use pandas.concat instead.\n",
            "  results_normality = results_normality.append(normality_result)\n",
            "<ipython-input-143-36f027f0e72e>:8: FutureWarning: The frame.append method is deprecated and will be removed from pandas in a future version. Use pandas.concat instead.\n",
            "  results_normality = results_normality.append(normality_result)\n",
            "<ipython-input-143-36f027f0e72e>:8: FutureWarning: The frame.append method is deprecated and will be removed from pandas in a future version. Use pandas.concat instead.\n",
            "  results_normality = results_normality.append(normality_result)\n",
            "<ipython-input-143-36f027f0e72e>:8: FutureWarning: The frame.append method is deprecated and will be removed from pandas in a future version. Use pandas.concat instead.\n",
            "  results_normality = results_normality.append(normality_result)\n",
            "<ipython-input-143-36f027f0e72e>:8: FutureWarning: The frame.append method is deprecated and will be removed from pandas in a future version. Use pandas.concat instead.\n",
            "  results_normality = results_normality.append(normality_result)\n",
            "<ipython-input-143-36f027f0e72e>:8: FutureWarning: The frame.append method is deprecated and will be removed from pandas in a future version. Use pandas.concat instead.\n",
            "  results_normality = results_normality.append(normality_result)\n",
            "<ipython-input-143-36f027f0e72e>:8: FutureWarning: The frame.append method is deprecated and will be removed from pandas in a future version. Use pandas.concat instead.\n",
            "  results_normality = results_normality.append(normality_result)\n",
            "<ipython-input-143-36f027f0e72e>:8: FutureWarning: The frame.append method is deprecated and will be removed from pandas in a future version. Use pandas.concat instead.\n",
            "  results_normality = results_normality.append(normality_result)\n",
            "<ipython-input-143-36f027f0e72e>:8: FutureWarning: The frame.append method is deprecated and will be removed from pandas in a future version. Use pandas.concat instead.\n",
            "  results_normality = results_normality.append(normality_result)\n",
            "<ipython-input-143-36f027f0e72e>:8: FutureWarning: The frame.append method is deprecated and will be removed from pandas in a future version. Use pandas.concat instead.\n",
            "  results_normality = results_normality.append(normality_result)\n"
          ]
        },
        {
          "output_type": "error",
          "ename": "KeyError",
          "evalue": "ignored",
          "traceback": [
            "\u001b[0;31m---------------------------------------------------------------------------\u001b[0m",
            "\u001b[0;31mKeyError\u001b[0m                                  Traceback (most recent call last)",
            "\u001b[0;32m<ipython-input-143-36f027f0e72e>\u001b[0m in \u001b[0;36m<cell line: 11>\u001b[0;34m()\u001b[0m\n\u001b[1;32m      9\u001b[0m \u001b[0;34m\u001b[0m\u001b[0m\n\u001b[1;32m     10\u001b[0m \u001b[0;31m# Set the index and index names\u001b[0m\u001b[0;34m\u001b[0m\u001b[0;34m\u001b[0m\u001b[0m\n\u001b[0;32m---> 11\u001b[0;31m \u001b[0mresults_normality\u001b[0m\u001b[0;34m.\u001b[0m\u001b[0mset_index\u001b[0m\u001b[0;34m(\u001b[0m\u001b[0;34m[\u001b[0m\u001b[0;34m'saliva_feature'\u001b[0m\u001b[0;34m,\u001b[0m \u001b[0;34m'condition'\u001b[0m\u001b[0;34m]\u001b[0m\u001b[0;34m,\u001b[0m \u001b[0minplace\u001b[0m\u001b[0;34m=\u001b[0m\u001b[0;32mTrue\u001b[0m\u001b[0;34m)\u001b[0m\u001b[0;34m\u001b[0m\u001b[0;34m\u001b[0m\u001b[0m\n\u001b[0m\u001b[1;32m     12\u001b[0m \u001b[0mresults_normality\u001b[0m\u001b[0;34m.\u001b[0m\u001b[0mindex\u001b[0m\u001b[0;34m.\u001b[0m\u001b[0mnames\u001b[0m \u001b[0;34m=\u001b[0m \u001b[0;34m[\u001b[0m\u001b[0;34m'saliva_feature'\u001b[0m\u001b[0;34m,\u001b[0m \u001b[0;34m'condition'\u001b[0m\u001b[0;34m]\u001b[0m\u001b[0;34m\u001b[0m\u001b[0;34m\u001b[0m\u001b[0m\n\u001b[1;32m     13\u001b[0m \u001b[0;34m\u001b[0m\u001b[0m\n",
            "\u001b[0;32m/usr/local/lib/python3.10/dist-packages/pandas/util/_decorators.py\u001b[0m in \u001b[0;36mwrapper\u001b[0;34m(*args, **kwargs)\u001b[0m\n\u001b[1;32m    329\u001b[0m                     \u001b[0mstacklevel\u001b[0m\u001b[0;34m=\u001b[0m\u001b[0mfind_stack_level\u001b[0m\u001b[0;34m(\u001b[0m\u001b[0;34m)\u001b[0m\u001b[0;34m,\u001b[0m\u001b[0;34m\u001b[0m\u001b[0;34m\u001b[0m\u001b[0m\n\u001b[1;32m    330\u001b[0m                 )\n\u001b[0;32m--> 331\u001b[0;31m             \u001b[0;32mreturn\u001b[0m \u001b[0mfunc\u001b[0m\u001b[0;34m(\u001b[0m\u001b[0;34m*\u001b[0m\u001b[0margs\u001b[0m\u001b[0;34m,\u001b[0m \u001b[0;34m**\u001b[0m\u001b[0mkwargs\u001b[0m\u001b[0;34m)\u001b[0m\u001b[0;34m\u001b[0m\u001b[0;34m\u001b[0m\u001b[0m\n\u001b[0m\u001b[1;32m    332\u001b[0m \u001b[0;34m\u001b[0m\u001b[0m\n\u001b[1;32m    333\u001b[0m         \u001b[0;31m# error: \"Callable[[VarArg(Any), KwArg(Any)], Any]\" has no\u001b[0m\u001b[0;34m\u001b[0m\u001b[0;34m\u001b[0m\u001b[0m\n",
            "\u001b[0;32m/usr/local/lib/python3.10/dist-packages/pandas/core/frame.py\u001b[0m in \u001b[0;36mset_index\u001b[0;34m(self, keys, drop, append, inplace, verify_integrity)\u001b[0m\n\u001b[1;32m   6010\u001b[0m \u001b[0;34m\u001b[0m\u001b[0m\n\u001b[1;32m   6011\u001b[0m         \u001b[0;32mif\u001b[0m \u001b[0mmissing\u001b[0m\u001b[0;34m:\u001b[0m\u001b[0;34m\u001b[0m\u001b[0;34m\u001b[0m\u001b[0m\n\u001b[0;32m-> 6012\u001b[0;31m             \u001b[0;32mraise\u001b[0m \u001b[0mKeyError\u001b[0m\u001b[0;34m(\u001b[0m\u001b[0;34mf\"None of {missing} are in the columns\"\u001b[0m\u001b[0;34m)\u001b[0m\u001b[0;34m\u001b[0m\u001b[0;34m\u001b[0m\u001b[0m\n\u001b[0m\u001b[1;32m   6013\u001b[0m \u001b[0;34m\u001b[0m\u001b[0m\n\u001b[1;32m   6014\u001b[0m         \u001b[0;32mif\u001b[0m \u001b[0minplace\u001b[0m\u001b[0;34m:\u001b[0m\u001b[0;34m\u001b[0m\u001b[0;34m\u001b[0m\u001b[0m\n",
            "\u001b[0;31mKeyError\u001b[0m: \"None of ['saliva_feature', 'condition'] are in the columns\""
          ]
        }
      ],
      "source": [
        "# Check for normality of data_analysis\n",
        "results_normality = pd.DataFrame()\n",
        "\n",
        "for feature in data_analysis['saliva_feature'].unique():\n",
        "    for condition in data_analysis['condition'].unique():\n",
        "        subset = data_analysis[(data_analysis['saliva_feature'] == feature) & (data_analysis['condition'] == condition)]\n",
        "        normality_result = pg.normality(subset['cortisol'])\n",
        "        results_normality = results_normality.append(normality_result)\n",
        "\n",
        "# Set the index and index names\n",
        "results_normality.set_index(['saliva_feature', 'condition'], inplace=True)\n",
        "results_normality.index.names = ['saliva_feature', 'condition']\n",
        "\n",
        "# Sort the index\n",
        "results_normality.sort_index(inplace=True)\n",
        "\n",
        "results_normality\n"
      ]
    },
    {
      "cell_type": "code",
      "execution_count": 147,
      "id": "f7f91493-e671-44fd-ba52-642bc65a39ea",
      "metadata": {
        "deletable": false,
        "editable": false,
        "nbgrader": {
          "cell_type": "code",
          "checksum": "6849c336cfe7170fe19b01d863c3195a",
          "grade": true,
          "grade_id": "norm_cortisol_test",
          "locked": true,
          "points": 2,
          "schema_version": 3,
          "solution": false,
          "task": false
        },
        "tags": [],
        "id": "f7f91493-e671-44fd-ba52-642bc65a39ea",
        "colab": {
          "base_uri": "https://localhost:8080/",
          "height": 269
        },
        "outputId": "2b5f0c1e-d9ee-4425-e855-2f26d10e4168"
      },
      "outputs": [
        {
          "output_type": "error",
          "ename": "AssertionError",
          "evalue": "ignored",
          "traceback": [
            "\u001b[0;31m---------------------------------------------------------------------------\u001b[0m",
            "\u001b[0;31mAssertionError\u001b[0m                            Traceback (most recent call last)",
            "\u001b[0;32m<ipython-input-147-8692bc952863>\u001b[0m in \u001b[0;36m<cell line: 4>\u001b[0;34m()\u001b[0m\n\u001b[1;32m      2\u001b[0m \u001b[0;32massert\u001b[0m \u001b[0mtype\u001b[0m\u001b[0;34m(\u001b[0m\u001b[0mresults_normality\u001b[0m\u001b[0;34m)\u001b[0m \u001b[0;34m==\u001b[0m \u001b[0mpd\u001b[0m\u001b[0;34m.\u001b[0m\u001b[0mDataFrame\u001b[0m\u001b[0;34m,\u001b[0m \u001b[0;34m\"Check if results_normality is of type pandas.DataFrame\"\u001b[0m\u001b[0;34m\u001b[0m\u001b[0;34m\u001b[0m\u001b[0m\n\u001b[1;32m      3\u001b[0m \u001b[0;32massert\u001b[0m \u001b[0mresults_normality\u001b[0m\u001b[0;34m.\u001b[0m\u001b[0mshape\u001b[0m\u001b[0;34m[\u001b[0m\u001b[0;36m0\u001b[0m\u001b[0;34m]\u001b[0m \u001b[0;34m==\u001b[0m \u001b[0;36m10\u001b[0m\u001b[0;34m,\u001b[0m \u001b[0;34m\"Check if you performed and stored the results for all condition-saliva feature combinations\"\u001b[0m\u001b[0;34m\u001b[0m\u001b[0;34m\u001b[0m\u001b[0m\n\u001b[0;32m----> 4\u001b[0;31m \u001b[0;32massert\u001b[0m \u001b[0mlist\u001b[0m\u001b[0;34m(\u001b[0m\u001b[0mresults_normality\u001b[0m\u001b[0;34m.\u001b[0m\u001b[0mindex\u001b[0m\u001b[0;34m.\u001b[0m\u001b[0mnames\u001b[0m\u001b[0;34m)\u001b[0m \u001b[0;34m==\u001b[0m \u001b[0;34m[\u001b[0m\u001b[0;34m\"saliva_feature\"\u001b[0m\u001b[0;34m,\u001b[0m \u001b[0;34m\"condition\"\u001b[0m\u001b[0;34m]\u001b[0m\u001b[0;34m,\u001b[0m \u001b[0;34m\"Check if you set the names and order of your indices correctly, saliva_feature comes first\"\u001b[0m\u001b[0;34m\u001b[0m\u001b[0;34m\u001b[0m\u001b[0m\n\u001b[0m\u001b[1;32m      5\u001b[0m \u001b[0;32massert\u001b[0m \u001b[0mlist\u001b[0m\u001b[0;34m(\u001b[0m\u001b[0mresults_normality\u001b[0m\u001b[0;34m.\u001b[0m\u001b[0mcolumns\u001b[0m\u001b[0;34m)\u001b[0m \u001b[0;34m==\u001b[0m \u001b[0;34m[\u001b[0m\u001b[0;34m\"W\"\u001b[0m\u001b[0;34m,\u001b[0m \u001b[0;34m\"pval\"\u001b[0m\u001b[0;34m,\u001b[0m \u001b[0;34m\"normal\"\u001b[0m\u001b[0;34m]\u001b[0m\u001b[0;34m,\u001b[0m \u001b[0;34m\"Check if you performed the right analysis\"\u001b[0m\u001b[0;34m\u001b[0m\u001b[0;34m\u001b[0m\u001b[0m\n\u001b[1;32m      6\u001b[0m \u001b[0;32massert\u001b[0m \u001b[0mtype\u001b[0m\u001b[0;34m(\u001b[0m\u001b[0mresults_normality\u001b[0m\u001b[0;34m.\u001b[0m\u001b[0mindex\u001b[0m\u001b[0;34m)\u001b[0m \u001b[0;34m==\u001b[0m \u001b[0mpd\u001b[0m\u001b[0;34m.\u001b[0m\u001b[0mMultiIndex\u001b[0m \u001b[0;32mand\u001b[0m \u001b[0mlist\u001b[0m\u001b[0;34m(\u001b[0m\u001b[0mresults_normality\u001b[0m\u001b[0;34m.\u001b[0m\u001b[0mindex\u001b[0m\u001b[0;34m.\u001b[0m\u001b[0mnames\u001b[0m\u001b[0;34m)\u001b[0m \u001b[0;34m==\u001b[0m \u001b[0;34m[\u001b[0m\u001b[0;34m\"saliva_feature\"\u001b[0m\u001b[0;34m,\u001b[0m \u001b[0;34m\"condition\"\u001b[0m\u001b[0;34m]\u001b[0m\u001b[0;34m,\u001b[0m \u001b[0;34m\"Check if you set saliva feature and condition as index\"\u001b[0m\u001b[0;34m\u001b[0m\u001b[0;34m\u001b[0m\u001b[0m\n",
            "\u001b[0;31mAssertionError\u001b[0m: Check if you set the names and order of your indices correctly, saliva_feature comes first"
          ]
        }
      ],
      "source": [
        "# run tests to check your implementation\n",
        "assert type(results_normality) == pd.DataFrame, \"Check if results_normality is of type pandas.DataFrame\"\n",
        "assert results_normality.shape[0] == 10, \"Check if you performed and stored the results for all condition-saliva feature combinations\"\n",
        "assert list(results_normality.index.names) == [\"saliva_feature\", \"condition\"], \"Check if you set the names and order of your indices correctly, saliva_feature comes first\"\n",
        "assert list(results_normality.columns) == [\"W\", \"pval\", \"normal\"], \"Check if you performed the right analysis\"\n",
        "assert type(results_normality.index) == pd.MultiIndex and list(results_normality.index.names) == [\"saliva_feature\", \"condition\"], \"Check if you set saliva feature and condition as index\"\n",
        "assert list(results_normality.index.get_level_values(1)) == [\"Control\", \"Intervention\"] * 5, \"Check if you sorted your index\"\n",
        "assert results_normality[\"normal\"].to_list() == [True, True, False, True, False, True, False, True, False, True], \"Check if you set the parameters correctly\""
      ]
    },
    {
      "cell_type": "markdown",
      "id": "e7614cf3-b62c-4573-9e3a-2aeed76e87d3",
      "metadata": {
        "id": "e7614cf3-b62c-4573-9e3a-2aeed76e87d3"
      },
      "source": [
        "##### 3.2 Preparatory Analysis 2: Perform a Homoscedasticity Check on ``data_analysis`` to test for the equality of variances:\n",
        "* Use the [pingouin.homoscedasticity](https://pingouin-stats.org/build/html/generated/pingouin.homoscedasticity.html#pingouin.homoscedasticity) function\n",
        "* Perform the check for every feature\n",
        "* Store your results in a data frame called ``results_variance``\n",
        "    * ``results_variance`` should have one row for every feature and all the outputs of the pingouin function as columns\n",
        "    * Set the saliva features as the indices of ``results_variance``"
      ]
    },
    {
      "cell_type": "code",
      "execution_count": 144,
      "id": "1a322a96-180f-4c32-a6c5-b05eda6ef1ca",
      "metadata": {
        "deletable": false,
        "nbgrader": {
          "cell_type": "code",
          "checksum": "4f18026dd24235e01db884064b411f63",
          "grade": false,
          "grade_id": "var_cortisol",
          "locked": false,
          "schema_version": 3,
          "solution": true,
          "task": false
        },
        "tags": [],
        "id": "1a322a96-180f-4c32-a6c5-b05eda6ef1ca",
        "colab": {
          "base_uri": "https://localhost:8080/",
          "height": 574
        },
        "outputId": "0d34ed7b-73c6-47c1-cacc-bc6e719641b8"
      },
      "outputs": [
        {
          "output_type": "stream",
          "name": "stderr",
          "text": [
            "<ipython-input-144-5e9c3900dafd>:7: FutureWarning: The frame.append method is deprecated and will be removed from pandas in a future version. Use pandas.concat instead.\n",
            "  results_variance = results_variance.append(variance_result)\n",
            "<ipython-input-144-5e9c3900dafd>:7: FutureWarning: The frame.append method is deprecated and will be removed from pandas in a future version. Use pandas.concat instead.\n",
            "  results_variance = results_variance.append(variance_result)\n",
            "<ipython-input-144-5e9c3900dafd>:7: FutureWarning: The frame.append method is deprecated and will be removed from pandas in a future version. Use pandas.concat instead.\n",
            "  results_variance = results_variance.append(variance_result)\n",
            "<ipython-input-144-5e9c3900dafd>:7: FutureWarning: The frame.append method is deprecated and will be removed from pandas in a future version. Use pandas.concat instead.\n",
            "  results_variance = results_variance.append(variance_result)\n",
            "<ipython-input-144-5e9c3900dafd>:7: FutureWarning: The frame.append method is deprecated and will be removed from pandas in a future version. Use pandas.concat instead.\n",
            "  results_variance = results_variance.append(variance_result)\n"
          ]
        },
        {
          "output_type": "error",
          "ename": "KeyError",
          "evalue": "ignored",
          "traceback": [
            "\u001b[0;31m---------------------------------------------------------------------------\u001b[0m",
            "\u001b[0;31mKeyError\u001b[0m                                  Traceback (most recent call last)",
            "\u001b[0;32m<ipython-input-144-5e9c3900dafd>\u001b[0m in \u001b[0;36m<cell line: 10>\u001b[0;34m()\u001b[0m\n\u001b[1;32m      8\u001b[0m \u001b[0;34m\u001b[0m\u001b[0m\n\u001b[1;32m      9\u001b[0m \u001b[0;31m# Set saliva features as the indices\u001b[0m\u001b[0;34m\u001b[0m\u001b[0;34m\u001b[0m\u001b[0m\n\u001b[0;32m---> 10\u001b[0;31m \u001b[0mresults_variance\u001b[0m\u001b[0;34m.\u001b[0m\u001b[0mset_index\u001b[0m\u001b[0;34m(\u001b[0m\u001b[0;34m'saliva_feature'\u001b[0m\u001b[0;34m,\u001b[0m \u001b[0minplace\u001b[0m\u001b[0;34m=\u001b[0m\u001b[0;32mTrue\u001b[0m\u001b[0;34m)\u001b[0m\u001b[0;34m\u001b[0m\u001b[0;34m\u001b[0m\u001b[0m\n\u001b[0m\u001b[1;32m     11\u001b[0m \u001b[0;34m\u001b[0m\u001b[0m\n\u001b[1;32m     12\u001b[0m \u001b[0mresults_variance\u001b[0m\u001b[0;34m\u001b[0m\u001b[0;34m\u001b[0m\u001b[0m\n",
            "\u001b[0;32m/usr/local/lib/python3.10/dist-packages/pandas/util/_decorators.py\u001b[0m in \u001b[0;36mwrapper\u001b[0;34m(*args, **kwargs)\u001b[0m\n\u001b[1;32m    329\u001b[0m                     \u001b[0mstacklevel\u001b[0m\u001b[0;34m=\u001b[0m\u001b[0mfind_stack_level\u001b[0m\u001b[0;34m(\u001b[0m\u001b[0;34m)\u001b[0m\u001b[0;34m,\u001b[0m\u001b[0;34m\u001b[0m\u001b[0;34m\u001b[0m\u001b[0m\n\u001b[1;32m    330\u001b[0m                 )\n\u001b[0;32m--> 331\u001b[0;31m             \u001b[0;32mreturn\u001b[0m \u001b[0mfunc\u001b[0m\u001b[0;34m(\u001b[0m\u001b[0;34m*\u001b[0m\u001b[0margs\u001b[0m\u001b[0;34m,\u001b[0m \u001b[0;34m**\u001b[0m\u001b[0mkwargs\u001b[0m\u001b[0;34m)\u001b[0m\u001b[0;34m\u001b[0m\u001b[0;34m\u001b[0m\u001b[0m\n\u001b[0m\u001b[1;32m    332\u001b[0m \u001b[0;34m\u001b[0m\u001b[0m\n\u001b[1;32m    333\u001b[0m         \u001b[0;31m# error: \"Callable[[VarArg(Any), KwArg(Any)], Any]\" has no\u001b[0m\u001b[0;34m\u001b[0m\u001b[0;34m\u001b[0m\u001b[0m\n",
            "\u001b[0;32m/usr/local/lib/python3.10/dist-packages/pandas/core/frame.py\u001b[0m in \u001b[0;36mset_index\u001b[0;34m(self, keys, drop, append, inplace, verify_integrity)\u001b[0m\n\u001b[1;32m   6010\u001b[0m \u001b[0;34m\u001b[0m\u001b[0m\n\u001b[1;32m   6011\u001b[0m         \u001b[0;32mif\u001b[0m \u001b[0mmissing\u001b[0m\u001b[0;34m:\u001b[0m\u001b[0;34m\u001b[0m\u001b[0;34m\u001b[0m\u001b[0m\n\u001b[0;32m-> 6012\u001b[0;31m             \u001b[0;32mraise\u001b[0m \u001b[0mKeyError\u001b[0m\u001b[0;34m(\u001b[0m\u001b[0;34mf\"None of {missing} are in the columns\"\u001b[0m\u001b[0;34m)\u001b[0m\u001b[0;34m\u001b[0m\u001b[0;34m\u001b[0m\u001b[0m\n\u001b[0m\u001b[1;32m   6013\u001b[0m \u001b[0;34m\u001b[0m\u001b[0m\n\u001b[1;32m   6014\u001b[0m         \u001b[0;32mif\u001b[0m \u001b[0minplace\u001b[0m\u001b[0;34m:\u001b[0m\u001b[0;34m\u001b[0m\u001b[0;34m\u001b[0m\u001b[0m\n",
            "\u001b[0;31mKeyError\u001b[0m: \"None of ['saliva_feature'] are in the columns\""
          ]
        }
      ],
      "source": [
        "# Check for homoscedasticity of data_analysis\n",
        "results_variance = pd.DataFrame()\n",
        "\n",
        "for feature in data_analysis['saliva_feature'].unique():\n",
        "    subset = data_analysis[data_analysis['saliva_feature'] == feature]\n",
        "    variance_result = pg.homoscedasticity(subset, dv='cortisol', group='condition')\n",
        "    results_variance = results_variance.append(variance_result)\n",
        "\n",
        "# Set saliva features as the indices\n",
        "results_variance.set_index('saliva_feature', inplace=True)\n",
        "\n",
        "results_variance\n"
      ]
    },
    {
      "cell_type": "code",
      "execution_count": 148,
      "id": "98e7b749-ec07-47d1-985e-f557a2afc6a9",
      "metadata": {
        "deletable": false,
        "editable": false,
        "nbgrader": {
          "cell_type": "code",
          "checksum": "aee7da21c71f92d46a3160883a30d918",
          "grade": true,
          "grade_id": "var_cortisol_test",
          "locked": true,
          "points": 2,
          "schema_version": 3,
          "solution": false,
          "task": false
        },
        "tags": [],
        "id": "98e7b749-ec07-47d1-985e-f557a2afc6a9",
        "colab": {
          "base_uri": "https://localhost:8080/",
          "height": 252
        },
        "outputId": "9b2792ee-66df-449e-d4c1-22eefb3740b5"
      },
      "outputs": [
        {
          "output_type": "error",
          "ename": "AssertionError",
          "evalue": "ignored",
          "traceback": [
            "\u001b[0;31m---------------------------------------------------------------------------\u001b[0m",
            "\u001b[0;31mAssertionError\u001b[0m                            Traceback (most recent call last)",
            "\u001b[0;32m<ipython-input-148-b9f2f0edd824>\u001b[0m in \u001b[0;36m<cell line: 5>\u001b[0;34m()\u001b[0m\n\u001b[1;32m      3\u001b[0m \u001b[0;32massert\u001b[0m \u001b[0mresults_variance\u001b[0m\u001b[0;34m.\u001b[0m\u001b[0mshape\u001b[0m\u001b[0;34m[\u001b[0m\u001b[0;36m0\u001b[0m\u001b[0;34m]\u001b[0m \u001b[0;34m==\u001b[0m \u001b[0;36m5\u001b[0m\u001b[0;34m,\u001b[0m \u001b[0;34m\"Check if you performed the test for all 5 saliva features\"\u001b[0m\u001b[0;34m\u001b[0m\u001b[0;34m\u001b[0m\u001b[0m\n\u001b[1;32m      4\u001b[0m \u001b[0;32massert\u001b[0m \u001b[0mlist\u001b[0m\u001b[0;34m(\u001b[0m\u001b[0mresults_variance\u001b[0m\u001b[0;34m.\u001b[0m\u001b[0mcolumns\u001b[0m\u001b[0;34m)\u001b[0m \u001b[0;34m==\u001b[0m \u001b[0;34m[\u001b[0m\u001b[0;34m\"W\"\u001b[0m\u001b[0;34m,\u001b[0m \u001b[0;34m\"pval\"\u001b[0m\u001b[0;34m,\u001b[0m \u001b[0;34m\"equal_var\"\u001b[0m\u001b[0;34m]\u001b[0m\u001b[0;34m,\u001b[0m \u001b[0;34m\"Check if you performed the right analysis\"\u001b[0m\u001b[0;34m\u001b[0m\u001b[0;34m\u001b[0m\u001b[0m\n\u001b[0;32m----> 5\u001b[0;31m \u001b[0;32massert\u001b[0m \u001b[0mtype\u001b[0m\u001b[0;34m(\u001b[0m\u001b[0mresults_variance\u001b[0m\u001b[0;34m.\u001b[0m\u001b[0mindex\u001b[0m\u001b[0;34m)\u001b[0m \u001b[0;34m==\u001b[0m \u001b[0mpd\u001b[0m\u001b[0;34m.\u001b[0m\u001b[0mIndex\u001b[0m \u001b[0;32mand\u001b[0m \u001b[0mlist\u001b[0m\u001b[0;34m(\u001b[0m\u001b[0mresults_variance\u001b[0m\u001b[0;34m.\u001b[0m\u001b[0mindex\u001b[0m\u001b[0;34m.\u001b[0m\u001b[0mnames\u001b[0m\u001b[0;34m)\u001b[0m \u001b[0;34m==\u001b[0m\u001b[0;34m[\u001b[0m\u001b[0;34m\"saliva_feature\"\u001b[0m\u001b[0;34m]\u001b[0m\u001b[0;34m,\u001b[0m \u001b[0;34m\"Check if you set only saliva_feature as index\"\u001b[0m\u001b[0;34m\u001b[0m\u001b[0;34m\u001b[0m\u001b[0m\n\u001b[0m\u001b[1;32m      6\u001b[0m \u001b[0;32massert\u001b[0m \u001b[0mlist\u001b[0m\u001b[0;34m(\u001b[0m\u001b[0mresults_variance\u001b[0m\u001b[0;34m.\u001b[0m\u001b[0mindex\u001b[0m\u001b[0;34m)\u001b[0m \u001b[0;34m==\u001b[0m \u001b[0;34m[\u001b[0m\u001b[0;34m\"auc_g\"\u001b[0m\u001b[0;34m,\u001b[0m \u001b[0;34m\"auc_i\"\u001b[0m\u001b[0;34m,\u001b[0m \u001b[0;34m\"auc_i_post\"\u001b[0m\u001b[0;34m,\u001b[0m \u001b[0;34m\"max_inc\"\u001b[0m\u001b[0;34m,\u001b[0m \u001b[0;34m\"slope14\"\u001b[0m\u001b[0;34m]\u001b[0m\u001b[0;34m,\u001b[0m \u001b[0;34m\"Check if you set the index correctly\"\u001b[0m\u001b[0;34m\u001b[0m\u001b[0;34m\u001b[0m\u001b[0m\n\u001b[1;32m      7\u001b[0m \u001b[0;32massert\u001b[0m \u001b[0mlist\u001b[0m\u001b[0;34m(\u001b[0m\u001b[0mresults_variance\u001b[0m\u001b[0;34m[\u001b[0m\u001b[0;34m\"equal_var\"\u001b[0m\u001b[0;34m]\u001b[0m\u001b[0;34m)\u001b[0m \u001b[0;34m==\u001b[0m \u001b[0;34m[\u001b[0m\u001b[0;32mTrue\u001b[0m\u001b[0;34m]\u001b[0m \u001b[0;34m*\u001b[0m \u001b[0;36m5\u001b[0m\u001b[0;34m,\u001b[0m \u001b[0;34m\"Check if you set the parameters correctly\"\u001b[0m\u001b[0;34m\u001b[0m\u001b[0;34m\u001b[0m\u001b[0m\n",
            "\u001b[0;31mAssertionError\u001b[0m: Check if you set only saliva_feature as index"
          ]
        }
      ],
      "source": [
        "# run tests to check your implementation\n",
        "assert type(results_variance) == pd.DataFrame, \"Check if results_variance is of type pandas.DataFrame\"\n",
        "assert results_variance.shape[0] == 5, \"Check if you performed the test for all 5 saliva features\"\n",
        "assert list(results_variance.columns) == [\"W\", \"pval\", \"equal_var\"], \"Check if you performed the right analysis\"\n",
        "assert type(results_variance.index) == pd.Index and list(results_variance.index.names) ==[\"saliva_feature\"], \"Check if you set only saliva_feature as index\"\n",
        "assert list(results_variance.index) == [\"auc_g\", \"auc_i\", \"auc_i_post\", \"max_inc\", \"slope14\"], \"Check if you set the index correctly\"\n",
        "assert list(results_variance[\"equal_var\"]) == [True] * 5, \"Check if you set the parameters correctly\""
      ]
    },
    {
      "cell_type": "markdown",
      "id": "78bd753e-44f7-48f0-8b1f-505e2f860a63",
      "metadata": {
        "id": "78bd753e-44f7-48f0-8b1f-505e2f860a63"
      },
      "source": [
        "##### 3.3 Statistical Test: Perform a statistical analysis for the cortisol features stored in ``data_analysis`` to test for differences between group means (differences between conditions separately for all the saliva features):\n",
        "* Follow the guidelines described in the lecture slides or provided by [pingouin](https://pingouin-stats.org/build/html/guidelines.html)\n",
        "* You should use the ``pingouin`` functions for your analysis\n",
        "* Store your results in a data frame called ``results_statistics``\n",
        "    * ``results_statistics`` should have one row for every saliva feature and all the outputs of the ``pingouin`` function as columns\n",
        "    * Set the saliva features as the indices of ``results_statistics``\n",
        "\n",
        "**Hint**: Since we computed features on dependent saliva samples, you should have a look into statistical tests with a *mixed design*."
      ]
    },
    {
      "cell_type": "code",
      "execution_count": 145,
      "id": "057d558f-b00c-4aff-b7a2-b2c752ed78a6",
      "metadata": {
        "deletable": false,
        "nbgrader": {
          "cell_type": "code",
          "checksum": "58afb0e7d8e6288dcf5becd645c629c6",
          "grade": false,
          "grade_id": "stats_cortisol",
          "locked": false,
          "schema_version": 3,
          "solution": true,
          "task": false
        },
        "tags": [],
        "id": "057d558f-b00c-4aff-b7a2-b2c752ed78a6",
        "colab": {
          "base_uri": "https://localhost:8080/",
          "height": 373
        },
        "outputId": "b68bb4bb-6993-4a68-8eff-a729e166ccbf"
      },
      "outputs": [
        {
          "output_type": "error",
          "ename": "ValueError",
          "evalue": "ignored",
          "traceback": [
            "\u001b[0;31m---------------------------------------------------------------------------\u001b[0m",
            "\u001b[0;31mValueError\u001b[0m                                Traceback (most recent call last)",
            "\u001b[0;32m<ipython-input-145-36f782878538>\u001b[0m in \u001b[0;36m<cell line: 5>\u001b[0;34m()\u001b[0m\n\u001b[1;32m      5\u001b[0m \u001b[0;32mfor\u001b[0m \u001b[0mfeature\u001b[0m \u001b[0;32min\u001b[0m \u001b[0mdata_analysis\u001b[0m\u001b[0;34m[\u001b[0m\u001b[0;34m'saliva_feature'\u001b[0m\u001b[0;34m]\u001b[0m\u001b[0;34m.\u001b[0m\u001b[0munique\u001b[0m\u001b[0;34m(\u001b[0m\u001b[0;34m)\u001b[0m\u001b[0;34m:\u001b[0m\u001b[0;34m\u001b[0m\u001b[0;34m\u001b[0m\u001b[0m\n\u001b[1;32m      6\u001b[0m     \u001b[0msubset\u001b[0m \u001b[0;34m=\u001b[0m \u001b[0mdata_analysis\u001b[0m\u001b[0;34m[\u001b[0m\u001b[0mdata_analysis\u001b[0m\u001b[0;34m[\u001b[0m\u001b[0;34m'saliva_feature'\u001b[0m\u001b[0;34m]\u001b[0m \u001b[0;34m==\u001b[0m \u001b[0mfeature\u001b[0m\u001b[0;34m]\u001b[0m\u001b[0;34m\u001b[0m\u001b[0;34m\u001b[0m\u001b[0m\n\u001b[0;32m----> 7\u001b[0;31m     \u001b[0mmixed_design_result\u001b[0m \u001b[0;34m=\u001b[0m \u001b[0mpg\u001b[0m\u001b[0;34m.\u001b[0m\u001b[0mmixed_anova\u001b[0m\u001b[0;34m(\u001b[0m\u001b[0mdata\u001b[0m\u001b[0;34m=\u001b[0m\u001b[0msubset\u001b[0m\u001b[0;34m,\u001b[0m \u001b[0mdv\u001b[0m\u001b[0;34m=\u001b[0m\u001b[0;34m'cortisol'\u001b[0m\u001b[0;34m,\u001b[0m \u001b[0mwithin\u001b[0m\u001b[0;34m=\u001b[0m\u001b[0;34m'condition'\u001b[0m\u001b[0;34m,\u001b[0m \u001b[0msubject\u001b[0m\u001b[0;34m=\u001b[0m\u001b[0;34m'subject'\u001b[0m\u001b[0;34m)\u001b[0m\u001b[0;34m\u001b[0m\u001b[0;34m\u001b[0m\u001b[0m\n\u001b[0m\u001b[1;32m      8\u001b[0m     \u001b[0mresults_statistics\u001b[0m \u001b[0;34m=\u001b[0m \u001b[0mresults_statistics\u001b[0m\u001b[0;34m.\u001b[0m\u001b[0mappend\u001b[0m\u001b[0;34m(\u001b[0m\u001b[0mmixed_design_result\u001b[0m\u001b[0;34m)\u001b[0m\u001b[0;34m\u001b[0m\u001b[0;34m\u001b[0m\u001b[0m\n\u001b[1;32m      9\u001b[0m \u001b[0;34m\u001b[0m\u001b[0m\n",
            "\u001b[0;32m/usr/local/lib/python3.10/dist-packages/pingouin/parametric.py\u001b[0m in \u001b[0;36mmixed_anova\u001b[0;34m(data, dv, within, subject, between, correction, effsize)\u001b[0m\n\u001b[1;32m   1471\u001b[0m     \u001b[0mboth_are_str\u001b[0m \u001b[0;34m=\u001b[0m \u001b[0misinstance\u001b[0m\u001b[0;34m(\u001b[0m\u001b[0mwithin\u001b[0m\u001b[0;34m,\u001b[0m \u001b[0;34m(\u001b[0m\u001b[0mstr\u001b[0m\u001b[0;34m,\u001b[0m \u001b[0mint\u001b[0m\u001b[0;34m)\u001b[0m\u001b[0;34m)\u001b[0m \u001b[0;32mand\u001b[0m \u001b[0misinstance\u001b[0m\u001b[0;34m(\u001b[0m\u001b[0mbetween\u001b[0m\u001b[0;34m,\u001b[0m \u001b[0;34m(\u001b[0m\u001b[0mstr\u001b[0m\u001b[0;34m,\u001b[0m \u001b[0mint\u001b[0m\u001b[0;34m)\u001b[0m\u001b[0;34m)\u001b[0m\u001b[0;34m\u001b[0m\u001b[0;34m\u001b[0m\u001b[0m\n\u001b[1;32m   1472\u001b[0m     \u001b[0;32mif\u001b[0m \u001b[0mone_is_list\u001b[0m \u001b[0;32mor\u001b[0m \u001b[0;32mnot\u001b[0m \u001b[0mboth_are_str\u001b[0m\u001b[0;34m:\u001b[0m\u001b[0;34m\u001b[0m\u001b[0;34m\u001b[0m\u001b[0m\n\u001b[0;32m-> 1473\u001b[0;31m         raise ValueError(\n\u001b[0m\u001b[1;32m   1474\u001b[0m             \u001b[0;34m\"within and between factors must both be strings referring to a column in the data. \"\u001b[0m\u001b[0;34m\u001b[0m\u001b[0;34m\u001b[0m\u001b[0m\n\u001b[1;32m   1475\u001b[0m             \u001b[0;34m\"Specifying multiple within and between factors is currently not supported. \"\u001b[0m\u001b[0;34m\u001b[0m\u001b[0;34m\u001b[0m\u001b[0m\n",
            "\u001b[0;31mValueError\u001b[0m: within and between factors must both be strings referring to a column in the data. Specifying multiple within and between factors is currently not supported. For more information, see: https://github.com/raphaelvallat/pingouin/issues/136"
          ]
        }
      ],
      "source": [
        "# Initialize an empty DataFrame to store the results\n",
        "results_statistics = pd.DataFrame()\n",
        "\n",
        "# Perform statistical analysis for each saliva feature\n",
        "for feature in data_analysis['saliva_feature'].unique():\n",
        "    subset = data_analysis[data_analysis['saliva_feature'] == feature]\n",
        "    mixed_design_result = pg.mixed_anova(data=subset, dv='cortisol', within='condition', subject='subject')\n",
        "    results_statistics = results_statistics.append(mixed_design_result)\n",
        "\n",
        "# Set saliva features as the indices\n",
        "results_statistics.set_index('saliva_feature', inplace=True)\n",
        "\n",
        "results_statistics\n"
      ]
    },
    {
      "cell_type": "code",
      "execution_count": 146,
      "id": "90d24070-ebdc-4c8e-a7fc-ac265efb150a",
      "metadata": {
        "deletable": false,
        "editable": false,
        "nbgrader": {
          "cell_type": "code",
          "checksum": "1ba0c3f09f733bb4da9ddb6108d58c60",
          "grade": true,
          "grade_id": "stats_cortisol_test",
          "locked": true,
          "points": 2,
          "schema_version": 3,
          "solution": false,
          "task": false
        },
        "tags": [],
        "id": "90d24070-ebdc-4c8e-a7fc-ac265efb150a",
        "colab": {
          "base_uri": "https://localhost:8080/",
          "height": 252
        },
        "outputId": "5cdd0301-c9b8-451d-ca8b-965c6ec2e9a7"
      },
      "outputs": [
        {
          "output_type": "error",
          "ename": "AssertionError",
          "evalue": "ignored",
          "traceback": [
            "\u001b[0;31m---------------------------------------------------------------------------\u001b[0m",
            "\u001b[0;31mAssertionError\u001b[0m                            Traceback (most recent call last)",
            "\u001b[0;32m<ipython-input-146-6515c8242f46>\u001b[0m in \u001b[0;36m<cell line: 3>\u001b[0;34m()\u001b[0m\n\u001b[1;32m      1\u001b[0m \u001b[0;31m# run tests to check your implementation\u001b[0m\u001b[0;34m\u001b[0m\u001b[0;34m\u001b[0m\u001b[0m\n\u001b[1;32m      2\u001b[0m \u001b[0;32massert\u001b[0m \u001b[0mtype\u001b[0m\u001b[0;34m(\u001b[0m\u001b[0mresults_statistics\u001b[0m\u001b[0;34m)\u001b[0m \u001b[0;34m==\u001b[0m \u001b[0mpd\u001b[0m\u001b[0;34m.\u001b[0m\u001b[0mDataFrame\u001b[0m\u001b[0;34m,\u001b[0m \u001b[0;34m\"Check if results_statistics is of type pandas.DataFrame\"\u001b[0m\u001b[0;34m\u001b[0m\u001b[0;34m\u001b[0m\u001b[0m\n\u001b[0;32m----> 3\u001b[0;31m \u001b[0;32massert\u001b[0m \u001b[0mresults_statistics\u001b[0m\u001b[0;34m.\u001b[0m\u001b[0mshape\u001b[0m\u001b[0;34m[\u001b[0m\u001b[0;36m0\u001b[0m\u001b[0;34m]\u001b[0m \u001b[0;34m==\u001b[0m \u001b[0;36m5\u001b[0m\u001b[0;34m,\u001b[0m \u001b[0;34m\"Check if you performed the test for all the saliva features\"\u001b[0m\u001b[0;34m\u001b[0m\u001b[0;34m\u001b[0m\u001b[0m\n\u001b[0m\u001b[1;32m      4\u001b[0m \u001b[0;32massert\u001b[0m \u001b[0mresults_statistics\u001b[0m\u001b[0;34m[\u001b[0m\u001b[0;34m\"Paired\"\u001b[0m\u001b[0;34m]\u001b[0m\u001b[0;34m.\u001b[0m\u001b[0msum\u001b[0m\u001b[0;34m(\u001b[0m\u001b[0;34m)\u001b[0m \u001b[0;34m==\u001b[0m \u001b[0;36m0\u001b[0m\u001b[0;34m,\u001b[0m \u001b[0;34m\"Check your analysis parameters\"\u001b[0m\u001b[0;34m\u001b[0m\u001b[0;34m\u001b[0m\u001b[0m\n\u001b[1;32m      5\u001b[0m \u001b[0;32massert\u001b[0m \u001b[0mlist\u001b[0m\u001b[0;34m(\u001b[0m\u001b[0mresults_statistics\u001b[0m\u001b[0;34m[\u001b[0m\u001b[0;34m\"Contrast\"\u001b[0m\u001b[0;34m]\u001b[0m\u001b[0;34m)\u001b[0m\u001b[0;34m[\u001b[0m\u001b[0;36m0\u001b[0m\u001b[0;34m]\u001b[0m \u001b[0;34m==\u001b[0m \u001b[0;34m\"condition\"\u001b[0m \u001b[0;32mand\u001b[0m \u001b[0mlist\u001b[0m\u001b[0;34m(\u001b[0m\u001b[0mresults_statistics\u001b[0m\u001b[0;34m[\u001b[0m\u001b[0;34m\"A\"\u001b[0m\u001b[0;34m]\u001b[0m\u001b[0;34m)\u001b[0m\u001b[0;34m[\u001b[0m\u001b[0;36m0\u001b[0m\u001b[0;34m]\u001b[0m \u001b[0;34m==\u001b[0m \u001b[0;34m\"Control\"\u001b[0m \u001b[0;32mand\u001b[0m \u001b[0mlist\u001b[0m\u001b[0;34m(\u001b[0m\u001b[0mresults_statistics\u001b[0m\u001b[0;34m[\u001b[0m\u001b[0;34m\"B\"\u001b[0m\u001b[0;34m]\u001b[0m\u001b[0;34m)\u001b[0m\u001b[0;34m[\u001b[0m\u001b[0;36m0\u001b[0m\u001b[0;34m]\u001b[0m \u001b[0;34m==\u001b[0m \u001b[0;34m\"Intervention\"\u001b[0m\u001b[0;34m,\u001b[0m \u001b[0;34m\"Check your analysis parameters\"\u001b[0m\u001b[0;34m\u001b[0m\u001b[0;34m\u001b[0m\u001b[0m\n",
            "\u001b[0;31mAssertionError\u001b[0m: Check if you performed the test for all the saliva features"
          ]
        }
      ],
      "source": [
        "# run tests to check your implementation\n",
        "assert type(results_statistics) == pd.DataFrame, \"Check if results_statistics is of type pandas.DataFrame\"\n",
        "assert results_statistics.shape[0] == 5, \"Check if you performed the test for all the saliva features\"\n",
        "assert results_statistics[\"Paired\"].sum() == 0, \"Check your analysis parameters\"\n",
        "assert list(results_statistics[\"Contrast\"])[0] == \"condition\" and list(results_statistics[\"A\"])[0] == \"Control\" and list(results_statistics[\"B\"])[0] == \"Intervention\", \"Check your analysis parameters\"\n",
        "assert results_statistics.loc[\"auc_g\", \"p-unc\"].round(3) == 0.359, \"Check if you performed the right type of test\"\n",
        "assert results_statistics.loc[\"auc_i\", \"p-unc\"].round(3) == 0.06, \"Check if you performed the right type of test\"\n",
        "assert results_statistics.loc[\"auc_i_post\", \"p-unc\"].round(3) == 0.068, \"Check if you performed the right type of test\"\n",
        "assert results_statistics.loc[\"max_inc\", \"p-unc\"].round(3) == 0.04, \"Check if you performed the right type of test\"\n",
        "assert results_statistics.loc[\"slope14\", \"p-unc\"].round(3) == 0.038, \"Check if you performed the right type of test\""
      ]
    }
  ],
  "metadata": {
    "kernelspec": {
      "display_name": "Python 3",
      "name": "python3"
    },
    "language_info": {
      "name": "python"
    },
    "colab": {
      "provenance": [],
      "include_colab_link": true
    },
    "widgets": {
      "application/vnd.jupyter.widget-state+json": {
        "92734d0c4ef442a4a1c04530e118c77d": {
          "model_module": "@jupyter-widgets/controls",
          "model_name": "HBoxModel",
          "model_module_version": "1.5.0",
          "state": {
            "_dom_classes": [],
            "_model_module": "@jupyter-widgets/controls",
            "_model_module_version": "1.5.0",
            "_model_name": "HBoxModel",
            "_view_count": null,
            "_view_module": "@jupyter-widgets/controls",
            "_view_module_version": "1.5.0",
            "_view_name": "HBoxView",
            "box_style": "",
            "children": [
              "IPY_MODEL_5dc606999d524f9aaec94d5f0c61d112",
              "IPY_MODEL_f6127452b1db4753ba22fb78fc080265",
              "IPY_MODEL_0a92c54df02c4dd5b3e655fcffedd80f"
            ],
            "layout": "IPY_MODEL_dddafb97e5dd44389ad0c9105c5a993a"
          }
        },
        "5dc606999d524f9aaec94d5f0c61d112": {
          "model_module": "@jupyter-widgets/controls",
          "model_name": "HTMLModel",
          "model_module_version": "1.5.0",
          "state": {
            "_dom_classes": [],
            "_model_module": "@jupyter-widgets/controls",
            "_model_module_version": "1.5.0",
            "_model_name": "HTMLModel",
            "_view_count": null,
            "_view_module": "@jupyter-widgets/controls",
            "_view_module_version": "1.5.0",
            "_view_name": "HTMLView",
            "description": "",
            "description_tooltip": null,
            "layout": "IPY_MODEL_cc283474d93f4ef0ae334491fbaae2da",
            "placeholder": "​",
            "style": "IPY_MODEL_ae9c36551d56412eb06002da0269a9b9",
            "value": "stats_sample.csv: "
          }
        },
        "f6127452b1db4753ba22fb78fc080265": {
          "model_module": "@jupyter-widgets/controls",
          "model_name": "FloatProgressModel",
          "model_module_version": "1.5.0",
          "state": {
            "_dom_classes": [],
            "_model_module": "@jupyter-widgets/controls",
            "_model_module_version": "1.5.0",
            "_model_name": "FloatProgressModel",
            "_view_count": null,
            "_view_module": "@jupyter-widgets/controls",
            "_view_module_version": "1.5.0",
            "_view_name": "ProgressView",
            "bar_style": "success",
            "description": "",
            "description_tooltip": null,
            "layout": "IPY_MODEL_54578220b0044bf7bd5d55d05bf3a264",
            "max": 1,
            "min": 0,
            "orientation": "horizontal",
            "style": "IPY_MODEL_684981bd86344da4ad81821d10d540df",
            "value": 1
          }
        },
        "0a92c54df02c4dd5b3e655fcffedd80f": {
          "model_module": "@jupyter-widgets/controls",
          "model_name": "HTMLModel",
          "model_module_version": "1.5.0",
          "state": {
            "_dom_classes": [],
            "_model_module": "@jupyter-widgets/controls",
            "_model_module_version": "1.5.0",
            "_model_name": "HTMLModel",
            "_view_count": null,
            "_view_module": "@jupyter-widgets/controls",
            "_view_module_version": "1.5.0",
            "_view_name": "HTMLView",
            "description": "",
            "description_tooltip": null,
            "layout": "IPY_MODEL_6b163597fb7243519a69b5fa164f29b2",
            "placeholder": "​",
            "style": "IPY_MODEL_9de804857c1d4efab15e25c14718a394",
            "value": " 8.00k/? [00:00&lt;00:00, 51.7kB/s]"
          }
        },
        "dddafb97e5dd44389ad0c9105c5a993a": {
          "model_module": "@jupyter-widgets/base",
          "model_name": "LayoutModel",
          "model_module_version": "1.2.0",
          "state": {
            "_model_module": "@jupyter-widgets/base",
            "_model_module_version": "1.2.0",
            "_model_name": "LayoutModel",
            "_view_count": null,
            "_view_module": "@jupyter-widgets/base",
            "_view_module_version": "1.2.0",
            "_view_name": "LayoutView",
            "align_content": null,
            "align_items": null,
            "align_self": null,
            "border": null,
            "bottom": null,
            "display": null,
            "flex": null,
            "flex_flow": null,
            "grid_area": null,
            "grid_auto_columns": null,
            "grid_auto_flow": null,
            "grid_auto_rows": null,
            "grid_column": null,
            "grid_gap": null,
            "grid_row": null,
            "grid_template_areas": null,
            "grid_template_columns": null,
            "grid_template_rows": null,
            "height": null,
            "justify_content": null,
            "justify_items": null,
            "left": null,
            "margin": null,
            "max_height": null,
            "max_width": null,
            "min_height": null,
            "min_width": null,
            "object_fit": null,
            "object_position": null,
            "order": null,
            "overflow": null,
            "overflow_x": null,
            "overflow_y": null,
            "padding": null,
            "right": null,
            "top": null,
            "visibility": null,
            "width": null
          }
        },
        "cc283474d93f4ef0ae334491fbaae2da": {
          "model_module": "@jupyter-widgets/base",
          "model_name": "LayoutModel",
          "model_module_version": "1.2.0",
          "state": {
            "_model_module": "@jupyter-widgets/base",
            "_model_module_version": "1.2.0",
            "_model_name": "LayoutModel",
            "_view_count": null,
            "_view_module": "@jupyter-widgets/base",
            "_view_module_version": "1.2.0",
            "_view_name": "LayoutView",
            "align_content": null,
            "align_items": null,
            "align_self": null,
            "border": null,
            "bottom": null,
            "display": null,
            "flex": null,
            "flex_flow": null,
            "grid_area": null,
            "grid_auto_columns": null,
            "grid_auto_flow": null,
            "grid_auto_rows": null,
            "grid_column": null,
            "grid_gap": null,
            "grid_row": null,
            "grid_template_areas": null,
            "grid_template_columns": null,
            "grid_template_rows": null,
            "height": null,
            "justify_content": null,
            "justify_items": null,
            "left": null,
            "margin": null,
            "max_height": null,
            "max_width": null,
            "min_height": null,
            "min_width": null,
            "object_fit": null,
            "object_position": null,
            "order": null,
            "overflow": null,
            "overflow_x": null,
            "overflow_y": null,
            "padding": null,
            "right": null,
            "top": null,
            "visibility": null,
            "width": null
          }
        },
        "ae9c36551d56412eb06002da0269a9b9": {
          "model_module": "@jupyter-widgets/controls",
          "model_name": "DescriptionStyleModel",
          "model_module_version": "1.5.0",
          "state": {
            "_model_module": "@jupyter-widgets/controls",
            "_model_module_version": "1.5.0",
            "_model_name": "DescriptionStyleModel",
            "_view_count": null,
            "_view_module": "@jupyter-widgets/base",
            "_view_module_version": "1.2.0",
            "_view_name": "StyleView",
            "description_width": ""
          }
        },
        "54578220b0044bf7bd5d55d05bf3a264": {
          "model_module": "@jupyter-widgets/base",
          "model_name": "LayoutModel",
          "model_module_version": "1.2.0",
          "state": {
            "_model_module": "@jupyter-widgets/base",
            "_model_module_version": "1.2.0",
            "_model_name": "LayoutModel",
            "_view_count": null,
            "_view_module": "@jupyter-widgets/base",
            "_view_module_version": "1.2.0",
            "_view_name": "LayoutView",
            "align_content": null,
            "align_items": null,
            "align_self": null,
            "border": null,
            "bottom": null,
            "display": null,
            "flex": null,
            "flex_flow": null,
            "grid_area": null,
            "grid_auto_columns": null,
            "grid_auto_flow": null,
            "grid_auto_rows": null,
            "grid_column": null,
            "grid_gap": null,
            "grid_row": null,
            "grid_template_areas": null,
            "grid_template_columns": null,
            "grid_template_rows": null,
            "height": null,
            "justify_content": null,
            "justify_items": null,
            "left": null,
            "margin": null,
            "max_height": null,
            "max_width": null,
            "min_height": null,
            "min_width": null,
            "object_fit": null,
            "object_position": null,
            "order": null,
            "overflow": null,
            "overflow_x": null,
            "overflow_y": null,
            "padding": null,
            "right": null,
            "top": null,
            "visibility": null,
            "width": "20px"
          }
        },
        "684981bd86344da4ad81821d10d540df": {
          "model_module": "@jupyter-widgets/controls",
          "model_name": "ProgressStyleModel",
          "model_module_version": "1.5.0",
          "state": {
            "_model_module": "@jupyter-widgets/controls",
            "_model_module_version": "1.5.0",
            "_model_name": "ProgressStyleModel",
            "_view_count": null,
            "_view_module": "@jupyter-widgets/base",
            "_view_module_version": "1.2.0",
            "_view_name": "StyleView",
            "bar_color": null,
            "description_width": ""
          }
        },
        "6b163597fb7243519a69b5fa164f29b2": {
          "model_module": "@jupyter-widgets/base",
          "model_name": "LayoutModel",
          "model_module_version": "1.2.0",
          "state": {
            "_model_module": "@jupyter-widgets/base",
            "_model_module_version": "1.2.0",
            "_model_name": "LayoutModel",
            "_view_count": null,
            "_view_module": "@jupyter-widgets/base",
            "_view_module_version": "1.2.0",
            "_view_name": "LayoutView",
            "align_content": null,
            "align_items": null,
            "align_self": null,
            "border": null,
            "bottom": null,
            "display": null,
            "flex": null,
            "flex_flow": null,
            "grid_area": null,
            "grid_auto_columns": null,
            "grid_auto_flow": null,
            "grid_auto_rows": null,
            "grid_column": null,
            "grid_gap": null,
            "grid_row": null,
            "grid_template_areas": null,
            "grid_template_columns": null,
            "grid_template_rows": null,
            "height": null,
            "justify_content": null,
            "justify_items": null,
            "left": null,
            "margin": null,
            "max_height": null,
            "max_width": null,
            "min_height": null,
            "min_width": null,
            "object_fit": null,
            "object_position": null,
            "order": null,
            "overflow": null,
            "overflow_x": null,
            "overflow_y": null,
            "padding": null,
            "right": null,
            "top": null,
            "visibility": null,
            "width": null
          }
        },
        "9de804857c1d4efab15e25c14718a394": {
          "model_module": "@jupyter-widgets/controls",
          "model_name": "DescriptionStyleModel",
          "model_module_version": "1.5.0",
          "state": {
            "_model_module": "@jupyter-widgets/controls",
            "_model_module_version": "1.5.0",
            "_model_name": "DescriptionStyleModel",
            "_view_count": null,
            "_view_module": "@jupyter-widgets/base",
            "_view_module_version": "1.2.0",
            "_view_name": "StyleView",
            "description_width": ""
          }
        },
        "bb146d6805de4fbc985f9c245d61e3e9": {
          "model_module": "@jupyter-widgets/controls",
          "model_name": "HBoxModel",
          "model_module_version": "1.5.0",
          "state": {
            "_dom_classes": [],
            "_model_module": "@jupyter-widgets/controls",
            "_model_module_version": "1.5.0",
            "_model_name": "HBoxModel",
            "_view_count": null,
            "_view_module": "@jupyter-widgets/controls",
            "_view_module_version": "1.5.0",
            "_view_name": "HBoxView",
            "box_style": "",
            "children": [
              "IPY_MODEL_ae3734b6877f45feb812130e4929fa3d",
              "IPY_MODEL_d3cbebde0e4a41289401d6f7bd58bd79",
              "IPY_MODEL_c290cd6a46ba4f40adcc65636500f594"
            ],
            "layout": "IPY_MODEL_6b21e9a8685041caac6082acb708f817"
          }
        },
        "ae3734b6877f45feb812130e4929fa3d": {
          "model_module": "@jupyter-widgets/controls",
          "model_name": "HTMLModel",
          "model_module_version": "1.5.0",
          "state": {
            "_dom_classes": [],
            "_model_module": "@jupyter-widgets/controls",
            "_model_module_version": "1.5.0",
            "_model_name": "HTMLModel",
            "_view_count": null,
            "_view_module": "@jupyter-widgets/controls",
            "_view_module_version": "1.5.0",
            "_view_name": "HTMLView",
            "description": "",
            "description_tooltip": null,
            "layout": "IPY_MODEL_aa1010929b284b64aa2fe03b906382ab",
            "placeholder": "​",
            "style": "IPY_MODEL_ad2aeb25b5794e14b933de8e1ac9d49c",
            "value": "cortisol_sample.csv: "
          }
        },
        "d3cbebde0e4a41289401d6f7bd58bd79": {
          "model_module": "@jupyter-widgets/controls",
          "model_name": "FloatProgressModel",
          "model_module_version": "1.5.0",
          "state": {
            "_dom_classes": [],
            "_model_module": "@jupyter-widgets/controls",
            "_model_module_version": "1.5.0",
            "_model_name": "FloatProgressModel",
            "_view_count": null,
            "_view_module": "@jupyter-widgets/controls",
            "_view_module_version": "1.5.0",
            "_view_name": "ProgressView",
            "bar_style": "success",
            "description": "",
            "description_tooltip": null,
            "layout": "IPY_MODEL_8852632279f048b587fd61d430960566",
            "max": 1,
            "min": 0,
            "orientation": "horizontal",
            "style": "IPY_MODEL_7eb3c4366cc84a098b33e7e1675132d1",
            "value": 1
          }
        },
        "c290cd6a46ba4f40adcc65636500f594": {
          "model_module": "@jupyter-widgets/controls",
          "model_name": "HTMLModel",
          "model_module_version": "1.5.0",
          "state": {
            "_dom_classes": [],
            "_model_module": "@jupyter-widgets/controls",
            "_model_module_version": "1.5.0",
            "_model_name": "HTMLModel",
            "_view_count": null,
            "_view_module": "@jupyter-widgets/controls",
            "_view_module_version": "1.5.0",
            "_view_name": "HTMLView",
            "description": "",
            "description_tooltip": null,
            "layout": "IPY_MODEL_b39e05e517d048919035bac5647dedf6",
            "placeholder": "​",
            "style": "IPY_MODEL_8e7ed717d0b547abb021dd3648b797be",
            "value": " 8.00k/? [00:00&lt;00:00, 44.5kB/s]"
          }
        },
        "6b21e9a8685041caac6082acb708f817": {
          "model_module": "@jupyter-widgets/base",
          "model_name": "LayoutModel",
          "model_module_version": "1.2.0",
          "state": {
            "_model_module": "@jupyter-widgets/base",
            "_model_module_version": "1.2.0",
            "_model_name": "LayoutModel",
            "_view_count": null,
            "_view_module": "@jupyter-widgets/base",
            "_view_module_version": "1.2.0",
            "_view_name": "LayoutView",
            "align_content": null,
            "align_items": null,
            "align_self": null,
            "border": null,
            "bottom": null,
            "display": null,
            "flex": null,
            "flex_flow": null,
            "grid_area": null,
            "grid_auto_columns": null,
            "grid_auto_flow": null,
            "grid_auto_rows": null,
            "grid_column": null,
            "grid_gap": null,
            "grid_row": null,
            "grid_template_areas": null,
            "grid_template_columns": null,
            "grid_template_rows": null,
            "height": null,
            "justify_content": null,
            "justify_items": null,
            "left": null,
            "margin": null,
            "max_height": null,
            "max_width": null,
            "min_height": null,
            "min_width": null,
            "object_fit": null,
            "object_position": null,
            "order": null,
            "overflow": null,
            "overflow_x": null,
            "overflow_y": null,
            "padding": null,
            "right": null,
            "top": null,
            "visibility": null,
            "width": null
          }
        },
        "aa1010929b284b64aa2fe03b906382ab": {
          "model_module": "@jupyter-widgets/base",
          "model_name": "LayoutModel",
          "model_module_version": "1.2.0",
          "state": {
            "_model_module": "@jupyter-widgets/base",
            "_model_module_version": "1.2.0",
            "_model_name": "LayoutModel",
            "_view_count": null,
            "_view_module": "@jupyter-widgets/base",
            "_view_module_version": "1.2.0",
            "_view_name": "LayoutView",
            "align_content": null,
            "align_items": null,
            "align_self": null,
            "border": null,
            "bottom": null,
            "display": null,
            "flex": null,
            "flex_flow": null,
            "grid_area": null,
            "grid_auto_columns": null,
            "grid_auto_flow": null,
            "grid_auto_rows": null,
            "grid_column": null,
            "grid_gap": null,
            "grid_row": null,
            "grid_template_areas": null,
            "grid_template_columns": null,
            "grid_template_rows": null,
            "height": null,
            "justify_content": null,
            "justify_items": null,
            "left": null,
            "margin": null,
            "max_height": null,
            "max_width": null,
            "min_height": null,
            "min_width": null,
            "object_fit": null,
            "object_position": null,
            "order": null,
            "overflow": null,
            "overflow_x": null,
            "overflow_y": null,
            "padding": null,
            "right": null,
            "top": null,
            "visibility": null,
            "width": null
          }
        },
        "ad2aeb25b5794e14b933de8e1ac9d49c": {
          "model_module": "@jupyter-widgets/controls",
          "model_name": "DescriptionStyleModel",
          "model_module_version": "1.5.0",
          "state": {
            "_model_module": "@jupyter-widgets/controls",
            "_model_module_version": "1.5.0",
            "_model_name": "DescriptionStyleModel",
            "_view_count": null,
            "_view_module": "@jupyter-widgets/base",
            "_view_module_version": "1.2.0",
            "_view_name": "StyleView",
            "description_width": ""
          }
        },
        "8852632279f048b587fd61d430960566": {
          "model_module": "@jupyter-widgets/base",
          "model_name": "LayoutModel",
          "model_module_version": "1.2.0",
          "state": {
            "_model_module": "@jupyter-widgets/base",
            "_model_module_version": "1.2.0",
            "_model_name": "LayoutModel",
            "_view_count": null,
            "_view_module": "@jupyter-widgets/base",
            "_view_module_version": "1.2.0",
            "_view_name": "LayoutView",
            "align_content": null,
            "align_items": null,
            "align_self": null,
            "border": null,
            "bottom": null,
            "display": null,
            "flex": null,
            "flex_flow": null,
            "grid_area": null,
            "grid_auto_columns": null,
            "grid_auto_flow": null,
            "grid_auto_rows": null,
            "grid_column": null,
            "grid_gap": null,
            "grid_row": null,
            "grid_template_areas": null,
            "grid_template_columns": null,
            "grid_template_rows": null,
            "height": null,
            "justify_content": null,
            "justify_items": null,
            "left": null,
            "margin": null,
            "max_height": null,
            "max_width": null,
            "min_height": null,
            "min_width": null,
            "object_fit": null,
            "object_position": null,
            "order": null,
            "overflow": null,
            "overflow_x": null,
            "overflow_y": null,
            "padding": null,
            "right": null,
            "top": null,
            "visibility": null,
            "width": "20px"
          }
        },
        "7eb3c4366cc84a098b33e7e1675132d1": {
          "model_module": "@jupyter-widgets/controls",
          "model_name": "ProgressStyleModel",
          "model_module_version": "1.5.0",
          "state": {
            "_model_module": "@jupyter-widgets/controls",
            "_model_module_version": "1.5.0",
            "_model_name": "ProgressStyleModel",
            "_view_count": null,
            "_view_module": "@jupyter-widgets/base",
            "_view_module_version": "1.2.0",
            "_view_name": "StyleView",
            "bar_color": null,
            "description_width": ""
          }
        },
        "b39e05e517d048919035bac5647dedf6": {
          "model_module": "@jupyter-widgets/base",
          "model_name": "LayoutModel",
          "model_module_version": "1.2.0",
          "state": {
            "_model_module": "@jupyter-widgets/base",
            "_model_module_version": "1.2.0",
            "_model_name": "LayoutModel",
            "_view_count": null,
            "_view_module": "@jupyter-widgets/base",
            "_view_module_version": "1.2.0",
            "_view_name": "LayoutView",
            "align_content": null,
            "align_items": null,
            "align_self": null,
            "border": null,
            "bottom": null,
            "display": null,
            "flex": null,
            "flex_flow": null,
            "grid_area": null,
            "grid_auto_columns": null,
            "grid_auto_flow": null,
            "grid_auto_rows": null,
            "grid_column": null,
            "grid_gap": null,
            "grid_row": null,
            "grid_template_areas": null,
            "grid_template_columns": null,
            "grid_template_rows": null,
            "height": null,
            "justify_content": null,
            "justify_items": null,
            "left": null,
            "margin": null,
            "max_height": null,
            "max_width": null,
            "min_height": null,
            "min_width": null,
            "object_fit": null,
            "object_position": null,
            "order": null,
            "overflow": null,
            "overflow_x": null,
            "overflow_y": null,
            "padding": null,
            "right": null,
            "top": null,
            "visibility": null,
            "width": null
          }
        },
        "8e7ed717d0b547abb021dd3648b797be": {
          "model_module": "@jupyter-widgets/controls",
          "model_name": "DescriptionStyleModel",
          "model_module_version": "1.5.0",
          "state": {
            "_model_module": "@jupyter-widgets/controls",
            "_model_module_version": "1.5.0",
            "_model_name": "DescriptionStyleModel",
            "_view_count": null,
            "_view_module": "@jupyter-widgets/base",
            "_view_module_version": "1.2.0",
            "_view_name": "StyleView",
            "description_width": ""
          }
        }
      }
    }
  },
  "nbformat": 4,
  "nbformat_minor": 5
}