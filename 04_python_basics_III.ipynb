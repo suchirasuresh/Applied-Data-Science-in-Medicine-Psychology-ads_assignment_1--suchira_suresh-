{
  "cells": [
    {
      "cell_type": "markdown",
      "metadata": {
        "id": "view-in-github",
        "colab_type": "text"
      },
      "source": [
        "<a href=\"https://colab.research.google.com/github/suchirasuresh/Applied-Data-Science-in-Medicine-Psychology-ads_assignment_1--suchira_suresh-/blob/main/04_python_basics_III.ipynb\" target=\"_parent\"><img src=\"https://colab.research.google.com/assets/colab-badge.svg\" alt=\"Open In Colab\"/></a>"
      ]
    },
    {
      "cell_type": "markdown",
      "id": "c332e30c",
      "metadata": {
        "pycharm": {
          "name": "#%% md\n"
        },
        "id": "c332e30c"
      },
      "source": [
        "Fill in your github username and idm credentials below:"
      ]
    },
    {
      "cell_type": "code",
      "execution_count": 10,
      "id": "05093eb0",
      "metadata": {
        "pycharm": {
          "is_executing": true,
          "name": "#%%\n"
        },
        "vscode": {
          "languageId": "python"
        },
        "id": "05093eb0"
      },
      "outputs": [],
      "source": [
        "github_username = \"suchirasuresh\"\n",
        "idm_credentials = \"yh07ajaw\""
      ]
    },
    {
      "cell_type": "markdown",
      "id": "7556831b",
      "metadata": {
        "pycharm": {
          "name": "#%% md\n"
        },
        "id": "7556831b"
      },
      "source": [
        "---"
      ]
    },
    {
      "cell_type": "markdown",
      "id": "755c6140-79ab-496f-9e79-71972edca5bc",
      "metadata": {
        "id": "755c6140-79ab-496f-9e79-71972edca5bc"
      },
      "source": [
        "# Applied Data Science in Medicine & Psychology - Assignment 4\n",
        "## Python Basics III\n",
        "---\n",
        "**Deadline: 23.05.2023, 23:59**\n",
        "### **General setup and submission**\n",
        "1. Save an editable copy of this notebook to your Google Drive ``File`` $\\rightarrow$ ``Save a copy in Drive`` and remove the automatically appended \"Copy of\" text. **Do not change the file name**.\n",
        "2. Work on the assignment in the *copied* version of the notebook. Make sure that you **replace** all parts of the tasks indicated with *YOUR CODE HERE* and **raise NotImplementedError()** (otherwise this causes an error in your implementation) or *YOUR ANSWER HERE* with your solution.\n",
        "3. If you take a break during the implementation, you can save the current status of your work in your repository following the submission instructions below. When you continue working on the assignment, do this in the version of the notebook that you saved in your Google Drive (access from your Google Colab account) or your repository.\n",
        "4. After finishing the assignment submit your assignment as follows:\n",
        "    * Check that everything runs as expected. To do that select in the menubar ``Runtime`` $\\rightarrow$ ``Restart and run all``. This will clear all your local variables and runs your notebook from the beginning\n",
        "    * Save your notebook, click ``File`` $\\rightarrow$ ``Save``\n",
        "    * Click ``File`` $\\rightarrow$ ``Save a copy in GitHub``\n",
        "    * Select ``digikolleg-data-science-psychology/04_python_basics_III-<username>`` from the Repository drop-down menu\n",
        "    * Type ``04_python_basics_III.ipynb`` into the File path text box\n",
        "    * Optionally, you may enter a description into the \"Commit message\" text box (like: \"solved task 1\" or \"ready for grading\")\n",
        "    * Make sure that the \"Include a link to Colaboratory\" box is checked\n",
        "    * Press \"Ok\"\n",
        "    * A new tab or window should open up, displaying your submitted notebook within your GitHub repository\n",
        "\n",
        "Before the assignment deadline, you can re-submit your assignment as often as you would like. This will update the copy of your assignment file in your assignment's repository."
      ]
    },
    {
      "cell_type": "markdown",
      "id": "2fe61c2c-a030-4c02-8214-7db7d1c10df5",
      "metadata": {
        "id": "2fe61c2c-a030-4c02-8214-7db7d1c10df5"
      },
      "source": [
        "### **Assignment Description**\n",
        "In the third Python basics assignment, you will learn about the advanced usage of loops and list comprehension to improve code efficiency and readability. Also, you will deepen your understanding of the order of operations and practice error handling techniques, such as try-except blocks and raising exceptions, to identify and deal with errors in Python code. \n",
        "\n",
        "#### **Assignment goals**\n",
        "You are going to learn the following things in this assignment:\n",
        "1. how to improve the efficiency of your code with the advanced usage of loops\n",
        "2. how to create lists using a single line of code\n",
        "3. deepen your understanding of the order of operations\n",
        "4. identifying and dealing with errors\n",
        "\n",
        "#### **Assignment point value**\n",
        "This assignment is worth a total (up to) **10** points. If your code passes all of the manual and automatic tests you will receive full credit."
      ]
    },
    {
      "cell_type": "markdown",
      "id": "89d2a637-e274-43a8-a88a-23bb204e96db",
      "metadata": {
        "id": "89d2a637-e274-43a8-a88a-23bb204e96db"
      },
      "source": [
        "### **Tasks**\n",
        "Make sure that you now work on your *copied* version of this assignment's notebook."
      ]
    },
    {
      "cell_type": "markdown",
      "id": "42e90337-1130-4412-b037-d1267bc45101",
      "metadata": {
        "id": "42e90337-1130-4412-b037-d1267bc45101"
      },
      "source": [
        "#### 0. Imports and Setup\n",
        "Please **run** the cell below to import the libraries needed for this assignment."
      ]
    },
    {
      "cell_type": "code",
      "execution_count": 11,
      "id": "23f1cef0-5d30-4548-b6b6-4020b3013f8c",
      "metadata": {
        "id": "23f1cef0-5d30-4548-b6b6-4020b3013f8c"
      },
      "outputs": [],
      "source": [
        "import numpy as np\n",
        "from warnings import warn, catch_warnings\n",
        "from contextlib import suppress"
      ]
    },
    {
      "cell_type": "markdown",
      "id": "8b034e11-7713-4609-97fe-7d8d7065dac9",
      "metadata": {
        "id": "8b034e11-7713-4609-97fe-7d8d7065dac9"
      },
      "source": [
        "#### 1. Loops\n",
        "Python has some built-in functions/statements like ``range()``, ``continue``, and ``pass`` which are useful tools for controlling the flow of loops and performing specific actions based on certain conditions. \n",
        "\n",
        "##### 1.1 Play around with the ``range()`` function:\n",
        "* Write a for loop that prints every third number between 0 and 20:"
      ]
    },
    {
      "cell_type": "code",
      "execution_count": 12,
      "id": "8cfa8b81-2404-43ae-8e00-ae29c26e6b23",
      "metadata": {
        "deletable": false,
        "nbgrader": {
          "cell_type": "code",
          "checksum": "1056b652712df8af9f9d3d9437f63d2b",
          "grade": false,
          "grade_id": "range_1",
          "locked": false,
          "schema_version": 3,
          "solution": true,
          "task": false
        },
        "tags": [],
        "id": "8cfa8b81-2404-43ae-8e00-ae29c26e6b23",
        "colab": {
          "base_uri": "https://localhost:8080/"
        },
        "outputId": "2724f059-accc-43ee-9bac-4a58729c9dcc"
      },
      "outputs": [
        {
          "output_type": "stream",
          "name": "stdout",
          "text": [
            "[3, 6, 9, 12, 15, 18]\n"
          ]
        }
      ],
      "source": [
        "print(list(range(3, 20, 3)))"
      ]
    },
    {
      "cell_type": "markdown",
      "id": "cbf20c71-a2ae-44db-bb0f-9499cd85410e",
      "metadata": {
        "id": "cbf20c71-a2ae-44db-bb0f-9499cd85410e"
      },
      "source": [
        "* Write a for loop that prints every second number between -5 and 5 (inclusive endpoints) in reverse order:"
      ]
    },
    {
      "cell_type": "code",
      "execution_count": 20,
      "id": "ad342110-7190-465c-bbb6-dfa963400288",
      "metadata": {
        "deletable": false,
        "nbgrader": {
          "cell_type": "code",
          "checksum": "804c5ad0f52b6b654a29d461a1a275d5",
          "grade": false,
          "grade_id": "range_2",
          "locked": false,
          "schema_version": 3,
          "solution": true,
          "task": false
        },
        "tags": [],
        "id": "ad342110-7190-465c-bbb6-dfa963400288",
        "colab": {
          "base_uri": "https://localhost:8080/"
        },
        "outputId": "d16db012-f12b-48a7-b776-0e4a6a90a0ef"
      },
      "outputs": [
        {
          "output_type": "stream",
          "name": "stdout",
          "text": [
            "5\n",
            "3\n",
            "1\n",
            "-1\n",
            "-3\n",
            "-5\n"
          ]
        }
      ],
      "source": [
        "for i in range (5, -6, -2):\n",
        "  print((i))\n"
      ]
    },
    {
      "cell_type": "markdown",
      "id": "7e945b27-2cf4-418c-bee5-da8a9d882157",
      "metadata": {
        "id": "7e945b27-2cf4-418c-bee5-da8a9d882157"
      },
      "source": [
        "* Create a list ``my_list`` with every 4th number between -10 and 10 (inclusive endpoints):"
      ]
    },
    {
      "cell_type": "code",
      "execution_count": 13,
      "id": "d035af18-d9b6-4387-80a5-25a6a79e847f",
      "metadata": {
        "deletable": false,
        "nbgrader": {
          "cell_type": "code",
          "checksum": "108b7319e0c4aad6db5e7fadea0e84cf",
          "grade": false,
          "grade_id": "range_3",
          "locked": false,
          "schema_version": 3,
          "solution": true,
          "task": false
        },
        "tags": [],
        "id": "d035af18-d9b6-4387-80a5-25a6a79e847f",
        "colab": {
          "base_uri": "https://localhost:8080/"
        },
        "outputId": "386c5898-e884-4cfe-bcca-338b04f6733b"
      },
      "outputs": [
        {
          "output_type": "stream",
          "name": "stdout",
          "text": [
            "[-10, -6, -2, 2, 6, 10]\n"
          ]
        }
      ],
      "source": [
        "\n",
        "my_list= list(range(-10, 11, 4))\n",
        "print(my_list)\n",
        "\n",
        "  \n"
      ]
    },
    {
      "cell_type": "code",
      "execution_count": 14,
      "id": "a62a8450-65c9-48b1-8233-fd741bb44920",
      "metadata": {
        "deletable": false,
        "editable": false,
        "nbgrader": {
          "cell_type": "code",
          "checksum": "f5e9ca88b938e4db2634501401283aac",
          "grade": true,
          "grade_id": "range_3_test",
          "locked": true,
          "points": 0.5,
          "schema_version": 3,
          "solution": false,
          "task": false
        },
        "tags": [],
        "id": "a62a8450-65c9-48b1-8233-fd741bb44920"
      },
      "outputs": [],
      "source": [
        "assert len(my_list) == 6, \"my_list must be of length 6. Check if you handled your endpoints correctly\"\n",
        "assert my_list[0] == -10 and my_list[5] == 10, \"Check if you handled your endpoints correctly\""
      ]
    },
    {
      "cell_type": "markdown",
      "id": "75695481-f355-44dc-8272-df61a198b789",
      "metadata": {
        "id": "75695481-f355-44dc-8272-df61a198b789"
      },
      "source": [
        "##### 1.2 Play around with ``pass``, ``continue``, and ``break`` statements:\n",
        "\n",
        "``break``: The break statement is used to exit a loop prematurely. When encountered, the break statement causes the loop to immediately terminate and the program execution to continue with the next statement following the loop.\n",
        "\n",
        "* What happens if you replace ``pass`` with ``continue`` or ``break``in the following code cell?"
      ]
    },
    {
      "cell_type": "code",
      "execution_count": 15,
      "id": "1f0b5144-9405-464a-992a-96b33c8591c1",
      "metadata": {
        "id": "1f0b5144-9405-464a-992a-96b33c8591c1",
        "colab": {
          "base_uri": "https://localhost:8080/"
        },
        "outputId": "a8d13fb9-16d2-4674-e0f8-bf699ba8963f"
      },
      "outputs": [
        {
          "output_type": "stream",
          "name": "stdout",
          "text": [
            "0\n",
            "1\n",
            "2\n",
            "3\n",
            "4\n",
            "5\n",
            "executed loop\n"
          ]
        }
      ],
      "source": [
        "for i in range(10):\n",
        "    if i == 6:\n",
        "      break\n",
        "    print(i) \n",
        "print(\"executed loop\")"
      ]
    },
    {
      "cell_type": "markdown",
      "id": "0578ef38-f7bf-468e-a56e-779ad321e12f",
      "metadata": {
        "id": "0578ef38-f7bf-468e-a56e-779ad321e12f"
      },
      "source": [
        "* Can you explain the difference between these 3 statements?\n",
        "1.pass keyword is an empty instruction and the interpreter executes the next instructions after this\n",
        "2.break terminates the loop. Hence output is 0 to 5 followed by printing \"executed loop\"\n",
        "2.Continue keyword continues the loop if the above instruction to it is satisfied. In the above example we get same output for continue and pass.However, thats not the same everywhere.\n"
      ]
    },
    {
      "cell_type": "markdown",
      "id": "b1d16fe3-471a-40c0-9271-67c1948e4d48",
      "metadata": {
        "id": "b1d16fe3-471a-40c0-9271-67c1948e4d48"
      },
      "source": [
        "*YOUR ANSWER HERE*"
      ]
    },
    {
      "cell_type": "markdown",
      "id": "afe36f11-cb32-4753-aad3-0e361791e45f",
      "metadata": {
        "id": "afe36f11-cb32-4753-aad3-0e361791e45f"
      },
      "source": [
        "#### 2. List Comprehension\n",
        "List comprehension is a concise way to create a new list by applying a transformation or filtering operation to an existing list or another iterable object. It has a compact syntax that allows you to create a new list in a single line of code.\n",
        "\n",
        "Here is the basic syntax for list comprehension in Python:\n",
        "\n",
        "```\n",
        "y = [my_fun(i) for i in x if condition(i)]\n",
        "```\n",
        "\n",
        "* ``y`` is the newly created list\n",
        "* ``x`` is a list of values that y will be based on\n",
        "* ``i`` refers to each individual element of x\n",
        "* ``my_fun`` is a function that is applied to each element of x\n",
        "* ``condition`` is an optional statement that modifies which elements of x are included (only elements i where condition(i) is True will be used)\n",
        "\n",
        "##### 2.1 Create a list ``squares`` that contains the squared values of 1 to 10 (inclusive endpoints) using list comprehension:"
      ]
    },
    {
      "cell_type": "code",
      "execution_count": 8,
      "id": "1fbf0d1d-2843-49a1-a8fb-a8f566e5480d",
      "metadata": {
        "deletable": false,
        "nbgrader": {
          "cell_type": "code",
          "checksum": "7c2d13edad3a0a340e0acc60d35311a6",
          "grade": false,
          "grade_id": "list_com_1",
          "locked": false,
          "schema_version": 3,
          "solution": true,
          "task": false
        },
        "tags": [],
        "id": "1fbf0d1d-2843-49a1-a8fb-a8f566e5480d",
        "colab": {
          "base_uri": "https://localhost:8080/"
        },
        "outputId": "8a9b022a-c418-496a-aa2e-cc9ccd53a6f9"
      },
      "outputs": [
        {
          "output_type": "stream",
          "name": "stdout",
          "text": [
            "[1, 4, 9, 16, 25, 36, 49, 64, 81, 100]\n"
          ]
        }
      ],
      "source": [
        "squares= [i*i for i in range(1,11) ]\n",
        "print (squares)"
      ]
    },
    {
      "cell_type": "code",
      "execution_count": 9,
      "id": "175b8c05-480e-403c-a202-fcdf8e941df4",
      "metadata": {
        "deletable": false,
        "editable": false,
        "nbgrader": {
          "cell_type": "code",
          "checksum": "3d06bc9ec9d85a5115a0b385f95b4145",
          "grade": true,
          "grade_id": "list_com_1_test",
          "locked": true,
          "points": 0.5,
          "schema_version": 3,
          "solution": false,
          "task": false
        },
        "tags": [],
        "id": "175b8c05-480e-403c-a202-fcdf8e941df4"
      },
      "outputs": [],
      "source": [
        "assert len(squares) == 10, \"squares must be of length 10. Check if you handled your endpoints correctly\"\n",
        "assert squares[9] == 100, \"Check if you handled your endpoints correctly\""
      ]
    },
    {
      "cell_type": "markdown",
      "id": "15677c70-e0b1-4fb8-b593-c491e79f14f5",
      "metadata": {
        "id": "15677c70-e0b1-4fb8-b593-c491e79f14f5"
      },
      "source": [
        "##### 2.2 Create a list ``even_numbers`` which contains the even numbers between 1 and 10 (inclusive endpoints if applicable) using list comprehension:"
      ]
    },
    {
      "cell_type": "code",
      "execution_count": 22,
      "id": "dce44cb4-5e34-4ea4-b331-63d60adacc5e",
      "metadata": {
        "deletable": false,
        "nbgrader": {
          "cell_type": "code",
          "checksum": "d00f5f54bfb70e7e55a08142ef2c7f44",
          "grade": false,
          "grade_id": "list_com_2",
          "locked": false,
          "schema_version": 3,
          "solution": true,
          "task": false
        },
        "tags": [],
        "id": "dce44cb4-5e34-4ea4-b331-63d60adacc5e",
        "colab": {
          "base_uri": "https://localhost:8080/"
        },
        "outputId": "f1add0e8-9646-4bf2-cfca-e9b780dc7237"
      },
      "outputs": [
        {
          "output_type": "stream",
          "name": "stdout",
          "text": [
            "[2, 4, 6, 8, 10]\n"
          ]
        }
      ],
      "source": [
        "even_numbers= [i for i in range(1,11) if i%2==0]\n",
        "print (even_numbers)"
      ]
    },
    {
      "cell_type": "code",
      "execution_count": 23,
      "id": "84ae3aed-78e3-42d3-92ca-a56b32b6d877",
      "metadata": {
        "deletable": false,
        "editable": false,
        "nbgrader": {
          "cell_type": "code",
          "checksum": "05487f62604fe0c8ac1331ab2b35a218",
          "grade": true,
          "grade_id": "list_com_2_test",
          "locked": true,
          "points": 0.5,
          "schema_version": 3,
          "solution": false,
          "task": false
        },
        "tags": [],
        "id": "84ae3aed-78e3-42d3-92ca-a56b32b6d877"
      },
      "outputs": [],
      "source": [
        "assert len(even_numbers) == 5, \"even_numbers must be of length 5. Check if you handled your endpoints correctly\"\n",
        "assert even_numbers[0] == 2 and even_numbers[4] == 10, \"Check if you handled your endpoints correctly\""
      ]
    },
    {
      "cell_type": "markdown",
      "id": "448f3f83-b190-41ef-b264-1480d07a167d",
      "metadata": {
        "id": "448f3f83-b190-41ef-b264-1480d07a167d"
      },
      "source": [
        "##### 2.3 Create a list ``ab_sum`` which contains the elementwise sum of the given lists ``a`` and ``b`` using list comprehension:\n",
        "**Hint**: Look into ``len(my_list)`` which returns the number of elements of the given ``my_list``."
      ]
    },
    {
      "cell_type": "code",
      "execution_count": 24,
      "id": "bd56db63-70f1-4529-8646-e61e84f3bf41",
      "metadata": {
        "deletable": false,
        "nbgrader": {
          "cell_type": "code",
          "checksum": "7cf0735fc4fc860d838850f25ddb7637",
          "grade": false,
          "grade_id": "list_com_3",
          "locked": false,
          "schema_version": 3,
          "solution": true,
          "task": false
        },
        "tags": [],
        "id": "bd56db63-70f1-4529-8646-e61e84f3bf41",
        "colab": {
          "base_uri": "https://localhost:8080/"
        },
        "outputId": "cd9b97d3-ecc7-4368-86dd-be9722ad52e0"
      },
      "outputs": [
        {
          "output_type": "stream",
          "name": "stdout",
          "text": [
            "[3, 7, 11, 15, 19]\n"
          ]
        }
      ],
      "source": [
        "a = [1, 3, 5, 7, 9]\n",
        "b = [2, 4, 6, 8, 10]\n",
        "ab_sum= [a[i]+b[i] for i in range(len(a))]\n",
        "print(ab_sum)"
      ]
    },
    {
      "cell_type": "code",
      "execution_count": 25,
      "id": "f30a16b0-f6ad-4704-b3d4-bd81c1986d26",
      "metadata": {
        "deletable": false,
        "editable": false,
        "nbgrader": {
          "cell_type": "code",
          "checksum": "a560463c443b74f5be14cff8290d7e85",
          "grade": true,
          "grade_id": "list_com_3_test",
          "locked": true,
          "points": 0.5,
          "schema_version": 3,
          "solution": false,
          "task": false
        },
        "tags": [],
        "id": "f30a16b0-f6ad-4704-b3d4-bd81c1986d26"
      },
      "outputs": [],
      "source": [
        "assert len(ab_sum) == 5, \"ab_sum must be of length 5. Check if you handled your endpoints correctly\"\n",
        "assert ab_sum[0] == 3 and ab_sum[4] == 19, \"Check if you handled your endpoints correctly\""
      ]
    },
    {
      "cell_type": "markdown",
      "id": "ba1ea53f-27b0-4d36-a1b3-986355925897",
      "metadata": {
        "id": "ba1ea53f-27b0-4d36-a1b3-986355925897"
      },
      "source": [
        "#### 3. Study Name Conformity Check\n",
        "In the following, you will implement 3 different functions which later on will be used to perform a conformity check of a random study name. The requirements for a study name in an artificial database are:\n",
        "* req_1: only lowercase letters are allowed\n",
        "* req_2: only letters, numbers, and underscore \\'_\\' are allowed\n",
        "* req_3: the study name consists of 10 to 50 characters\n",
        "\n",
        "##### 3.1 Create a function ``check_lower`` with ``name`` as parameter which checks whether all letters are lowercase (req_1):\n",
        "* if **all** letters are lowercase return ``True``\n",
        "* if **any** letter is a captial letter return ``False``\n",
        "\n",
        "**Hint**: Check out if one of the built-in [string methods](https://docs.python.org/3/library/stdtypes.html#string-methods) can help you with the implementation."
      ]
    },
    {
      "cell_type": "code",
      "execution_count": 122,
      "id": "63dcfa3a-04ea-45a4-a00f-e09964c4527c",
      "metadata": {
        "deletable": false,
        "nbgrader": {
          "cell_type": "code",
          "checksum": "963bf4d16d990cdd081fcc670f06fac1",
          "grade": false,
          "grade_id": "check_lower",
          "locked": false,
          "schema_version": 3,
          "solution": true,
          "task": false
        },
        "tags": [],
        "id": "63dcfa3a-04ea-45a4-a00f-e09964c4527c"
      },
      "outputs": [],
      "source": [
        "def check_lower(name):\n",
        "  return name.islower()\n"
      ]
    },
    {
      "cell_type": "code",
      "execution_count": 123,
      "id": "b413c8fb-2c47-4d92-a257-e4894a6277d4",
      "metadata": {
        "deletable": false,
        "editable": false,
        "nbgrader": {
          "cell_type": "code",
          "checksum": "77561bf0447f84de875d65912569bb8f",
          "grade": true,
          "grade_id": "check_lower_test",
          "locked": true,
          "points": 1,
          "schema_version": 3,
          "solution": false,
          "task": false
        },
        "tags": [],
        "id": "b413c8fb-2c47-4d92-a257-e4894a6277d4"
      },
      "outputs": [],
      "source": [
        "assert check_lower(\"study_psyc_1\") == True, \"Check if you return the correct boolean value\"\n",
        "assert check_lower(\"Study_Psyc_2\") == False, \"Check if you return the correct boolean value and used the right function\""
      ]
    },
    {
      "cell_type": "markdown",
      "id": "1971fc03-e333-4ba4-87ae-d7d3f8ce46fc",
      "metadata": {
        "id": "1971fc03-e333-4ba4-87ae-d7d3f8ce46fc"
      },
      "source": [
        "##### 3.2 Create a function ``check_special_characters`` with ``name`` as parameter which checks whether all elements are letters, numbers, or underscore \\'_\\' (req_2):\n",
        "* if **all** letters meet the requirement return ``False``\n",
        "* if **any** letter does not meet the requirement return ``True``\n",
        "\n",
        "**Hint**: Check again the [string methods](https://docs.python.org/3/library/stdtypes.html#string-methods) for a useful function."
      ]
    },
    {
      "cell_type": "code",
      "execution_count": 158,
      "id": "9a9f7f98-2008-414b-b2aa-bf586dffa2dd",
      "metadata": {
        "deletable": false,
        "nbgrader": {
          "cell_type": "code",
          "checksum": "d9875af50776acc457f3aedbe3541466",
          "grade": false,
          "grade_id": "check_special_character",
          "locked": false,
          "schema_version": 3,
          "solution": true,
          "task": false
        },
        "tags": [],
        "id": "9a9f7f98-2008-414b-b2aa-bf586dffa2dd"
      },
      "outputs": [],
      "source": [
        "def check_special_characters(name):\n",
        "  for c in name:\n",
        "    if not (c.isalnum() and c!='_'):\n",
        "      output=True\n",
        "    else:\n",
        "      output=False\n",
        "  return output\n"
      ]
    },
    {
      "cell_type": "code",
      "execution_count": 159,
      "id": "6eb28308-806d-4ed6-b620-d2418641a3eb",
      "metadata": {
        "deletable": false,
        "editable": false,
        "nbgrader": {
          "cell_type": "code",
          "checksum": "cad755bf162ffea06326458432433341",
          "grade": true,
          "grade_id": "check_special_character_test",
          "locked": true,
          "points": 1,
          "schema_version": 3,
          "solution": false,
          "task": false
        },
        "tags": [],
        "id": "6eb28308-806d-4ed6-b620-d2418641a3eb"
      },
      "outputs": [],
      "source": [
        "assert check_special_characters(\"study_1\") == False, \"Check if you return the correct boolean value\"\n",
        "assert check_special_characters(\"study_*\") == True, \"Check if you return the correct boolean value and handled special characters correctly\"\n",
        "assert check_special_characters(\"*study_\") == True, \"Check if you return the correct boolean value and handled special characters correctly\""
      ]
    },
    {
      "cell_type": "markdown",
      "id": "a4ab61c1-2008-48ed-b100-1e02b4bb9f9a",
      "metadata": {
        "id": "a4ab61c1-2008-48ed-b100-1e02b4bb9f9a"
      },
      "source": [
        "##### 3.3 Create a function ``check_length`` with ``name`` as parameter which checks whether the name has at least 10 but maximum 50 characters (req_3):\n",
        "* if name consist of 10 to 50 characters (inclusive endpoints) return ``True``\n",
        "* if name has more or less characters return ``False``"
      ]
    },
    {
      "cell_type": "code",
      "execution_count": 127,
      "id": "dd6d04e8-2c37-42ec-b803-23df8d4c33b3",
      "metadata": {
        "deletable": false,
        "nbgrader": {
          "cell_type": "code",
          "checksum": "d03247c3afbc4a3118042ca72dabac77",
          "grade": false,
          "grade_id": "check_length",
          "locked": false,
          "schema_version": 3,
          "solution": true,
          "task": false
        },
        "tags": [],
        "id": "dd6d04e8-2c37-42ec-b803-23df8d4c33b3"
      },
      "outputs": [],
      "source": [
        "def check_length(name):\n",
        "  if (len(name)>=10 and len(name)<=50):\n",
        "    output =True\n",
        "  else:\n",
        "    output= False\n",
        "  return output\n",
        "\n"
      ]
    },
    {
      "cell_type": "code",
      "execution_count": 128,
      "id": "3d56d65c-7b55-4085-9911-ed47f2d40ccf",
      "metadata": {
        "deletable": false,
        "editable": false,
        "nbgrader": {
          "cell_type": "code",
          "checksum": "8cc5cd61febafd6bc85ef0050800e03a",
          "grade": true,
          "grade_id": "check_length_test",
          "locked": true,
          "points": 1,
          "schema_version": 3,
          "solution": false,
          "task": false
        },
        "tags": [],
        "id": "3d56d65c-7b55-4085-9911-ed47f2d40ccf"
      },
      "outputs": [],
      "source": [
        "assert check_length(\"psychology\") == True, \"Check whether you handled your endpoints correctly\"\n",
        "assert check_length(\"study_applied_data_science_in_medicine_and_psychology\") == False, \"Check if you return the correct boolean value\""
      ]
    },
    {
      "cell_type": "markdown",
      "id": "5ca2d3ce-e02f-48ab-9ef7-0f3d005e5ba6",
      "metadata": {
        "id": "5ca2d3ce-e02f-48ab-9ef7-0f3d005e5ba6"
      },
      "source": [
        "##### 3.4 Create a function ``check_study_name`` with ``name`` as parameter and perform the study name conformity check using the functions implemented above:\n",
        "* Check if ``name`` is of type string and meets req_1, req_2, and req_3 using the functions above\n",
        "* if ``name`` meets all requirements return ``True``\n",
        "* if ``name`` fails one of the tests return ``False``\n",
        "* Can you implement this in only one line of code?\n",
        "\n",
        "**Hint**: check out the [isinstance()](https://docs.python.org/3/library/functions.html#isinstance) function to determine the type of parameters."
      ]
    },
    {
      "cell_type": "code",
      "execution_count": 135,
      "id": "b09042fd-ef9a-4085-b885-a475c0e6406e",
      "metadata": {
        "deletable": false,
        "nbgrader": {
          "cell_type": "code",
          "checksum": "8e0814cc302c59551b6dc6a497161864",
          "grade": false,
          "grade_id": "check_study_name",
          "locked": false,
          "schema_version": 3,
          "solution": true,
          "task": false
        },
        "tags": [],
        "id": "b09042fd-ef9a-4085-b885-a475c0e6406e"
      },
      "outputs": [],
      "source": [
        "\n",
        "def check_study_name(name):\n",
        "  x= isinstance(name,str)\n",
        "\n",
        "  output= (x and check_lower(name)) and (check_special_characters(name) and check_length(name))\n",
        "  return output\n",
        "  \"\"\"\n",
        "  if not (((x==False) or check_lower(name) or check_special_characters(name) or check_length(name))) is True:\n",
        "    output = False\n",
        "  else:\n",
        "    output = True\n",
        "\n",
        "    return output\n",
        "    \"\"\"\n",
        "\n",
        "\n"
      ]
    },
    {
      "cell_type": "code",
      "execution_count": 136,
      "id": "03c69c12-718f-494f-9897-0fe226e123be",
      "metadata": {
        "deletable": false,
        "editable": false,
        "nbgrader": {
          "cell_type": "code",
          "checksum": "60f1022668cec7b5d4f305d4e8f2e33f",
          "grade": true,
          "grade_id": "check_study_name_test",
          "locked": true,
          "points": 1,
          "schema_version": 3,
          "solution": false,
          "task": false
        },
        "tags": [],
        "id": "03c69c12-718f-494f-9897-0fe226e123be",
        "colab": {
          "base_uri": "https://localhost:8080/",
          "height": 235
        },
        "outputId": "3543e7eb-5319-45d3-ab98-808401912dad"
      },
      "outputs": [
        {
          "output_type": "error",
          "ename": "AssertionError",
          "evalue": "ignored",
          "traceback": [
            "\u001b[0;31m---------------------------------------------------------------------------\u001b[0m",
            "\u001b[0;31mAssertionError\u001b[0m                            Traceback (most recent call last)",
            "\u001b[0;32m<ipython-input-136-b8ce419fadfc>\u001b[0m in \u001b[0;36m<cell line: 1>\u001b[0;34m()\u001b[0m\n\u001b[0;32m----> 1\u001b[0;31m \u001b[0;32massert\u001b[0m \u001b[0mcheck_study_name\u001b[0m\u001b[0;34m(\u001b[0m\u001b[0;34m\"study_psyc_2\"\u001b[0m\u001b[0;34m)\u001b[0m \u001b[0;34m==\u001b[0m \u001b[0;32mTrue\u001b[0m\u001b[0;34m,\u001b[0m \u001b[0;34m\"Ensure that you combined the functions correctly using logical operators\"\u001b[0m\u001b[0;34m\u001b[0m\u001b[0;34m\u001b[0m\u001b[0m\n\u001b[0m\u001b[1;32m      2\u001b[0m \u001b[0;32massert\u001b[0m \u001b[0mcheck_study_name\u001b[0m\u001b[0;34m(\u001b[0m\u001b[0;36m1\u001b[0m\u001b[0;34m)\u001b[0m \u001b[0;34m==\u001b[0m \u001b[0;32mFalse\u001b[0m\u001b[0;34m,\u001b[0m \u001b[0;34m\"Ensure that you checked the data type of name\"\u001b[0m\u001b[0;34m\u001b[0m\u001b[0;34m\u001b[0m\u001b[0m\n\u001b[1;32m      3\u001b[0m \u001b[0;32massert\u001b[0m \u001b[0mcheck_study_name\u001b[0m\u001b[0;34m(\u001b[0m\u001b[0;34m\"Study_1\"\u001b[0m\u001b[0;34m)\u001b[0m \u001b[0;34m==\u001b[0m \u001b[0;32mFalse\u001b[0m\u001b[0;34m,\u001b[0m \u001b[0;34m\"Ensure that you performed the check for lowercase letters\"\u001b[0m\u001b[0;34m\u001b[0m\u001b[0;34m\u001b[0m\u001b[0m\n\u001b[1;32m      4\u001b[0m \u001b[0;32massert\u001b[0m \u001b[0mcheck_study_name\u001b[0m\u001b[0;34m(\u001b[0m\u001b[0;34m\"study_psyc_#1\"\u001b[0m\u001b[0;34m)\u001b[0m \u001b[0;34m==\u001b[0m \u001b[0;32mFalse\u001b[0m\u001b[0;34m,\u001b[0m \u001b[0;34m\"Ensure that you performed special characters check\"\u001b[0m\u001b[0;34m\u001b[0m\u001b[0;34m\u001b[0m\u001b[0m\n\u001b[1;32m      5\u001b[0m \u001b[0;32massert\u001b[0m \u001b[0mcheck_study_name\u001b[0m\u001b[0;34m(\u001b[0m\u001b[0;34m\"study_2\"\u001b[0m\u001b[0;34m)\u001b[0m \u001b[0;34m==\u001b[0m \u001b[0;32mFalse\u001b[0m\u001b[0;34m,\u001b[0m \u001b[0;34m\"Ensure that you performed the length check\"\u001b[0m\u001b[0;34m\u001b[0m\u001b[0;34m\u001b[0m\u001b[0m\n",
            "\u001b[0;31mAssertionError\u001b[0m: Ensure that you combined the functions correctly using logical operators"
          ]
        }
      ],
      "source": [
        "assert check_study_name(\"study_psyc_2\") == True, \"Ensure that you combined the functions correctly using logical operators\"\n",
        "assert check_study_name(1) == False, \"Ensure that you checked the data type of name\"\n",
        "assert check_study_name(\"Study_1\") == False, \"Ensure that you performed the check for lowercase letters\"\n",
        "assert check_study_name(\"study_psyc_#1\") == False, \"Ensure that you performed special characters check\"\n",
        "assert check_study_name(\"study_2\") == False, \"Ensure that you performed the length check\""
      ]
    },
    {
      "cell_type": "markdown",
      "id": "2f55395e-3cf5-4c7d-8772-7db52f39d348",
      "metadata": {
        "id": "2f55395e-3cf5-4c7d-8772-7db52f39d348"
      },
      "source": [
        "#### 4. Error Handling\n",
        "When a program encounters an error, it provides valuable feedback about what went wrong and where the problem occurred. This information can be used to diagnose and fix bugs in the code. Error handling also allows you to handle unexpected situations and lets your program continue to function even in the face of errors and other unexpected events.\n",
        "\n",
        "##### 4.1 In this task you will implement functions for a \"safe\" division:\n",
        "* Create a function ``safe_division`` with ``dividend`` and ``divisor`` as parameters. Return the quotient of these two. Then investigate which Exceptions might occur during the division using the test cases presented below. Implement your error handling accordingly such that ``np.nan`` (floating point representation of Not a Number (NaN)) is returned when an Exception occurs. You can use the ``finally`` block for example to print the result of your safe division:\n",
        "\n",
        "**Hint**: Check out the lecture slides for a suitable Python construct."
      ]
    },
    {
      "cell_type": "code",
      "execution_count": 141,
      "id": "589b8794-55a1-4251-b0d4-ac30f496f4b2",
      "metadata": {
        "deletable": false,
        "nbgrader": {
          "cell_type": "code",
          "checksum": "aec3a686b53ae9968b7528909ae4b168",
          "grade": false,
          "grade_id": "safe_division",
          "locked": false,
          "schema_version": 3,
          "solution": true,
          "task": false
        },
        "tags": [],
        "id": "589b8794-55a1-4251-b0d4-ac30f496f4b2"
      },
      "outputs": [],
      "source": [
        "def safe_division(dividend, divisor):\n",
        "    try:\n",
        "        quotient = dividend / divisor\n",
        "    except Exception:\n",
        "        quotient = float('nan')\n",
        "    except ZeroDivisionError:\n",
        "        quotient = float('nan')\n",
        "    finally:\n",
        "        print(\"Result of safe division:\", quotient)\n",
        "        return quotient\n"
      ]
    },
    {
      "cell_type": "code",
      "execution_count": 142,
      "id": "09222ec7-0ede-4674-a840-62b359cc4bf0",
      "metadata": {
        "deletable": false,
        "editable": false,
        "nbgrader": {
          "cell_type": "code",
          "checksum": "6bbc1853c277ef2be219db800e9d2bff",
          "grade": true,
          "grade_id": "safe_division_test",
          "locked": true,
          "points": 1,
          "schema_version": 3,
          "solution": false,
          "task": false
        },
        "tags": [],
        "id": "09222ec7-0ede-4674-a840-62b359cc4bf0",
        "colab": {
          "base_uri": "https://localhost:8080/"
        },
        "outputId": "a0e8a143-3028-493d-9bac-47d8383a7121"
      },
      "outputs": [
        {
          "output_type": "stream",
          "name": "stdout",
          "text": [
            "Result of safe division: 10.0\n",
            "Result of safe division: nan\n",
            "Result of safe division: nan\n"
          ]
        }
      ],
      "source": [
        "assert safe_division(10, 1) == 10, \"Ensure that you perform the division and return the quotient\"\n",
        "assert np.isnan(safe_division(10, \"1\")), \"Ensure that you handle this Exception correctly\"\n",
        "assert np.isnan(safe_division(10, 0)), \"Ensure that you handle this Exception correctly\""
      ]
    },
    {
      "cell_type": "markdown",
      "id": "64f0a09d-3731-4cfc-bb7c-c4dfbafea54e",
      "metadata": {
        "id": "64f0a09d-3731-4cfc-bb7c-c4dfbafea54e"
      },
      "source": [
        "* Now create a function ``division`` with ``dividend`` and ``divisor`` as parameters.\n",
        "    * Check the datatype of ``dividend``. If it is not of type int or float print a meaningful message and return\n",
        "    * Check the datatype of ``divisor``. If it is not of type list typecast the parameter to list\n",
        "    * Then divide ``dividend`` with every element of divisor using ``safe_divison``\n",
        "    * Return a list of all the quotients\n",
        "    \n",
        "**Hint**: Try ``[...]`` instead of ``list()`` for the typecast of ``divisor``."
      ]
    },
    {
      "cell_type": "code",
      "execution_count": 152,
      "id": "03666ad8-2a64-412a-a922-ce4b60faf3c7",
      "metadata": {
        "deletable": false,
        "nbgrader": {
          "cell_type": "code",
          "checksum": "e6cef4f71d5d31ed5223000da4cdde1b",
          "grade": false,
          "grade_id": "division",
          "locked": false,
          "schema_version": 3,
          "solution": true,
          "task": false
        },
        "tags": [],
        "id": "03666ad8-2a64-412a-a922-ce4b60faf3c7"
      },
      "outputs": [],
      "source": [
        "def division(dividend, divisor):\n",
        "    if not isinstance(dividend, (int, float)):\n",
        "        print(\"type int or float allowed\")\n",
        "        return\n",
        "    \n",
        "    if not isinstance(divisor, list):\n",
        "        divisor = list(divisor)\n",
        "    \n",
        "    final_quotients = []\n",
        "    for c in divisor:\n",
        "        quotient = safe_division(dividend, c)\n",
        "        final_quotients.append(quotient)\n",
        "    \n",
        "    return final_quotients\n"
      ]
    },
    {
      "cell_type": "code",
      "execution_count": 153,
      "id": "4f7e1af6-7111-4334-ba21-41c6487c386e",
      "metadata": {
        "deletable": false,
        "editable": false,
        "nbgrader": {
          "cell_type": "code",
          "checksum": "61e719f1d32b773d03c275358feb98de",
          "grade": true,
          "grade_id": "division_test",
          "locked": true,
          "points": 1,
          "schema_version": 3,
          "solution": false,
          "task": false
        },
        "tags": [],
        "id": "4f7e1af6-7111-4334-ba21-41c6487c386e",
        "colab": {
          "base_uri": "https://localhost:8080/",
          "height": 373
        },
        "outputId": "eb3e3ba2-9b0d-412b-9636-773dffc6aaac"
      },
      "outputs": [
        {
          "output_type": "stream",
          "name": "stdout",
          "text": [
            "type int or float allowed\n"
          ]
        },
        {
          "output_type": "error",
          "ename": "TypeError",
          "evalue": "ignored",
          "traceback": [
            "\u001b[0;31m---------------------------------------------------------------------------\u001b[0m",
            "\u001b[0;31mTypeError\u001b[0m                                 Traceback (most recent call last)",
            "\u001b[0;32m<ipython-input-153-232e41ff78b4>\u001b[0m in \u001b[0;36m<cell line: 2>\u001b[0;34m()\u001b[0m\n\u001b[1;32m      1\u001b[0m \u001b[0;32massert\u001b[0m \u001b[0mdivision\u001b[0m\u001b[0;34m(\u001b[0m\u001b[0;34m\"1\"\u001b[0m\u001b[0;34m,\u001b[0m \u001b[0;36m1\u001b[0m\u001b[0;34m)\u001b[0m \u001b[0;34m==\u001b[0m \u001b[0;32mNone\u001b[0m\u001b[0;34m,\u001b[0m \u001b[0;34m\"Ensure that you performed the datatype check of dividend\"\u001b[0m\u001b[0;34m\u001b[0m\u001b[0;34m\u001b[0m\u001b[0m\n\u001b[0;32m----> 2\u001b[0;31m \u001b[0;32massert\u001b[0m \u001b[0mdivision\u001b[0m\u001b[0;34m(\u001b[0m\u001b[0;36m1\u001b[0m\u001b[0;34m,\u001b[0m \u001b[0;36m1\u001b[0m\u001b[0;34m)\u001b[0m \u001b[0;34m==\u001b[0m \u001b[0;34m[\u001b[0m\u001b[0;36m1.0\u001b[0m\u001b[0;34m]\u001b[0m\u001b[0;34m,\u001b[0m \u001b[0;34m\"Ensure that you performed the datatype check of divisor\"\u001b[0m\u001b[0;34m\u001b[0m\u001b[0;34m\u001b[0m\u001b[0m\n\u001b[0m\u001b[1;32m      3\u001b[0m \u001b[0;32massert\u001b[0m \u001b[0mdivision\u001b[0m\u001b[0;34m(\u001b[0m\u001b[0;36m10\u001b[0m\u001b[0;34m,\u001b[0m \u001b[0;34m[\u001b[0m\u001b[0;36m2\u001b[0m\u001b[0;34m,\u001b[0m \u001b[0;34m\"hi\"\u001b[0m\u001b[0;34m,\u001b[0m \u001b[0;36m2.5\u001b[0m\u001b[0;34m,\u001b[0m \u001b[0;36m0\u001b[0m\u001b[0;34m,\u001b[0m \u001b[0;34m[\u001b[0m\u001b[0;36m1\u001b[0m\u001b[0;34m,\u001b[0m \u001b[0;36m2\u001b[0m\u001b[0;34m]\u001b[0m\u001b[0;34m,\u001b[0m \u001b[0;36m200\u001b[0m\u001b[0;34m,\u001b[0m \u001b[0;32mNone\u001b[0m\u001b[0;34m]\u001b[0m\u001b[0;34m)\u001b[0m \u001b[0;34m==\u001b[0m \u001b[0;34m[\u001b[0m\u001b[0;36m5.0\u001b[0m\u001b[0;34m,\u001b[0m \u001b[0mnp\u001b[0m\u001b[0;34m.\u001b[0m\u001b[0mnan\u001b[0m\u001b[0;34m,\u001b[0m \u001b[0;36m4.0\u001b[0m\u001b[0;34m,\u001b[0m \u001b[0mnp\u001b[0m\u001b[0;34m.\u001b[0m\u001b[0mnan\u001b[0m\u001b[0;34m,\u001b[0m \u001b[0mnp\u001b[0m\u001b[0;34m.\u001b[0m\u001b[0mnan\u001b[0m\u001b[0;34m,\u001b[0m \u001b[0;36m0.05\u001b[0m\u001b[0;34m,\u001b[0m \u001b[0mnp\u001b[0m\u001b[0;34m.\u001b[0m\u001b[0mnan\u001b[0m\u001b[0;34m]\u001b[0m\u001b[0;34m,\u001b[0m \u001b[0;34m\"Check if you performed the division elementwise\"\u001b[0m\u001b[0;34m\u001b[0m\u001b[0;34m\u001b[0m\u001b[0m\n\u001b[1;32m      4\u001b[0m \u001b[0;32massert\u001b[0m \u001b[0mdivision\u001b[0m\u001b[0;34m(\u001b[0m\u001b[0;36m0\u001b[0m\u001b[0;34m,\u001b[0m \u001b[0;34m[\u001b[0m\u001b[0;36m0\u001b[0m\u001b[0;34m,\u001b[0m \u001b[0;36m1\u001b[0m\u001b[0;34m]\u001b[0m\u001b[0;34m)\u001b[0m \u001b[0;34m==\u001b[0m \u001b[0;34m[\u001b[0m\u001b[0mnp\u001b[0m\u001b[0;34m.\u001b[0m\u001b[0mnan\u001b[0m\u001b[0;34m,\u001b[0m \u001b[0;36m0\u001b[0m\u001b[0;34m]\u001b[0m\u001b[0;34m,\u001b[0m \u001b[0;34m\"Check if you performed the division elementwise\"\u001b[0m\u001b[0;34m\u001b[0m\u001b[0;34m\u001b[0m\u001b[0m\n",
            "\u001b[0;32m<ipython-input-152-33f03c4811ac>\u001b[0m in \u001b[0;36mdivision\u001b[0;34m(dividend, divisor)\u001b[0m\n\u001b[1;32m      5\u001b[0m \u001b[0;34m\u001b[0m\u001b[0m\n\u001b[1;32m      6\u001b[0m     \u001b[0;32mif\u001b[0m \u001b[0;32mnot\u001b[0m \u001b[0misinstance\u001b[0m\u001b[0;34m(\u001b[0m\u001b[0mdivisor\u001b[0m\u001b[0;34m,\u001b[0m \u001b[0mlist\u001b[0m\u001b[0;34m)\u001b[0m\u001b[0;34m:\u001b[0m\u001b[0;34m\u001b[0m\u001b[0;34m\u001b[0m\u001b[0m\n\u001b[0;32m----> 7\u001b[0;31m         \u001b[0mdivisor\u001b[0m \u001b[0;34m=\u001b[0m \u001b[0mlist\u001b[0m\u001b[0;34m(\u001b[0m\u001b[0mdivisor\u001b[0m\u001b[0;34m)\u001b[0m\u001b[0;34m\u001b[0m\u001b[0;34m\u001b[0m\u001b[0m\n\u001b[0m\u001b[1;32m      8\u001b[0m \u001b[0;34m\u001b[0m\u001b[0m\n\u001b[1;32m      9\u001b[0m     \u001b[0mfinal_quotients\u001b[0m \u001b[0;34m=\u001b[0m \u001b[0;34m[\u001b[0m\u001b[0;34m]\u001b[0m\u001b[0;34m\u001b[0m\u001b[0;34m\u001b[0m\u001b[0m\n",
            "\u001b[0;31mTypeError\u001b[0m: 'int' object is not iterable"
          ]
        }
      ],
      "source": [
        "assert division(\"1\", 1) == None, \"Ensure that you performed the datatype check of dividend\"\n",
        "assert division(1, 1) == [1.0], \"Ensure that you performed the datatype check of divisor\"\n",
        "assert division(10, [2, \"hi\", 2.5, 0, [1, 2], 200, None]) == [5.0, np.nan, 4.0, np.nan, np.nan, 0.05, np.nan], \"Check if you performed the division elementwise\"\n",
        "assert division(0, [0, 1]) == [np.nan, 0], \"Check if you performed the division elementwise\""
      ]
    },
    {
      "cell_type": "markdown",
      "id": "f1b81d38-e8a5-4e8b-a421-e58e43e095e6",
      "metadata": {
        "id": "f1b81d38-e8a5-4e8b-a421-e58e43e095e6"
      },
      "source": [
        "##### 4.2 Create a function ``check_study`` with the 2 parameters ``name`` and ``number_participants`` which checks if the study parameters are valid:\n",
        "* ``name``\n",
        "    * if it is ``None`` raise a warning with a meaningful message\n",
        "    * otherwise, use the ``check_study_name()`` function you created before to test for study name requirements. If they are not met, raise the Exception ``ValueError`` with a meaningful message\n",
        "* ``number_participants``\n",
        "    * if it is not of type ``int`` raise the Exception ``TypeError`` with a meaningful message\n",
        "    * if it is negative raise the Exception ``ValueError`` with a meaningful message"
      ]
    },
    {
      "cell_type": "code",
      "execution_count": 154,
      "id": "1d81e264-f9b2-4c96-b186-6a4892ddc9b2",
      "metadata": {
        "deletable": false,
        "nbgrader": {
          "cell_type": "code",
          "checksum": "590311b9bec28392cfbbc52aaf006e11",
          "grade": false,
          "grade_id": "check_study",
          "locked": false,
          "schema_version": 3,
          "solution": true,
          "task": false
        },
        "tags": [],
        "id": "1d81e264-f9b2-4c96-b186-6a4892ddc9b2"
      },
      "outputs": [],
      "source": [
        "def check_study(name, number_participants):\n",
        "  if name is None:\n",
        "    warn(\"enter Name\")\n",
        "  elif check_study_name(name):\n",
        "    raise ValueError(\"Name Invalid\")\n",
        "\n",
        "  if not isinstance(number_participants, int):\n",
        "    TypeError(\"number of participants mustbe integer\")\n",
        "\n",
        "  if number_participants<0:\n",
        "    raise ValueError(\"number of participants mustbe positive\")"
      ]
    },
    {
      "cell_type": "code",
      "execution_count": 155,
      "id": "da616924-c5a3-477e-8938-5195a031843e",
      "metadata": {
        "deletable": false,
        "editable": false,
        "nbgrader": {
          "cell_type": "code",
          "checksum": "94bd03e1d0f33b259a3c00ee04774ad0",
          "grade": true,
          "grade_id": "check_study_test",
          "locked": true,
          "points": 2,
          "schema_version": 3,
          "solution": false,
          "task": false
        },
        "tags": [],
        "id": "da616924-c5a3-477e-8938-5195a031843e"
      },
      "outputs": [],
      "source": [
        "with catch_warnings(record=True) as w: check_study(None, 2); assert len(w) == 1, \"Check if you used a Warning\"\n",
        "with suppress(ValueError): check_study(\"study_psyc_#2\", 2); assert False, \"Check if you raise the correct Exception for study name\"\n",
        "with suppress(TypeError): check_study(\"study_psyc_1\", [12]); assert False, \"Check if you raise the correct Exception for number_participants\"\n",
        "with suppress(ValueError): check_study(\"study_psyc_1\", -1); assert False, \"Check if you raise the correct Exception for number_participants\""
      ]
    }
  ],
  "metadata": {
    "kernelspec": {
      "display_name": "Python 3",
      "name": "python3"
    },
    "language_info": {
      "name": "python"
    },
    "colab": {
      "provenance": [],
      "include_colab_link": true
    },
    "gpuClass": "standard"
  },
  "nbformat": 4,
  "nbformat_minor": 5
}