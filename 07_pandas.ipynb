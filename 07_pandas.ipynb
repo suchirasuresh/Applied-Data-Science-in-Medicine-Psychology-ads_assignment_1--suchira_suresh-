{
  "cells": [
    {
      "cell_type": "markdown",
      "metadata": {
        "id": "view-in-github",
        "colab_type": "text"
      },
      "source": [
        "<a href=\"https://colab.research.google.com/github/suchirasuresh/Applied-Data-Science-in-Medicine-Psychology-ads_assignment_1--suchira_suresh-/blob/main/07_pandas.ipynb\" target=\"_parent\"><img src=\"https://colab.research.google.com/assets/colab-badge.svg\" alt=\"Open In Colab\"/></a>"
      ]
    },
    {
      "cell_type": "markdown",
      "id": "ea0c0a0a",
      "metadata": {
        "pycharm": {
          "name": "#%% md\n"
        },
        "id": "ea0c0a0a"
      },
      "source": [
        "Fill in your github username and idm credentials below:"
      ]
    },
    {
      "cell_type": "code",
      "execution_count": 1,
      "id": "858f594c",
      "metadata": {
        "pycharm": {
          "is_executing": true,
          "name": "#%%\n"
        },
        "vscode": {
          "languageId": "python"
        },
        "id": "858f594c"
      },
      "outputs": [],
      "source": [
        "github_username = \"suchirasuresh\"\n",
        "idm_credentials = \"yh07ajaw\""
      ]
    },
    {
      "cell_type": "markdown",
      "id": "a2006a91",
      "metadata": {
        "pycharm": {
          "name": "#%% md\n"
        },
        "id": "a2006a91"
      },
      "source": [
        "---"
      ]
    },
    {
      "cell_type": "markdown",
      "id": "755c6140-79ab-496f-9e79-71972edca5bc",
      "metadata": {
        "pycharm": {
          "name": "#%% md\n"
        },
        "id": "755c6140-79ab-496f-9e79-71972edca5bc"
      },
      "source": [
        "# **Applied Data Science in Medicine & Psychology - Assignment 7**\n",
        "## Pandas\n",
        "---\n",
        "**Deadline: 20.06.2023, 23:59**\n",
        "### **General setup and submission**\n",
        "1. Save an editable copy of this notebook to your Google Drive ``File`` $\\rightarrow$ ``Save a copy in Drive`` and remove the automatically appended \"Copy of\" text. **Do not change the file name**.\n",
        "2. Work on the assignment in the *copied* version of the notebook. Make sure that you **replace** all parts of the tasks indicated with *YOUR CODE HERE* and **raise NotImplementedError()** (otherwise this causes an error in your implementation) or *YOUR ANSWER HERE* with your solution.\n",
        "3. If you do a break during the implementation, you can save the current status of your work in your repository following the submission instructions below. When you continue working on the assignment, do this in the version of the notebook that you saved in your Google Drive (access from your Google Colab account) or your repository.\n",
        "4. After finishing the assignment submit your assignment as follows:\n",
        "    * Check that everything runs as expected. To do that select in the menubar ``Runtime`` $\\rightarrow$ ``Restart and run all``. This will clear all your local variables and runs your notebook from the beginning\n",
        "    * Save your notebook, click ``File`` $\\rightarrow$ ``Save``\n",
        "    * Click ``File`` $\\rightarrow$ ``Save a copy in GitHub``\n",
        "    * Select ``digikolleg-data-science-psychology/07_pandas-<username>`` from the Repository drop-down menu\n",
        "    * Type ``07_pandas.ipynb`` into the File path text box\n",
        "    * Optionally, you may enter a description into the \"Commit message\" text box (like: \"solved task 1\" or \"ready for grading\")\n",
        "    * Make sure that the \"Include a link to Colaboratory\" box is checked\n",
        "    * Press \"Ok\"\n",
        "    * A new tab or window should open up, displaying your submitted notebook within your GitHub repository\n",
        "\n",
        "Before the assignment deadline, you can re-submit your assignment as often as you would like. This will update the copy of your assignment file in your assignment's repository."
      ]
    },
    {
      "cell_type": "markdown",
      "id": "2fe61c2c-a030-4c02-8214-7db7d1c10df5",
      "metadata": {
        "id": "2fe61c2c-a030-4c02-8214-7db7d1c10df5"
      },
      "source": [
        "### **Assignment Description**\n",
        "In this assignment, we take a first glance at the ``Pandas`` package. ``Pandas`` is a powerful Python library that provides easy-to-use data structures and data analysis tools, allowing users to efficiently manipulate, analyze, and visualize data, making complex data operations simple and intuitive.\n",
        "\n",
        "#### **Assignment goals**\n",
        "You are going to learn the following things in this assignment:\n",
        "1. how to create data frames from dictionaries and arrays\n",
        "2. how to apply operations to data frames\n",
        "3. how to add and remove rows/columns\n",
        "4. how to index data in data frames (based on conditions)\n",
        "5. how to create a multi-index data frame\n",
        "6. how to transform a data frame from wide to long format\n",
        "7. how to group data in a data frame\n",
        "\n",
        "#### **Assignment point value**\n",
        "This assignment is worth a total (up to) **12** points. If your code passes all of the manual and automatic tests you will receive full credit."
      ]
    },
    {
      "cell_type": "markdown",
      "id": "89d2a637-e274-43a8-a88a-23bb204e96db",
      "metadata": {
        "id": "89d2a637-e274-43a8-a88a-23bb204e96db"
      },
      "source": [
        "### **Tasks**\n",
        "Make sure that you now work on your *copied* version of this assignment's notebook."
      ]
    },
    {
      "cell_type": "markdown",
      "id": "42e90337-1130-4412-b037-d1267bc45101",
      "metadata": {
        "id": "42e90337-1130-4412-b037-d1267bc45101"
      },
      "source": [
        "#### 0. Imports and Setup\n",
        "Please **run** the cell below to import the libraries needed for this assignment."
      ]
    },
    {
      "cell_type": "code",
      "execution_count": 2,
      "id": "23f1cef0-5d30-4548-b6b6-4020b3013f8c",
      "metadata": {
        "id": "23f1cef0-5d30-4548-b6b6-4020b3013f8c",
        "colab": {
          "base_uri": "https://localhost:8080/"
        },
        "outputId": "09cd4c6e-7f9d-4a1a-9287-d4190339cac8"
      },
      "outputs": [
        {
          "output_type": "stream",
          "name": "stdout",
          "text": [
            "Looking in indexes: https://pypi.org/simple, https://us-python.pkg.dev/colab-wheels/public/simple/\n",
            "Collecting biopsykit\n",
            "  Downloading biopsykit-0.9.0-py3-none-any.whl (279 kB)\n",
            "\u001b[2K     \u001b[90m━━━━━━━━━━━━━━━━━━━━━━━━━━━━━━━━━━━━━━━\u001b[0m \u001b[32m279.9/279.9 kB\u001b[0m \u001b[31m5.9 MB/s\u001b[0m eta \u001b[36m0:00:00\u001b[0m\n",
            "\u001b[?25hCollecting XlsxWriter<2,>=1 (from biopsykit)\n",
            "  Downloading XlsxWriter-1.4.5-py2.py3-none-any.whl (149 kB)\n",
            "\u001b[2K     \u001b[90m━━━━━━━━━━━━━━━━━━━━━━━━━━━━━━━━━━━━━━\u001b[0m \u001b[32m149.7/149.7 kB\u001b[0m \u001b[31m16.0 MB/s\u001b[0m eta \u001b[36m0:00:00\u001b[0m\n",
            "\u001b[?25hCollecting bioread<4,>=3 (from biopsykit)\n",
            "  Downloading bioread-3.0.1-py3-none-any.whl (54 kB)\n",
            "\u001b[2K     \u001b[90m━━━━━━━━━━━━━━━━━━━━━━━━━━━━━━━━━━━━━━━━\u001b[0m \u001b[32m54.3/54.3 kB\u001b[0m \u001b[31m3.5 MB/s\u001b[0m eta \u001b[36m0:00:00\u001b[0m\n",
            "\u001b[?25hCollecting fau-colors<2.0,>=1.1 (from biopsykit)\n",
            "  Downloading fau_colors-1.6.0-py3-none-any.whl (9.0 kB)\n",
            "Requirement already satisfied: joblib<2,>=1 in /usr/local/lib/python3.10/dist-packages (from biopsykit) (1.2.0)\n",
            "Requirement already satisfied: matplotlib<4.0,>=3.4 in /usr/local/lib/python3.10/dist-packages (from biopsykit) (3.7.1)\n",
            "Collecting neurokit2<1,>=0 (from biopsykit)\n",
            "  Downloading neurokit2-0.2.4-py2.py3-none-any.whl (1.3 MB)\n",
            "\u001b[2K     \u001b[90m━━━━━━━━━━━━━━━━━━━━━━━━━━━━━━━━━━━━━━━━\u001b[0m \u001b[32m1.3/1.3 MB\u001b[0m \u001b[31m22.8 MB/s\u001b[0m eta \u001b[36m0:00:00\u001b[0m\n",
            "\u001b[?25hCollecting nilspodlib>=3.4.1 (from biopsykit)\n",
            "  Downloading nilspodlib-3.6.0-py3-none-any.whl (38 kB)\n",
            "Requirement already satisfied: numpy<2,>=1 in /usr/local/lib/python3.10/dist-packages (from biopsykit) (1.22.4)\n",
            "Requirement already satisfied: openpyxl<4,>=3 in /usr/local/lib/python3.10/dist-packages (from biopsykit) (3.0.10)\n",
            "Requirement already satisfied: pandas<2,>=1 in /usr/local/lib/python3.10/dist-packages (from biopsykit) (1.5.3)\n",
            "Collecting pingouin<0.6.0,>=0.5.2 (from biopsykit)\n",
            "  Downloading pingouin-0.5.3-py3-none-any.whl (198 kB)\n",
            "\u001b[2K     \u001b[90m━━━━━━━━━━━━━━━━━━━━━━━━━━━━━━━━━━━━━━\u001b[0m \u001b[32m198.6/198.6 kB\u001b[0m \u001b[31m20.9 MB/s\u001b[0m eta \u001b[36m0:00:00\u001b[0m\n",
            "\u001b[?25hRequirement already satisfied: scikit-learn<2.0,>=1.0 in /usr/local/lib/python3.10/dist-packages (from biopsykit) (1.2.2)\n",
            "Requirement already satisfied: scipy<2,>=1 in /usr/local/lib/python3.10/dist-packages (from biopsykit) (1.10.1)\n",
            "Requirement already satisfied: seaborn<1,>=0 in /usr/local/lib/python3.10/dist-packages (from biopsykit) (0.12.2)\n",
            "Collecting statannot<0.3.0,>=0.2.3 (from biopsykit)\n",
            "  Downloading statannot-0.2.3-py3-none-any.whl (10 kB)\n",
            "Requirement already satisfied: statsmodels<0.14,>=0.13 in /usr/local/lib/python3.10/dist-packages (from biopsykit) (0.13.5)\n",
            "Requirement already satisfied: tqdm<5,>=4 in /usr/local/lib/python3.10/dist-packages (from biopsykit) (4.65.0)\n",
            "Requirement already satisfied: xlrd<3,>=2 in /usr/local/lib/python3.10/dist-packages (from biopsykit) (2.0.1)\n",
            "Collecting docopt>=0.6.1 (from bioread<4,>=3->biopsykit)\n",
            "  Downloading docopt-0.6.2.tar.gz (25 kB)\n",
            "  Preparing metadata (setup.py) ... \u001b[?25l\u001b[?25hdone\n",
            "Requirement already satisfied: typing-extensions>=3.7 in /usr/local/lib/python3.10/dist-packages (from fau-colors<2.0,>=1.1->biopsykit) (4.5.0)\n",
            "Requirement already satisfied: contourpy>=1.0.1 in /usr/local/lib/python3.10/dist-packages (from matplotlib<4.0,>=3.4->biopsykit) (1.0.7)\n",
            "Requirement already satisfied: cycler>=0.10 in /usr/local/lib/python3.10/dist-packages (from matplotlib<4.0,>=3.4->biopsykit) (0.11.0)\n",
            "Requirement already satisfied: fonttools>=4.22.0 in /usr/local/lib/python3.10/dist-packages (from matplotlib<4.0,>=3.4->biopsykit) (4.39.3)\n",
            "Requirement already satisfied: kiwisolver>=1.0.1 in /usr/local/lib/python3.10/dist-packages (from matplotlib<4.0,>=3.4->biopsykit) (1.4.4)\n",
            "Requirement already satisfied: packaging>=20.0 in /usr/local/lib/python3.10/dist-packages (from matplotlib<4.0,>=3.4->biopsykit) (23.1)\n",
            "Requirement already satisfied: pillow>=6.2.0 in /usr/local/lib/python3.10/dist-packages (from matplotlib<4.0,>=3.4->biopsykit) (8.4.0)\n",
            "Requirement already satisfied: pyparsing>=2.3.1 in /usr/local/lib/python3.10/dist-packages (from matplotlib<4.0,>=3.4->biopsykit) (3.0.9)\n",
            "Requirement already satisfied: python-dateutil>=2.7 in /usr/local/lib/python3.10/dist-packages (from matplotlib<4.0,>=3.4->biopsykit) (2.8.2)\n",
            "Collecting imucal>=2.0.0 (from nilspodlib>=3.4.1->biopsykit)\n",
            "  Downloading imucal-2.4.0-py3-none-any.whl (23 kB)\n",
            "Requirement already satisfied: et-xmlfile in /usr/local/lib/python3.10/dist-packages (from openpyxl<4,>=3->biopsykit) (1.1.0)\n",
            "Requirement already satisfied: pytz>=2020.1 in /usr/local/lib/python3.10/dist-packages (from pandas<2,>=1->biopsykit) (2022.7.1)\n",
            "Collecting pandas-flavor>=0.2.0 (from pingouin<0.6.0,>=0.5.2->biopsykit)\n",
            "  Downloading pandas_flavor-0.5.0-py3-none-any.whl (7.1 kB)\n",
            "Collecting outdated (from pingouin<0.6.0,>=0.5.2->biopsykit)\n",
            "  Downloading outdated-0.2.2-py2.py3-none-any.whl (7.5 kB)\n",
            "Requirement already satisfied: tabulate in /usr/local/lib/python3.10/dist-packages (from pingouin<0.6.0,>=0.5.2->biopsykit) (0.8.10)\n",
            "Requirement already satisfied: threadpoolctl>=2.0.0 in /usr/local/lib/python3.10/dist-packages (from scikit-learn<2.0,>=1.0->biopsykit) (3.1.0)\n",
            "Requirement already satisfied: patsy>=0.5.2 in /usr/local/lib/python3.10/dist-packages (from statsmodels<0.14,>=0.13->biopsykit) (0.5.3)\n",
            "Requirement already satisfied: xarray in /usr/local/lib/python3.10/dist-packages (from pandas-flavor>=0.2.0->pingouin<0.6.0,>=0.5.2->biopsykit) (2022.12.0)\n",
            "Requirement already satisfied: lazy-loader>=0.1 in /usr/local/lib/python3.10/dist-packages (from pandas-flavor>=0.2.0->pingouin<0.6.0,>=0.5.2->biopsykit) (0.2)\n",
            "Requirement already satisfied: six in /usr/local/lib/python3.10/dist-packages (from patsy>=0.5.2->statsmodels<0.14,>=0.13->biopsykit) (1.16.0)\n",
            "Requirement already satisfied: setuptools>=44 in /usr/local/lib/python3.10/dist-packages (from outdated->pingouin<0.6.0,>=0.5.2->biopsykit) (67.7.2)\n",
            "Collecting littleutils (from outdated->pingouin<0.6.0,>=0.5.2->biopsykit)\n",
            "  Downloading littleutils-0.2.2.tar.gz (6.6 kB)\n",
            "  Preparing metadata (setup.py) ... \u001b[?25l\u001b[?25hdone\n",
            "Requirement already satisfied: requests in /usr/local/lib/python3.10/dist-packages (from outdated->pingouin<0.6.0,>=0.5.2->biopsykit) (2.27.1)\n",
            "Requirement already satisfied: urllib3<1.27,>=1.21.1 in /usr/local/lib/python3.10/dist-packages (from requests->outdated->pingouin<0.6.0,>=0.5.2->biopsykit) (1.26.15)\n",
            "Requirement already satisfied: certifi>=2017.4.17 in /usr/local/lib/python3.10/dist-packages (from requests->outdated->pingouin<0.6.0,>=0.5.2->biopsykit) (2022.12.7)\n",
            "Requirement already satisfied: charset-normalizer~=2.0.0 in /usr/local/lib/python3.10/dist-packages (from requests->outdated->pingouin<0.6.0,>=0.5.2->biopsykit) (2.0.12)\n",
            "Requirement already satisfied: idna<4,>=2.5 in /usr/local/lib/python3.10/dist-packages (from requests->outdated->pingouin<0.6.0,>=0.5.2->biopsykit) (3.4)\n",
            "Building wheels for collected packages: docopt, littleutils\n",
            "  Building wheel for docopt (setup.py) ... \u001b[?25l\u001b[?25hdone\n",
            "  Created wheel for docopt: filename=docopt-0.6.2-py2.py3-none-any.whl size=13707 sha256=012bda465984ff922b566c8cada08c421461559202a99ca95f9a2058249550e3\n",
            "  Stored in directory: /root/.cache/pip/wheels/fc/ab/d4/5da2067ac95b36618c629a5f93f809425700506f72c9732fac\n",
            "  Building wheel for littleutils (setup.py) ... \u001b[?25l\u001b[?25hdone\n",
            "  Created wheel for littleutils: filename=littleutils-0.2.2-py3-none-any.whl size=7029 sha256=6e1747442f98e2e46779956d6c0b360317ae0d8c5866baf0840df51afc1ae581\n",
            "  Stored in directory: /root/.cache/pip/wheels/3d/fe/b0/27a9892da57472e538c7452a721a9cf463cc03cf7379889266\n",
            "Successfully built docopt littleutils\n",
            "Installing collected packages: XlsxWriter, littleutils, docopt, statannot, bioread, outdated, neurokit2, imucal, pandas-flavor, nilspodlib, fau-colors, pingouin, biopsykit\n",
            "Successfully installed XlsxWriter-1.4.5 biopsykit-0.9.0 bioread-3.0.1 docopt-0.6.2 fau-colors-1.6.0 imucal-2.4.0 littleutils-0.2.2 neurokit2-0.2.4 nilspodlib-3.6.0 outdated-0.2.2 pandas-flavor-0.5.0 pingouin-0.5.3 statannot-0.2.3\n"
          ]
        }
      ],
      "source": [
        "import matplotlib.pyplot as plt\n",
        "import numpy as np\n",
        "import pandas as pd\n",
        "# install the BioPsyKit package\n",
        "!pip install biopsykit\n",
        "import biopsykit as bp\n",
        "from itertools import product"
      ]
    },
    {
      "cell_type": "markdown",
      "id": "9e1ace6b-bbf4-4d02-9c31-20937bf0eb8c",
      "metadata": {
        "id": "9e1ace6b-bbf4-4d02-9c31-20937bf0eb8c"
      },
      "source": [
        "#### 1. Pandas Introduction\n",
        "In this task, we will work with an artificial example dataset containing information about patients undergoing the *Oral Glucose Tolerance* (OGT) Test to investigate whether they have diabetes. The OGT Test measures blood sugar before and after patients drink a glucose-containing liquid. This usually involves fasting for 8 hours before the first test, drinking the liquid, then having a follow-up test 2 hours later. Typical blood glucose levels for adults are:\n",
        "\n",
        "| Test time | Without diabetes | With diabetes |\n",
        "| :- | :-: | :- |\n",
        "| Before intake | <= 6 mmol/l | >= 7.0 mmol/l |\n",
        "| 2 hours after intake | <= 7.8 mmol/l | >= 11.0 mmol/l|\n",
        "\n",
        "##### 1.1 Create a ``pandas.DataFrame`` called ``df`` containing the information from ``patients`` and ``samples``. To do so:\n",
        "* Create ``pandas.DataFrame`` called ``df_info`` from ``patients``\n",
        "* Create a ``pandas.DataFrame`` called ``df_samples`` from ``samples``. Set the column names such that the first sample is called ``S0`` and the second sample ``S1``.\n",
        "* Fuse ``df_info`` and ``df_samples`` in ``df`` using [pandas.concat](https://pandas.pydata.org/docs/reference/api/pandas.concat.html) and set the index such that ``P0`` belongs to Jane, ``P1`` to John, and ``P2`` to Ava\n",
        "* Display ``df``\n",
        "\n",
        "**Hint**: ``Pandas`` is already imported above."
      ]
    },
    {
      "cell_type": "code",
      "execution_count": 3,
      "id": "76500882-aa4e-4283-8939-a98d36700fa2",
      "metadata": {
        "deletable": false,
        "nbgrader": {
          "cell_type": "code",
          "checksum": "15ecf6ee879ec8b655e5f4f3abc59679",
          "grade": false,
          "grade_id": "create_df",
          "locked": false,
          "schema_version": 3,
          "solution": true,
          "task": false
        },
        "tags": [],
        "id": "76500882-aa4e-4283-8939-a98d36700fa2",
        "colab": {
          "base_uri": "https://localhost:8080/"
        },
        "outputId": "9ad588e3-901c-4371-cf69-d55a5773477a"
      },
      "outputs": [
        {
          "output_type": "stream",
          "name": "stdout",
          "text": [
            "    name  age   S0    S1\n",
            "P0  Jane   24  5.8   7.7\n",
            "P1  John   21  7.2  11.5\n",
            "P2   Ava   27  7.5  11.9\n"
          ]
        }
      ],
      "source": [
        "patients = {\n",
        "    \"name\": [\"Jane\", \"John\", \"Ava\"],\n",
        "    \"age\": [24, 21, 27]\n",
        "}\n",
        "\n",
        "samples = np.array([[5.8, 7.7], [7.2, 11.5], [7.5, 11.9]])\n",
        "\n",
        "df_info = pd.DataFrame(patients)\n",
        "\n",
        "df_samples = pd.DataFrame(samples, columns=['S0', 'S1'])\n",
        "df = pd.concat([df_info, df_samples], axis=1)\n",
        "df.index = ['P0', 'P1', 'P2']\n",
        "\n",
        "print(df)"
      ]
    },
    {
      "cell_type": "code",
      "execution_count": 4,
      "id": "b6ed2cba-cad0-4bc6-b414-ed8aaf6bc87a",
      "metadata": {
        "deletable": false,
        "editable": false,
        "nbgrader": {
          "cell_type": "code",
          "checksum": "23e87370dcf783ced61965152a91e056",
          "grade": true,
          "grade_id": "create_df_test",
          "locked": true,
          "points": 1,
          "schema_version": 3,
          "solution": false,
          "task": false
        },
        "tags": [],
        "id": "b6ed2cba-cad0-4bc6-b414-ed8aaf6bc87a"
      },
      "outputs": [],
      "source": [
        "# run tests to check your implementation\n",
        "assert df_info.shape == (3, 2) and list(df_info.columns) == [\"name\", \"age\"], \"Check if you created df_info correctly\"\n",
        "assert df_samples.shape == (3, 2) and list(df_samples.columns) == [\"S0\", \"S1\"], \"Check if you created df_samples correctly\"\n",
        "assert df.shape == (3, 4), \"Check if you concatenated the data frames with the correct axis\"\n",
        "assert list(df.index) == [\"P0\", \"P1\", \"P2\"], \"Check if you set your index as specified\""
      ]
    },
    {
      "cell_type": "markdown",
      "id": "060566e2-f58c-40bc-a7c8-0806b5f47e28",
      "metadata": {
        "id": "060566e2-f58c-40bc-a7c8-0806b5f47e28"
      },
      "source": [
        "##### 1.2 Add another row to ``df`` with\n",
        "* index: P3, name: Scott, age: 23, S0: 5.9, S1: 7.6\n",
        "* Display the new version of ``df``"
      ]
    },
    {
      "cell_type": "code",
      "execution_count": 5,
      "id": "2612b6a1-97f3-40cb-a0c4-a492a45bce43",
      "metadata": {
        "deletable": false,
        "nbgrader": {
          "cell_type": "code",
          "checksum": "1f8df06f1e8a4f7c03eb465ad356c2f1",
          "grade": false,
          "grade_id": "add_row",
          "locked": false,
          "schema_version": 3,
          "solution": true,
          "task": false
        },
        "tags": [],
        "id": "2612b6a1-97f3-40cb-a0c4-a492a45bce43",
        "colab": {
          "base_uri": "https://localhost:8080/"
        },
        "outputId": "7c0be401-ee94-4d31-ffa4-2a37647643c3"
      },
      "outputs": [
        {
          "output_type": "stream",
          "name": "stdout",
          "text": [
            "     name  age   S0    S1\n",
            "P0   Jane   24  5.8   7.7\n",
            "P1   John   21  7.2  11.5\n",
            "P2    Ava   27  7.5  11.9\n",
            "P3  Scott   23  5.9   7.6\n"
          ]
        }
      ],
      "source": [
        "# new row\n",
        "df.loc['P3'] = ['Scott', 23, 5.9, 7.6]\n",
        "\n",
        "# Display df\n",
        "print(df)\n",
        ""
      ]
    },
    {
      "cell_type": "code",
      "execution_count": 6,
      "id": "b329a9ee-270d-4edc-a246-e1245097db7a",
      "metadata": {
        "deletable": false,
        "editable": false,
        "nbgrader": {
          "cell_type": "code",
          "checksum": "04c2249f3f14029e5074e65004bd2538",
          "grade": true,
          "grade_id": "add_row_test",
          "locked": true,
          "points": 0.5,
          "schema_version": 3,
          "solution": false,
          "task": false
        },
        "tags": [],
        "id": "b329a9ee-270d-4edc-a246-e1245097db7a"
      },
      "outputs": [],
      "source": [
        "# run tests to check your implementation\n",
        "assert df.shape == (4, 4), \"Check if you added a row and not a column\"\n",
        "assert list(df.index) == [\"P0\", \"P1\", \"P2\", \"P3\"], \"Check if you set your index for Scott correctly\"\n",
        "assert df.loc[\"P3\", \"name\"] == \"Scott\" and df.loc[\"P3\", \"age\"] == 23 and df.loc[\"P3\", \"S0\"] == 5.9 and df.loc[\"P3\", \"S1\"] == 7.6, \"Check your inserted values for Scott\""
      ]
    },
    {
      "cell_type": "markdown",
      "id": "7713f447-d9bf-4372-8275-5bf09aea0e34",
      "metadata": {
        "id": "7713f447-d9bf-4372-8275-5bf09aea0e34"
      },
      "source": [
        "##### 1.3 Calculate the mean value for each of the samples (S0 and S1 separately) over all patients using ``np.mean`` and save the result in ``df_mean``:\n",
        "\n",
        "**Hint**: Access the relevant columns first and then apply ``np.mean``."
      ]
    },
    {
      "cell_type": "code",
      "execution_count": 7,
      "id": "5fdef016-54a9-407a-bdff-1f3630b7a138",
      "metadata": {
        "deletable": false,
        "nbgrader": {
          "cell_type": "code",
          "checksum": "87a778565cd358a19cfe9d165136e898",
          "grade": false,
          "grade_id": "df_mean",
          "locked": false,
          "schema_version": 3,
          "solution": true,
          "task": false
        },
        "tags": [],
        "id": "5fdef016-54a9-407a-bdff-1f3630b7a138",
        "colab": {
          "base_uri": "https://localhost:8080/"
        },
        "outputId": "8a723b95-aa1e-425c-f936-9b0ae2930cda"
      },
      "outputs": [
        {
          "output_type": "stream",
          "name": "stdout",
          "text": [
            "S0    6.600\n",
            "S1    9.675\n",
            "Name: Mean Value, dtype: float64\n"
          ]
        }
      ],
      "source": [
        "mean_s0 = np.mean(df['S0'])\n",
        "mean_s1 = np.mean(df['S1'])\n",
        "mean_data = {'Sample': ['S0', 'S1'],\n",
        "             'Mean Value': [mean_s0, mean_s1]}\n",
        "df_mean = pd.Series([mean_s0, mean_s1], name='Mean Value', index=['S0', 'S1'])\n",
        "\n",
        "print(df_mean)"
      ]
    },
    {
      "cell_type": "code",
      "execution_count": 8,
      "id": "f2ed8727-6970-465c-9625-5d90e752db36",
      "metadata": {
        "deletable": false,
        "editable": false,
        "nbgrader": {
          "cell_type": "code",
          "checksum": "db37d92f87cc3d09a9a1fb5393dbad73",
          "grade": true,
          "grade_id": "df_mean_test",
          "locked": true,
          "points": 0.5,
          "schema_version": 3,
          "solution": false,
          "task": false
        },
        "tags": [],
        "id": "f2ed8727-6970-465c-9625-5d90e752db36"
      },
      "outputs": [],
      "source": [
        "# run tests to check your implementation\n",
        "assert type(df_mean) == pd.Series, \"Ensure that df_mean is a pandas.Series and not a numpy.array or pandas.DataFrame\"\n",
        "assert df_mean[\"S0\"] == 6.6 and df_mean[\"S1\"] == 9.675, \"Check your mean calculation\""
      ]
    },
    {
      "cell_type": "markdown",
      "id": "52fe3c10-0865-469c-aad5-84a16c8d1218",
      "metadata": {
        "id": "52fe3c10-0865-469c-aad5-84a16c8d1218"
      },
      "source": [
        "##### 1.4 Index the row which corresponds to the name Ava and save the result in ``df_ava``:"
      ]
    },
    {
      "cell_type": "code",
      "execution_count": 9,
      "id": "32144850-5ea6-4eb5-8eb8-7194ebd0b445",
      "metadata": {
        "deletable": false,
        "nbgrader": {
          "cell_type": "code",
          "checksum": "2ae407732c3c9e82bbc92bfe2cca82c7",
          "grade": false,
          "grade_id": "df_ava",
          "locked": false,
          "schema_version": 3,
          "solution": true,
          "task": false
        },
        "tags": [],
        "id": "32144850-5ea6-4eb5-8eb8-7194ebd0b445",
        "colab": {
          "base_uri": "https://localhost:8080/"
        },
        "outputId": "cabca53b-7c22-4d39-9667-1692574d6e36"
      },
      "outputs": [
        {
          "output_type": "stream",
          "name": "stdout",
          "text": [
            "name     Ava\n",
            "age       27\n",
            "S0       7.5\n",
            "S1      11.9\n",
            "Name: P2, dtype: object\n"
          ]
        }
      ],
      "source": [
        "df_ava = df.iloc[2]\n",
        "\n",
        "print(df_ava)"
      ]
    },
    {
      "cell_type": "code",
      "execution_count": 10,
      "id": "e3f68d7b-704a-4762-9c94-57c044021cdd",
      "metadata": {
        "deletable": false,
        "editable": false,
        "nbgrader": {
          "cell_type": "code",
          "checksum": "4b73a03fd56373981360826e7dd5506e",
          "grade": true,
          "grade_id": "df_ava_test",
          "locked": true,
          "points": 0.5,
          "schema_version": 3,
          "solution": false,
          "task": false
        },
        "tags": [],
        "id": "e3f68d7b-704a-4762-9c94-57c044021cdd"
      },
      "outputs": [],
      "source": [
        "# run tests to check your implementation\n",
        "assert df_ava.shape == (4,), \"Check that you indexed the whole row of Ava\"\n",
        "assert df_ava[\"name\"] == \"Ava\", \"Check that you indexed the correct row\""
      ]
    },
    {
      "cell_type": "markdown",
      "id": "bf14d550-c641-4c3a-8dea-bc68ee84ab04",
      "metadata": {
        "id": "bf14d550-c641-4c3a-8dea-bc68ee84ab04"
      },
      "source": [
        "##### 1.5 Create a ``pandas.DataFrame`` called ``df_diabetic`` which contains only the patients where the OGT Test indicates that they have diabetes:\n",
        "**Hint**: Check the task description again for the correct levels."
      ]
    },
    {
      "cell_type": "code",
      "execution_count": 11,
      "id": "d5351065-a8b2-4859-a101-d1c587637516",
      "metadata": {
        "deletable": false,
        "nbgrader": {
          "cell_type": "code",
          "checksum": "637f8c6860aad2d86817b0f31a5824cf",
          "grade": false,
          "grade_id": "df_diabetic",
          "locked": false,
          "schema_version": 3,
          "solution": true,
          "task": false
        },
        "tags": [],
        "id": "d5351065-a8b2-4859-a101-d1c587637516",
        "colab": {
          "base_uri": "https://localhost:8080/"
        },
        "outputId": "6e1b1ad3-68eb-480c-c421-194fc8269770"
      },
      "outputs": [
        {
          "output_type": "stream",
          "name": "stdout",
          "text": [
            "    name  age   S0    S1\n",
            "P1  John   21  7.2  11.5\n",
            "P2   Ava   27  7.5  11.9\n"
          ]
        }
      ],
      "source": [
        "df_diabetic = df[df['S0'] >=7]\n",
        "\n",
        "print(df_diabetic)"
      ]
    },
    {
      "cell_type": "code",
      "execution_count": 12,
      "id": "d7fc3b98-da52-4417-aa71-95c21c2d0480",
      "metadata": {
        "deletable": false,
        "editable": false,
        "nbgrader": {
          "cell_type": "code",
          "checksum": "da3c5b5c21cfa3ecd5c6bc30c9d1d9ac",
          "grade": true,
          "grade_id": "df_diabetic_test",
          "locked": true,
          "points": 0.5,
          "schema_version": 3,
          "solution": false,
          "task": false
        },
        "tags": [],
        "id": "d7fc3b98-da52-4417-aa71-95c21c2d0480"
      },
      "outputs": [],
      "source": [
        "# run test to check your implementation\n",
        "assert df_diabetic.shape == (2, 4) and list(df_diabetic.index) == [\"P1\", \"P2\"], \"Check that you used the right levels to determine diabetes\""
      ]
    },
    {
      "cell_type": "markdown",
      "id": "8b0b06ff-8425-4860-ab53-e7c8778ad160",
      "metadata": {
        "id": "8b0b06ff-8425-4860-ab53-e7c8778ad160"
      },
      "source": [
        "##### 1.6 Create a ``pandas.DataFrame`` called ``df_non_diabetic`` where you [drop](https://pandas.pydata.org/docs/reference/api/pandas.DataFrame.drop.html) all patients included in ``df_diabetic``:"
      ]
    },
    {
      "cell_type": "code",
      "execution_count": 13,
      "id": "67e57e87-e028-4696-9780-d06cfcf908ce",
      "metadata": {
        "deletable": false,
        "nbgrader": {
          "cell_type": "code",
          "checksum": "191d5cc4a33ffeb03fe8daddf1caf07c",
          "grade": false,
          "grade_id": "df_non_diabetic",
          "locked": false,
          "schema_version": 3,
          "solution": true,
          "task": false
        },
        "tags": [],
        "id": "67e57e87-e028-4696-9780-d06cfcf908ce",
        "colab": {
          "base_uri": "https://localhost:8080/"
        },
        "outputId": "d66eef70-7274-479f-b090-caff1aa2e363"
      },
      "outputs": [
        {
          "output_type": "stream",
          "name": "stdout",
          "text": [
            "     name  age   S0   S1\n",
            "P0   Jane   24  5.8  7.7\n",
            "P3  Scott   23  5.9  7.6\n"
          ]
        }
      ],
      "source": [
        "df_non_diabetic=df.drop(df_diabetic.index)\n",
        "print(df_non_diabetic)"
      ]
    },
    {
      "cell_type": "code",
      "execution_count": 14,
      "id": "17f97769-09f1-472e-bcff-d9e54fd14c0a",
      "metadata": {
        "deletable": false,
        "editable": false,
        "nbgrader": {
          "cell_type": "code",
          "checksum": "d6b1ea189778ccd6eee4354931a7c2f0",
          "grade": true,
          "grade_id": "df_non_diabetic_test",
          "locked": true,
          "points": 0.5,
          "schema_version": 3,
          "solution": false,
          "task": false
        },
        "tags": [],
        "id": "17f97769-09f1-472e-bcff-d9e54fd14c0a"
      },
      "outputs": [],
      "source": [
        "# run test to check your implementation\n",
        "assert df_non_diabetic.shape == (2, 4) and list(df_non_diabetic.index) == [\"P0\", \"P3\"], \"Check if you removed the correct patients\""
      ]
    },
    {
      "cell_type": "markdown",
      "id": "bb8d3028-b1dc-43f4-8301-a51e699fcaa9",
      "metadata": {
        "id": "bb8d3028-b1dc-43f4-8301-a51e699fcaa9"
      },
      "source": [
        "##### 1.7 Add a column called ``diabetic`` to ``df`` that has ``True`` values if the patient is diabetic and ``False`` values if the patient is not:"
      ]
    },
    {
      "cell_type": "code",
      "execution_count": 15,
      "id": "d4e0b2aa-501b-4660-a9df-e59561d9cd7f",
      "metadata": {
        "deletable": false,
        "nbgrader": {
          "cell_type": "code",
          "checksum": "fb992a6ac5af0f214a39afdfef550c7b",
          "grade": false,
          "grade_id": "add_column",
          "locked": false,
          "schema_version": 3,
          "solution": true,
          "task": false
        },
        "tags": [],
        "id": "d4e0b2aa-501b-4660-a9df-e59561d9cd7f",
        "colab": {
          "base_uri": "https://localhost:8080/"
        },
        "outputId": "558b5b29-ff78-41b7-8ccd-632731c53bf0"
      },
      "outputs": [
        {
          "output_type": "stream",
          "name": "stdout",
          "text": [
            "     name  age   S0    S1  diabetic\n",
            "P0   Jane   24  5.8   7.7     False\n",
            "P1   John   21  7.2  11.5      True\n",
            "P2    Ava   27  7.5  11.9      True\n",
            "P3  Scott   23  5.9   7.6     False\n"
          ]
        }
      ],
      "source": [
        "diabetic_patients = df['S0'] >= 7\n",
        "df['diabetic'] = np.where(diabetic_patients, True, False)\n",
        "print(df)"
      ]
    },
    {
      "cell_type": "code",
      "execution_count": 16,
      "id": "fabb8f78-8cf0-423d-b86b-80f26fef8e6f",
      "metadata": {
        "deletable": false,
        "editable": false,
        "nbgrader": {
          "cell_type": "code",
          "checksum": "4852e41f5ee0bb87f2f029f4c34f2202",
          "grade": true,
          "grade_id": "add_column_test",
          "locked": true,
          "points": 0.5,
          "schema_version": 3,
          "solution": false,
          "task": false
        },
        "tags": [],
        "id": "fabb8f78-8cf0-423d-b86b-80f26fef8e6f"
      },
      "outputs": [],
      "source": [
        "# run tests to check your implementation\n",
        "assert df.shape == (4, 5), \"Check if you added the column correctly\"\n",
        "assert list(df.columns) == [\"name\", \"age\", \"S0\", \"S1\", \"diabetic\"], \"Check if you set the column name correctly\"\n",
        "assert list(df[\"diabetic\"]) == [False, True, True, False], \"Check that you determine diabetes correctly\""
      ]
    },
    {
      "cell_type": "markdown",
      "id": "152fe889-8d3d-4f15-8b9a-9712abc5bb1d",
      "metadata": {
        "id": "152fe889-8d3d-4f15-8b9a-9712abc5bb1d"
      },
      "source": [
        "#### 2. Acute Stress Reduction with Cold Face Test\n",
        "In this task, we analyze a dataset that was recorded during a study investigating the capability of the Cold Face Test (CFT) (cold mask applied to the face) to reduce acute stress. 28 participants underwent the following study protocol:\n",
        "* **Preparation Phase** (Phase 0)\n",
        "* **Study Phase** (Phase 1, 2, 3 - all the following subphases were repeated 3 times)\n",
        "    * *subphase 0*: Baseline\n",
        "    * *subphase 1*:\n",
        "        * Control Condition (14 participants): Resting Period\n",
        "        * Intervention Condition (14 participants): Cold Face Test\n",
        "    * *subphase 2*: Arithmetic Task\n",
        "    * *subphase 3*: Feedback\n",
        "* **Debriefing Phase** (Phase 4)\n",
        "\n",
        "During the **Study Phase** time series *Heart Rate* data were recorded as follows:\n",
        "* normalized to the baseline heart rate &rarr;  time-series heart rate data for the subphases 1-3\n",
        "* resampled to 1 Hz\n",
        "\n",
        "    \n",
        "In the following, we want to implement code to get an overview of the heart rates in different phases/subphases and summarize the data of all phases and participants in a long-format data frame.\n",
        "\n",
        "**Hint**: Check the test cases presented for every subtask to see how the functions' input parameters are structured."
      ]
    },
    {
      "cell_type": "code",
      "execution_count": 17,
      "id": "bb70c72e-1e11-43d2-95cd-86d11da06575",
      "metadata": {
        "id": "bb70c72e-1e11-43d2-95cd-86d11da06575",
        "colab": {
          "base_uri": "https://localhost:8080/",
          "height": 136,
          "referenced_widgets": [
            "6c84344da2354c1084b69489c02aa9e0",
            "10e3027b128940e48ac630a6b0de3e6e",
            "8cb8e3edaf5045cd9ac5f68cbbc8db43",
            "9a294344b8234c369f80f5ee60a82400",
            "ad8ca9eca2d546d0a6f1ff14a823825f",
            "9f5c71ec59e64cc7af1faf0f331404ee",
            "31a0730397424e208abc436e4cac4696",
            "10a73ec2e68c4ebd865acb4a6cd5264b",
            "362dc138664d4a75899c06e03ece9b6b",
            "008fbaf9294f4032bbd20773d56a8943",
            "db3991592cb54ce9af68c0791257393a",
            "c579a054819649f29be84c111cae1eb1",
            "0141d6ffc75b4bf89d380c479083611f",
            "54125fcb01d14dae83b22cd08f2e9c6e",
            "33df2e5fc59d4854887c7d9d3d46993b",
            "2da9edf464c04e45bc275c0951f5dc70",
            "9c0a9f8b77bf4f25a8d6f7168bed350a",
            "6f5d20ef964546968416ff18c5755207",
            "5f4485ae68794a8fa9cd2edf6919a9a9",
            "650075ac2baa4f0887e182cfdebfdaec",
            "3a01a58d087f429ba692cda247e10881",
            "a973dea2fa3b4e0a9aed2bf296cab2be"
          ]
        },
        "outputId": "a6792831-c333-442a-9736-05df92722710"
      },
      "outputs": [
        {
          "output_type": "stream",
          "name": "stdout",
          "text": [
            "Downloading file hr_ensemble_sample_normalized.xlsx from remote URL: https://raw.githubusercontent.com/mad-lab-fau/BioPsyKit/main/example_data/hr_ensemble_sample_normalized.xlsx.\n"
          ]
        },
        {
          "output_type": "display_data",
          "data": {
            "text/plain": [
              "hr_ensemble_sample_normalized.xlsx: 0.00B [00:00, ?B/s]"
            ],
            "application/vnd.jupyter.widget-view+json": {
              "version_major": 2,
              "version_minor": 0,
              "model_id": "6c84344da2354c1084b69489c02aa9e0"
            }
          },
          "metadata": {}
        },
        {
          "output_type": "stream",
          "name": "stdout",
          "text": [
            "Downloading file cortisol_sample.csv from remote URL: https://raw.githubusercontent.com/mad-lab-fau/BioPsyKit/main/example_data/cortisol_sample.csv.\n"
          ]
        },
        {
          "output_type": "display_data",
          "data": {
            "text/plain": [
              "cortisol_sample.csv: 0.00B [00:00, ?B/s]"
            ],
            "application/vnd.jupyter.widget-view+json": {
              "version_major": 2,
              "version_minor": 0,
              "model_id": "c579a054819649f29be84c111cae1eb1"
            }
          },
          "metadata": {}
        }
      ],
      "source": [
        "# run cell to load the data\n",
        "data_hr = bp.example_data.get_hr_ensemble_sample()\n",
        "data_saliva = bp.example_data.get_saliva_example()\n",
        "data_condition = data_saliva.reset_index()[[\"condition\", \"subject\"]].drop_duplicates().reset_index(drop=True).set_index(\"subject\")"
      ]
    },
    {
      "cell_type": "code",
      "execution_count": 18,
      "id": "541a3677-ca22-420e-bd69-b966b50c0a94",
      "metadata": {
        "id": "541a3677-ca22-420e-bd69-b966b50c0a94",
        "colab": {
          "base_uri": "https://localhost:8080/",
          "height": 407
        },
        "outputId": "1641d6ad-7af0-48d7-8e98-e378f576056d"
      },
      "outputs": [
        {
          "output_type": "display_data",
          "data": {
            "text/plain": [
              "<Figure size 600x400 with 1 Axes>"
            ],
            "image/png": "[encoded data removed]"
          },
          "metadata": {}
        }
      ],
      "source": [
        "# run cell to visualize the data\n",
        "fig, ax = plt.subplots(figsize=(6, 4))\n",
        "data_hr[\"Phase1\"].mean(axis=1).plot(ax=ax, label=\"Phase1\")\n",
        "data_hr[\"Phase2\"].mean(axis=1).plot(ax=ax, label=\"Phase2\")\n",
        "data_hr[\"Phase3\"].mean(axis=1).plot(ax=ax, label=\"Phase3\")\n",
        "ax.axvline(50, color='k')\n",
        "ax.axvline(290, color='k')\n",
        "ax.axvspan(0, 49, alpha=0.2, color='tab:blue', label=\"subphase1\")\n",
        "ax.axvspan(50, 289, alpha=0.2, color='tab:orange', label=\"subphase2\")\n",
        "ax.axvspan(290, 493, alpha=0.2, color='tab:green', label=\"subphase2\")\n",
        "ax.set_xlabel(\"time [s]\")\n",
        "ax.set_ylabel(\"heart rate normalized to baseline\")\n",
        "ax.legend()\n",
        "fig.tight_layout()"
      ]
    },
    {
      "cell_type": "markdown",
      "id": "f7bf6521-cab1-4551-ba12-7c2dda84d6b9",
      "metadata": {
        "id": "f7bf6521-cab1-4551-ba12-7c2dda84d6b9"
      },
      "source": [
        "##### 2.1 Since an error occurred in the heart rate recording for some participants, we need to drop their recordings from our data. Therefore, create a function called ``drop_cols`` which takes the parameters ``data`` and ``cols``:\n",
        "* ``data``: ``pandas.DataFrame`` containing the column-wise heart rate data from all the participants\n",
        "* ``cols``: list of participant names to be dropped\n",
        "* The function should return a ``pandas.DataFrame`` containing all the participants' data except for the ones mentioned in ``cols``"
      ]
    },
    {
      "cell_type": "code",
      "execution_count": 19,
      "id": "ad296aa4-2d5e-43f8-9d5c-79febe665f12",
      "metadata": {
        "deletable": false,
        "nbgrader": {
          "cell_type": "code",
          "checksum": "10a82372f203638f6627fc8a95b7a146",
          "grade": false,
          "grade_id": "drop_columns",
          "locked": false,
          "schema_version": 3,
          "solution": true,
          "task": false
        },
        "tags": [],
        "id": "ad296aa4-2d5e-43f8-9d5c-79febe665f12"
      },
      "outputs": [],
      "source": [
        "def drop_cols(data, cols):\n",
        "    return data.drop(cols, axis=1)"
      ]
    },
    {
      "cell_type": "code",
      "execution_count": 20,
      "id": "27935d37-5ea6-4cea-aefb-cc1cffc3334c",
      "metadata": {
        "deletable": false,
        "editable": false,
        "nbgrader": {
          "cell_type": "code",
          "checksum": "c6c280e167272312715d83c267e3bd55",
          "grade": true,
          "grade_id": "drop_columns_test",
          "locked": true,
          "points": 1,
          "schema_version": 3,
          "solution": false,
          "task": false
        },
        "tags": [],
        "id": "27935d37-5ea6-4cea-aefb-cc1cffc3334c"
      },
      "outputs": [],
      "source": [
        "# run tests to check your implementation\n",
        "data_test = pd.DataFrame([[1, 2, 3], [4, 5, 6]], columns=[\"A\", \"B\", \"C\"])\n",
        "assert drop_cols(data_test, [\"A\"]).shape == (2, 2), \"Check that you removed the in cols specified column\"\n",
        "assert list(drop_cols(data_test, [\"A\"]).columns) == [\"B\", \"C\"], \"Check that you removed the in cols specified columns\"\n",
        "assert list(drop_cols(data_test, [\"A\", \"C\"]).columns) == [\"B\"], \"Check that you can remove also multiple columns at the same time\""
      ]
    },
    {
      "cell_type": "markdown",
      "id": "02d80dec-6860-401a-a0a8-c23237f203ab",
      "metadata": {
        "id": "02d80dec-6860-401a-a0a8-c23237f203ab"
      },
      "source": [
        "##### 2.2 Create a function ``calc_mean`` which takes the parameter ``data`` and calculates the column-wise mean:\n",
        "* ``data``: column-wise heart rate data for all participants\n",
        "* The function should return a ``pandas.DataFrame`` with the column-wise mean of ``data`` retaining its column names and with \"heart_rate\" as the index\n",
        "\n",
        "**Hint**: Check out if the [pandas.DataFrame.agg](https://pandas.pydata.org/docs/reference/api/pandas.DataFrame.agg.html) function can help you to solve this task. Give the parameter \"func\" of pandas.DataFrame.agg as type list for easier usage afterwards."
      ]
    },
    {
      "cell_type": "code",
      "execution_count": 21,
      "id": "711d5513-3acc-4894-905b-b847e0e3d6db",
      "metadata": {
        "deletable": false,
        "nbgrader": {
          "cell_type": "code",
          "checksum": "8500a5a0ba70f6e617633547caeb1eb3",
          "grade": false,
          "grade_id": "calc_mean",
          "locked": false,
          "schema_version": 3,
          "solution": true,
          "task": false
        },
        "tags": [],
        "id": "711d5513-3acc-4894-905b-b847e0e3d6db"
      },
      "outputs": [],
      "source": [
        "def calc_mean(data):\n",
        "    return pd.DataFrame(data.agg(['mean']).values, index=['heart_rate'], columns=data.columns)\n"
      ]
    },
    {
      "cell_type": "code",
      "execution_count": 22,
      "id": "985ca8b2-fedb-4e1c-ad44-1a60a2e5b9f0",
      "metadata": {
        "deletable": false,
        "editable": false,
        "nbgrader": {
          "cell_type": "code",
          "checksum": "84cff4498cc5539b864467d4f3a8e9c3",
          "grade": true,
          "grade_id": "calc_mean_test",
          "locked": true,
          "points": 1,
          "schema_version": 3,
          "solution": false,
          "task": false
        },
        "tags": [],
        "id": "985ca8b2-fedb-4e1c-ad44-1a60a2e5b9f0"
      },
      "outputs": [],
      "source": [
        "# run tests to check your implementation\n",
        "data_test = pd.DataFrame([[1, 2, 3], [4, 5, 6]], columns=[\"A\", \"B\", \"C\"])\n",
        "result = calc_mean(data_test)\n",
        "assert type(result) == pd.DataFrame, \"Check if the return value of calc_mean() is of type pd.DataFrame. You can for example replace mean with [mean] in pd.DataFrame.agg to achieve this.\"\n",
        "assert list(result.index) == [\"heart_rate\"] and list(result.columns) == [\"A\", \"B\", \"C\"], \"Check that you maintain the original structure and set the index correctly\"\n",
        "assert list(result.loc[\"heart_rate\"]) == [2.5, 3.5, 4.5], \"Check that you calculate the mean column-wise\""
      ]
    },
    {
      "cell_type": "markdown",
      "id": "b18ce165-443b-4455-b7bb-e31737031794",
      "metadata": {
        "id": "b18ce165-443b-4455-b7bb-e31737031794"
      },
      "source": [
        "##### 2.3 Create a function ``create_multi_index`` with the parameters ``participants``, ``condition``, ``phase``, and ``subphase``, which generates the multi-index for the long-format dataframe:\n",
        "* ``participants``: list of the participants included in the dataset\n",
        "* ``condition``: list of the conditions the ``participants`` belong to (Intervention/Control)\n",
        "* ``phase``: string of the name of the phase\n",
        "* ``subphase``: string of the name of the subphase\n",
        "* The function should return a ``pandas.MultiIndex``object with a multi-index tuple for every participant\n",
        "    * every tuple should contain the information about the participant's name, condition, phase, and subphase\n",
        "    * name the levels of the multi-index: participant, condition, phase, subphase\n",
        "\n",
        "**Hint**: Check out if the [pandas.MultiIndex.from_arrays](https://pandas.pydata.org/docs/reference/api/pandas.MultiIndex.from_arrays.html) function can help you with this task."
      ]
    },
    {
      "cell_type": "code",
      "execution_count": 25,
      "id": "ca981b96-a7cb-4cfb-ac5e-61aad1d28318",
      "metadata": {
        "deletable": false,
        "nbgrader": {
          "cell_type": "code",
          "checksum": "b42d326488fc432045200b7cd91f45d4",
          "grade": false,
          "grade_id": "create_multi_index",
          "locked": false,
          "schema_version": 3,
          "solution": true,
          "task": false
        },
        "tags": [],
        "id": "ca981b96-a7cb-4cfb-ac5e-61aad1d28318"
      },
      "outputs": [],
      "source": [
        "def create_multi_index(participants, condition, phase, subphase):\n",
        "    levels = [participants, condition, [phase]*len(participants), [subphase]*len(participants)]\n",
        "    return pd.MultiIndex.from_arrays(levels, names=['participant', 'condition', 'phase', 'subphase'])\n"
      ]
    },
    {
      "cell_type": "code",
      "execution_count": 26,
      "id": "40349783-52a3-4285-9054-cb6739893650",
      "metadata": {
        "deletable": false,
        "editable": false,
        "nbgrader": {
          "cell_type": "code",
          "checksum": "09799e3b69c4ee884036d9c14967a0ea",
          "grade": true,
          "grade_id": "create_multi_index_test",
          "locked": true,
          "points": 2,
          "schema_version": 3,
          "solution": false,
          "task": false
        },
        "tags": [],
        "id": "40349783-52a3-4285-9054-cb6739893650"
      },
      "outputs": [],
      "source": [
        "# run tests to check your implementation\n",
        "result = create_multi_index([\"Vp01\", \"Vp02\", \"Vp03\"], [\"Intervention\", \"Control\", \"Control\"], \"Phase1\", \"Subphase1\")\n",
        "assert type(result) == pd.MultiIndex, \"Ensure that you return an instance of type pandas.MultiIndex\"\n",
        "assert result.names == [\"participant\", \"condition\", \"phase\", \"subphase\"], \"Ensure that you set the level names correctly\"\n",
        "assert result[0] == (\"Vp01\", \"Intervention\", \"Phase1\", \"Subphase1\"), \"Ensure that all information are contained and in the right order\"\n",
        "assert result[1] == (\"Vp02\", \"Control\", \"Phase1\", \"Subphase1\"), \"Ensure that all information are contained and in the right order\""
      ]
    },
    {
      "cell_type": "markdown",
      "id": "74bd1888-b464-477f-9dfe-eaaff61468d2",
      "metadata": {
        "id": "74bd1888-b464-477f-9dfe-eaaff61468d2"
      },
      "source": [
        "##### 2.4 In this task, we put all the functions created together and generate a long-format data frame containing the mean heart rate of every participant in every phase/subphase. To do so:\n",
        "* Create an empty ``pandas.DataFrame`` called ``data_all``, which in the end should contain the data from all phases and subphases\n",
        "* Loop over all the phases (1, 2, 3)\n",
        "    * Create a ``pandas.DataFrame`` called ``data`` which contains only the heart rate data of one phase of ``data_hr`` (Check out how ``data_hr`` is built)\n",
        "    * Remove the participants specified in ``drop_participants`` from ``data`` using ``drop_cols()``\n",
        "    * Loop over all the subphases (1, 2, 3)\n",
        "        * Slice ``data`` into the current subphase using the respective start and stop values specified in ``subphases`` and store it in the variable ``data_sub``\n",
        "        * calculate the mean heart rate of ``data_sub`` for every participant individually using ``calc_mean()`` and store it in ``data_mean``\n",
        "        * Generate the multi-index ``index`` using ``create_multi_index()``. Access the conditions of all participants from ``data_condition`` (defined in the beginning of the task).\n",
        "        * Set the column index of ``data_mean`` to ``index``\n",
        "        * [Transpose](https://pandas.pydata.org/docs/reference/api/pandas.DataFrame.transpose.html) ``data_mean`` and concatenate ``data_mean`` to ``data_all``\n",
        "* After calculating the mean for every phase and subphase, use [pandas.DataFrame.sort_index](https://pandas.pydata.org/docs/reference/api/pandas.DataFrame.sort_index.html) to sort ``data_all``\n",
        "* Display ``data_all``"
      ]
    },
    {
      "cell_type": "code",
      "execution_count": 45,
      "id": "0f0c7727-16df-4233-bab9-0833398caea7",
      "metadata": {
        "deletable": false,
        "nbgrader": {
          "cell_type": "code",
          "checksum": "5116cd4b5f4528a077083d3d2d1a2332",
          "grade": false,
          "grade_id": "wide_to_long",
          "locked": false,
          "schema_version": 3,
          "solution": true,
          "task": false
        },
        "tags": [],
        "id": "0f0c7727-16df-4233-bab9-0833398caea7"
      },
      "outputs": [],
      "source": [
        "subphases = {\n",
        "    \"Subphase1\": {\"start\": 0, \"stop\": 49},\n",
        "    \"Subphase2\": {\"start\": 50, \"stop\": 289},\n",
        "    \"Subphase3\": {\"start\": 290, \"stop\": -1}\n",
        "}\n",
        "drop_participants = [\"Vp07\", \"Vp22\"]\n",
        "\n",
        "\n",
        "# Create an empty DataFrame to store the data from all phases/subphases\n",
        "data_all = pd.DataFrame()\n",
        "\n",
        "\n"
      ]
    },
    {
      "cell_type": "code",
      "execution_count": 46,
      "id": "c9382c8a-f1ee-4f29-88a6-60a4fa5e92ca",
      "metadata": {
        "deletable": false,
        "editable": false,
        "nbgrader": {
          "cell_type": "code",
          "checksum": "26634e62d088b1739da4d223dbc288d8",
          "grade": true,
          "grade_id": "wide_to_long_test",
          "locked": true,
          "points": 3,
          "schema_version": 3,
          "solution": false,
          "task": false
        },
        "tags": [],
        "id": "c9382c8a-f1ee-4f29-88a6-60a4fa5e92ca",
        "colab": {
          "base_uri": "https://localhost:8080/",
          "height": 252
        },
        "outputId": "7452d3db-5c91-48ed-8f79-193312bb23ee"
      },
      "outputs": [
        {
          "output_type": "error",
          "ename": "AssertionError",
          "evalue": "ignored",
          "traceback": [
            "\u001b[0;31m---------------------------------------------------------------------------\u001b[0m",
            "\u001b[0;31mAssertionError\u001b[0m                            Traceback (most recent call last)",
            "\u001b[0;32m<ipython-input-46-e93fa767507c>\u001b[0m in \u001b[0;36m<cell line: 2>\u001b[0;34m()\u001b[0m\n\u001b[1;32m      1\u001b[0m \u001b[0;31m# run tests to check your implementation\u001b[0m\u001b[0;34m\u001b[0m\u001b[0;34m\u001b[0m\u001b[0m\n\u001b[0;32m----> 2\u001b[0;31m \u001b[0;32massert\u001b[0m \u001b[0mdata_all\u001b[0m\u001b[0;34m.\u001b[0m\u001b[0mindex\u001b[0m\u001b[0;34m.\u001b[0m\u001b[0mnames\u001b[0m \u001b[0;34m==\u001b[0m \u001b[0;34m[\u001b[0m\u001b[0;34m\"participant\"\u001b[0m\u001b[0;34m,\u001b[0m \u001b[0;34m\"condition\"\u001b[0m\u001b[0;34m,\u001b[0m \u001b[0;34m\"phase\"\u001b[0m\u001b[0;34m,\u001b[0m \u001b[0;34m\"subphase\"\u001b[0m\u001b[0;34m]\u001b[0m \u001b[0;32mand\u001b[0m \u001b[0mlist\u001b[0m\u001b[0;34m(\u001b[0m\u001b[0mdata_all\u001b[0m\u001b[0;34m.\u001b[0m\u001b[0mcolumns\u001b[0m\u001b[0;34m)\u001b[0m \u001b[0;34m==\u001b[0m \u001b[0;34m[\u001b[0m\u001b[0;34m\"heart_rate\"\u001b[0m\u001b[0;34m]\u001b[0m\u001b[0;34m,\u001b[0m \u001b[0;34m\"Ensure that you used create_multi_index()\"\u001b[0m\u001b[0;34m\u001b[0m\u001b[0;34m\u001b[0m\u001b[0m\n\u001b[0m\u001b[1;32m      3\u001b[0m \u001b[0;32massert\u001b[0m \u001b[0mdata_all\u001b[0m\u001b[0;34m.\u001b[0m\u001b[0mindex\u001b[0m\u001b[0;34m[\u001b[0m\u001b[0;36m3\u001b[0m\u001b[0;34m]\u001b[0m \u001b[0;34m==\u001b[0m \u001b[0;34m(\u001b[0m\u001b[0;34m\"Vp01\"\u001b[0m\u001b[0;34m,\u001b[0m \u001b[0;34m\"Intervention\"\u001b[0m\u001b[0;34m,\u001b[0m \u001b[0;34m\"Phase2\"\u001b[0m\u001b[0;34m,\u001b[0m \u001b[0;34m\"Subphase1\"\u001b[0m\u001b[0;34m)\u001b[0m\u001b[0;34m,\u001b[0m \u001b[0;34m\"Ensure that you sort the dataframe\"\u001b[0m\u001b[0;34m\u001b[0m\u001b[0;34m\u001b[0m\u001b[0m\n\u001b[1;32m      4\u001b[0m \u001b[0;32massert\u001b[0m \u001b[0mlen\u001b[0m\u001b[0;34m(\u001b[0m\u001b[0mset\u001b[0m\u001b[0;34m(\u001b[0m\u001b[0mlist\u001b[0m\u001b[0;34m(\u001b[0m\u001b[0mdata_all\u001b[0m\u001b[0;34m.\u001b[0m\u001b[0mindex\u001b[0m\u001b[0;34m.\u001b[0m\u001b[0mget_level_values\u001b[0m\u001b[0;34m(\u001b[0m\u001b[0;36m0\u001b[0m\u001b[0;34m)\u001b[0m\u001b[0;34m)\u001b[0m\u001b[0;34m)\u001b[0m\u001b[0;34m)\u001b[0m \u001b[0;34m==\u001b[0m \u001b[0;36m26\u001b[0m\u001b[0;34m,\u001b[0m \u001b[0;34m\"Ensure that you remove the specified 2 participants\"\u001b[0m\u001b[0;34m\u001b[0m\u001b[0;34m\u001b[0m\u001b[0m\n\u001b[1;32m      5\u001b[0m \u001b[0;32massert\u001b[0m \u001b[0mset\u001b[0m\u001b[0;34m(\u001b[0m\u001b[0mlist\u001b[0m\u001b[0;34m(\u001b[0m\u001b[0mdata_all\u001b[0m\u001b[0;34m.\u001b[0m\u001b[0mindex\u001b[0m\u001b[0;34m.\u001b[0m\u001b[0mget_level_values\u001b[0m\u001b[0;34m(\u001b[0m\u001b[0;36m2\u001b[0m\u001b[0;34m)\u001b[0m\u001b[0;34m)\u001b[0m\u001b[0;34m)\u001b[0m \u001b[0;34m==\u001b[0m \u001b[0;34m{\u001b[0m\u001b[0;34m\"Phase1\"\u001b[0m\u001b[0;34m,\u001b[0m \u001b[0;34m\"Phase2\"\u001b[0m\u001b[0;34m,\u001b[0m \u001b[0;34m\"Phase3\"\u001b[0m\u001b[0;34m}\u001b[0m\u001b[0;34m,\u001b[0m \u001b[0;34m\"Ensure that you concatenate the data for all phases\"\u001b[0m\u001b[0;34m\u001b[0m\u001b[0;34m\u001b[0m\u001b[0m\n",
            "\u001b[0;31mAssertionError\u001b[0m: Ensure that you used create_multi_index()"
          ]
        }
      ],
      "source": [
        "# run tests to check your implementation\n",
        "assert data_all.index.names == [\"participant\", \"condition\", \"phase\", \"subphase\"] and list(data_all.columns) == [\"heart_rate\"], \"Ensure that you used create_multi_index()\"\n",
        "assert data_all.index[3] == (\"Vp01\", \"Intervention\", \"Phase2\", \"Subphase1\"), \"Ensure that you sort the dataframe\"\n",
        "assert len(set(list(data_all.index.get_level_values(0)))) == 26, \"Ensure that you remove the specified 2 participants\"\n",
        "assert set(list(data_all.index.get_level_values(2))) == {\"Phase1\", \"Phase2\", \"Phase3\"}, \"Ensure that you concatenate the data for all phases\"\n",
        "assert set(list(data_all.index.get_level_values(3))) == {\"Subphase1\", \"Subphase2\", \"Subphase3\"}, \"Ensure that you concatenate the data for all subphases\"\n",
        "assert data_all.shape == (234, 1), \"Ensure that store the data for all selected participants, phases, subphases\""
      ]
    },
    {
      "cell_type": "markdown",
      "id": "1656cb7e-d5e1-4368-9241-e062153cdfd8",
      "metadata": {
        "id": "1656cb7e-d5e1-4368-9241-e062153cdfd8"
      },
      "source": [
        "##### 2.5 Create a function called ``calc_mean_grouped`` with the parameters ``data`` and ``levels``, which calculates the mean of ``data`` for the different groups specified by ``levels``:\n",
        "* ``data``: long-format data frame containing the heart rates for every participant in every phase and subphase\n",
        "* ``levels``: list of index level names indicating how to group the data\n",
        "* The function should return a ``pandas.DataFrame`` with all the grouped means\n",
        "\n",
        "Example: In the case of ``data`` being ``data_all`` and ``levels`` being ``[\"phase\", \"subphase\"]``, ``calc_mean_grouped()`` should return the mean over all participants for every phase - subphase combination, i. e. for Phase1 - Subphase1, Phase1 - Subphase 2, ... resulting in 9 different values.\n",
        "\n",
        "**Hint**: Check out if the [pandas.DataFrame.groupby](https://pandas.pydata.org/docs/reference/api/pandas.DataFrame.groupby.html) function can help you with this task."
      ]
    },
    {
      "cell_type": "code",
      "execution_count": 47,
      "id": "55879376-2afd-4eb8-ab4c-d9711b196c94",
      "metadata": {
        "deletable": false,
        "nbgrader": {
          "cell_type": "code",
          "checksum": "0a09c561bd0ea7756c061d4945d404e8",
          "grade": false,
          "grade_id": "mean_grouped",
          "locked": false,
          "schema_version": 3,
          "solution": true,
          "task": false
        },
        "tags": [],
        "id": "55879376-2afd-4eb8-ab4c-d9711b196c94"
      },
      "outputs": [],
      "source": [
        "def calc_mean_grouped(data, levels):\n",
        "    return data.groupby(levels).mean()\n",
        ""
      ]
    },
    {
      "cell_type": "code",
      "execution_count": 48,
      "id": "fdb71741-d20f-493d-8b97-0f14956bdb89",
      "metadata": {
        "deletable": false,
        "editable": false,
        "nbgrader": {
          "cell_type": "code",
          "checksum": "96fb664813aa4540debe0060278175a0",
          "grade": true,
          "grade_id": "mean_grouped_test",
          "locked": true,
          "points": 1,
          "schema_version": 3,
          "solution": false,
          "task": false
        },
        "tags": [],
        "id": "fdb71741-d20f-493d-8b97-0f14956bdb89"
      },
      "outputs": [],
      "source": [
        "# run tests to check your implementation\n",
        "data_test = pd.DataFrame(np.array([1, 2, 3, 4, 5, 6, 7, 8]).T)\n",
        "data_test.index = pd.MultiIndex.from_product([[\"V1\", \"V2\"], [\"p1\", \"p2\"], [\"sp1\", \"sp2\"]], names=[\"V\", \"P\", \"SP\"])\n",
        "result = calc_mean_grouped(data_test, [\"P\"])\n",
        "assert list(result.index) == [\"p1\", \"p2\"], \"Ensure that your grouping works correctly\"\n",
        "assert list(result[0]) == [3.5, 5.5], \"Ensure that you take the mean correctly\"\n",
        "result = calc_mean_grouped(data_test, [\"P\", \"SP\"])\n",
        "assert list(result.index) == [(\"p1\", \"sp1\"), (\"p1\", \"sp2\"), (\"p2\", \"sp1\"), (\"p2\", \"sp2\")], \"Ensure that your grouping works correctly\"\n",
        "assert list(result[0]) == [3.0, 4.0, 5.0, 6.0], \"Ensure that you take the mean correctly\""
      ]
    },
    {
      "cell_type": "code",
      "execution_count": 49,
      "id": "aacf528b-490f-4e71-a19a-98743239d83a",
      "metadata": {
        "id": "aacf528b-490f-4e71-a19a-98743239d83a",
        "colab": {
          "base_uri": "https://localhost:8080/",
          "height": 660
        },
        "outputId": "c4b1cac8-cb97-443a-ab1b-7d37c1e38490"
      },
      "outputs": [
        {
          "output_type": "error",
          "ename": "KeyError",
          "evalue": "ignored",
          "traceback": [
            "\u001b[0;31m---------------------------------------------------------------------------\u001b[0m",
            "\u001b[0;31mKeyError\u001b[0m                                  Traceback (most recent call last)",
            "\u001b[0;32m<ipython-input-49-12a92e6fe410>\u001b[0m in \u001b[0;36m<cell line: 4>\u001b[0;34m()\u001b[0m\n\u001b[1;32m      2\u001b[0m \u001b[0mfig\u001b[0m\u001b[0;34m,\u001b[0m \u001b[0maxs\u001b[0m \u001b[0;34m=\u001b[0m \u001b[0mplt\u001b[0m\u001b[0;34m.\u001b[0m\u001b[0msubplots\u001b[0m\u001b[0;34m(\u001b[0m\u001b[0mncols\u001b[0m\u001b[0;34m=\u001b[0m\u001b[0;36m2\u001b[0m\u001b[0;34m,\u001b[0m \u001b[0mfigsize\u001b[0m\u001b[0;34m=\u001b[0m\u001b[0;34m(\u001b[0m\u001b[0;36m8\u001b[0m\u001b[0;34m,\u001b[0m \u001b[0;36m3\u001b[0m\u001b[0;34m)\u001b[0m\u001b[0;34m,\u001b[0m \u001b[0msharey\u001b[0m\u001b[0;34m=\u001b[0m\u001b[0;32mTrue\u001b[0m\u001b[0;34m)\u001b[0m\u001b[0;34m\u001b[0m\u001b[0;34m\u001b[0m\u001b[0m\n\u001b[1;32m      3\u001b[0m \u001b[0mlabels\u001b[0m \u001b[0;34m=\u001b[0m \u001b[0;34m[\u001b[0m\u001b[0;34m'-'\u001b[0m\u001b[0;34m.\u001b[0m\u001b[0mjoin\u001b[0m\u001b[0;34m(\u001b[0m\u001b[0mmap\u001b[0m\u001b[0;34m(\u001b[0m\u001b[0mstr\u001b[0m\u001b[0;34m,\u001b[0m\u001b[0mx\u001b[0m\u001b[0;34m)\u001b[0m\u001b[0;34m)\u001b[0m \u001b[0;32mfor\u001b[0m \u001b[0mx\u001b[0m \u001b[0;32min\u001b[0m \u001b[0mproduct\u001b[0m\u001b[0;34m(\u001b[0m\u001b[0;34m[\u001b[0m\u001b[0;34m\"P1\"\u001b[0m\u001b[0;34m,\u001b[0m \u001b[0;34m\"P2\"\u001b[0m\u001b[0;34m,\u001b[0m \u001b[0;34m\"P3\"\u001b[0m\u001b[0;34m]\u001b[0m\u001b[0;34m,\u001b[0m \u001b[0;34m[\u001b[0m\u001b[0;34m\"SP1\"\u001b[0m\u001b[0;34m,\u001b[0m \u001b[0;34m\"SP2\"\u001b[0m\u001b[0;34m,\u001b[0m \u001b[0;34m\"SP3\"\u001b[0m\u001b[0;34m]\u001b[0m\u001b[0;34m)\u001b[0m\u001b[0;34m]\u001b[0m\u001b[0;34m\u001b[0m\u001b[0;34m\u001b[0m\u001b[0m\n\u001b[0;32m----> 4\u001b[0;31m \u001b[0mdata_mean\u001b[0m \u001b[0;34m=\u001b[0m \u001b[0mcalc_mean_grouped\u001b[0m\u001b[0;34m(\u001b[0m\u001b[0mdata_all\u001b[0m\u001b[0;34m,\u001b[0m \u001b[0;34m[\u001b[0m\u001b[0;34m\"phase\"\u001b[0m\u001b[0;34m,\u001b[0m \u001b[0;34m\"subphase\"\u001b[0m\u001b[0;34m]\u001b[0m\u001b[0;34m)\u001b[0m\u001b[0;34m\u001b[0m\u001b[0;34m\u001b[0m\u001b[0m\n\u001b[0m\u001b[1;32m      5\u001b[0m \u001b[0maxs\u001b[0m\u001b[0;34m[\u001b[0m\u001b[0;36m0\u001b[0m\u001b[0;34m]\u001b[0m\u001b[0;34m.\u001b[0m\u001b[0mplot\u001b[0m\u001b[0;34m(\u001b[0m\u001b[0mdata_mean\u001b[0m\u001b[0;34m.\u001b[0m\u001b[0mto_numpy\u001b[0m\u001b[0;34m(\u001b[0m\u001b[0;34m)\u001b[0m\u001b[0;34m,\u001b[0m \u001b[0mlabel\u001b[0m\u001b[0;34m=\u001b[0m\u001b[0;34m\"both conditions\"\u001b[0m\u001b[0;34m,\u001b[0m \u001b[0mmarker\u001b[0m\u001b[0;34m=\u001b[0m\u001b[0;34m'o'\u001b[0m\u001b[0;34m)\u001b[0m\u001b[0;34m\u001b[0m\u001b[0;34m\u001b[0m\u001b[0m\n\u001b[1;32m      6\u001b[0m \u001b[0maxs\u001b[0m\u001b[0;34m[\u001b[0m\u001b[0;36m0\u001b[0m\u001b[0;34m]\u001b[0m\u001b[0;34m.\u001b[0m\u001b[0mlegend\u001b[0m\u001b[0;34m(\u001b[0m\u001b[0;34m)\u001b[0m\u001b[0;34m\u001b[0m\u001b[0;34m\u001b[0m\u001b[0m\n",
            "\u001b[0;32m<ipython-input-47-b470c5ca727c>\u001b[0m in \u001b[0;36mcalc_mean_grouped\u001b[0;34m(data, levels)\u001b[0m\n\u001b[1;32m      1\u001b[0m \u001b[0;32mdef\u001b[0m \u001b[0mcalc_mean_grouped\u001b[0m\u001b[0;34m(\u001b[0m\u001b[0mdata\u001b[0m\u001b[0;34m,\u001b[0m \u001b[0mlevels\u001b[0m\u001b[0;34m)\u001b[0m\u001b[0;34m:\u001b[0m\u001b[0;34m\u001b[0m\u001b[0;34m\u001b[0m\u001b[0m\n\u001b[0;32m----> 2\u001b[0;31m     \u001b[0;32mreturn\u001b[0m \u001b[0mdata\u001b[0m\u001b[0;34m.\u001b[0m\u001b[0mgroupby\u001b[0m\u001b[0;34m(\u001b[0m\u001b[0mlevels\u001b[0m\u001b[0;34m)\u001b[0m\u001b[0;34m.\u001b[0m\u001b[0mmean\u001b[0m\u001b[0;34m(\u001b[0m\u001b[0;34m)\u001b[0m\u001b[0;34m\u001b[0m\u001b[0;34m\u001b[0m\u001b[0m\n\u001b[0m\u001b[1;32m      3\u001b[0m \u001b[0;34m\u001b[0m\u001b[0m\n",
            "\u001b[0;32m/usr/local/lib/python3.10/dist-packages/pandas/core/frame.py\u001b[0m in \u001b[0;36mgroupby\u001b[0;34m(self, by, axis, level, as_index, sort, group_keys, squeeze, observed, dropna)\u001b[0m\n\u001b[1;32m   8400\u001b[0m         \u001b[0maxis\u001b[0m \u001b[0;34m=\u001b[0m \u001b[0mself\u001b[0m\u001b[0;34m.\u001b[0m\u001b[0m_get_axis_number\u001b[0m\u001b[0;34m(\u001b[0m\u001b[0maxis\u001b[0m\u001b[0;34m)\u001b[0m\u001b[0;34m\u001b[0m\u001b[0;34m\u001b[0m\u001b[0m\n\u001b[1;32m   8401\u001b[0m \u001b[0;34m\u001b[0m\u001b[0m\n\u001b[0;32m-> 8402\u001b[0;31m         return DataFrameGroupBy(\n\u001b[0m\u001b[1;32m   8403\u001b[0m             \u001b[0mobj\u001b[0m\u001b[0;34m=\u001b[0m\u001b[0mself\u001b[0m\u001b[0;34m,\u001b[0m\u001b[0;34m\u001b[0m\u001b[0;34m\u001b[0m\u001b[0m\n\u001b[1;32m   8404\u001b[0m             \u001b[0mkeys\u001b[0m\u001b[0;34m=\u001b[0m\u001b[0mby\u001b[0m\u001b[0;34m,\u001b[0m\u001b[0;34m\u001b[0m\u001b[0;34m\u001b[0m\u001b[0m\n",
            "\u001b[0;32m/usr/local/lib/python3.10/dist-packages/pandas/core/groupby/groupby.py\u001b[0m in \u001b[0;36m__init__\u001b[0;34m(self, obj, keys, axis, level, grouper, exclusions, selection, as_index, sort, group_keys, squeeze, observed, mutated, dropna)\u001b[0m\n\u001b[1;32m    963\u001b[0m             \u001b[0;32mfrom\u001b[0m \u001b[0mpandas\u001b[0m\u001b[0;34m.\u001b[0m\u001b[0mcore\u001b[0m\u001b[0;34m.\u001b[0m\u001b[0mgroupby\u001b[0m\u001b[0;34m.\u001b[0m\u001b[0mgrouper\u001b[0m \u001b[0;32mimport\u001b[0m \u001b[0mget_grouper\u001b[0m\u001b[0;34m\u001b[0m\u001b[0;34m\u001b[0m\u001b[0m\n\u001b[1;32m    964\u001b[0m \u001b[0;34m\u001b[0m\u001b[0m\n\u001b[0;32m--> 965\u001b[0;31m             grouper, exclusions, obj = get_grouper(\n\u001b[0m\u001b[1;32m    966\u001b[0m                 \u001b[0mobj\u001b[0m\u001b[0;34m,\u001b[0m\u001b[0;34m\u001b[0m\u001b[0;34m\u001b[0m\u001b[0m\n\u001b[1;32m    967\u001b[0m                 \u001b[0mkeys\u001b[0m\u001b[0;34m,\u001b[0m\u001b[0;34m\u001b[0m\u001b[0;34m\u001b[0m\u001b[0m\n",
            "\u001b[0;32m/usr/local/lib/python3.10/dist-packages/pandas/core/groupby/grouper.py\u001b[0m in \u001b[0;36mget_grouper\u001b[0;34m(obj, key, axis, level, sort, observed, mutated, validate, dropna)\u001b[0m\n\u001b[1;32m    886\u001b[0m                 \u001b[0min_axis\u001b[0m\u001b[0;34m,\u001b[0m \u001b[0mlevel\u001b[0m\u001b[0;34m,\u001b[0m \u001b[0mgpr\u001b[0m \u001b[0;34m=\u001b[0m \u001b[0;32mFalse\u001b[0m\u001b[0;34m,\u001b[0m \u001b[0mgpr\u001b[0m\u001b[0;34m,\u001b[0m \u001b[0;32mNone\u001b[0m\u001b[0;34m\u001b[0m\u001b[0;34m\u001b[0m\u001b[0m\n\u001b[1;32m    887\u001b[0m             \u001b[0;32melse\u001b[0m\u001b[0;34m:\u001b[0m\u001b[0;34m\u001b[0m\u001b[0;34m\u001b[0m\u001b[0m\n\u001b[0;32m--> 888\u001b[0;31m                 \u001b[0;32mraise\u001b[0m \u001b[0mKeyError\u001b[0m\u001b[0;34m(\u001b[0m\u001b[0mgpr\u001b[0m\u001b[0;34m)\u001b[0m\u001b[0;34m\u001b[0m\u001b[0;34m\u001b[0m\u001b[0m\n\u001b[0m\u001b[1;32m    889\u001b[0m         \u001b[0;32melif\u001b[0m \u001b[0misinstance\u001b[0m\u001b[0;34m(\u001b[0m\u001b[0mgpr\u001b[0m\u001b[0;34m,\u001b[0m \u001b[0mGrouper\u001b[0m\u001b[0;34m)\u001b[0m \u001b[0;32mand\u001b[0m \u001b[0mgpr\u001b[0m\u001b[0;34m.\u001b[0m\u001b[0mkey\u001b[0m \u001b[0;32mis\u001b[0m \u001b[0;32mnot\u001b[0m \u001b[0;32mNone\u001b[0m\u001b[0;34m:\u001b[0m\u001b[0;34m\u001b[0m\u001b[0;34m\u001b[0m\u001b[0m\n\u001b[1;32m    890\u001b[0m             \u001b[0;31m# Add key to exclusions\u001b[0m\u001b[0;34m\u001b[0m\u001b[0;34m\u001b[0m\u001b[0m\n",
            "\u001b[0;31mKeyError\u001b[0m: 'phase'"
          ]
        },
        {
          "output_type": "display_data",
          "data": {
            "text/plain": [
              "<Figure size 800x300 with 2 Axes>"
            ],
            "image/png": "[encoded data removed]"
          },
          "metadata": {}
        }
      ],
      "source": [
        "# run cell to visualize the results\n",
        "fig, axs = plt.subplots(ncols=2, figsize=(8, 3), sharey=True)\n",
        "labels = ['-'.join(map(str,x)) for x in product([\"P1\", \"P2\", \"P3\"], [\"SP1\", \"SP2\", \"SP3\"])]\n",
        "data_mean = calc_mean_grouped(data_all, [\"phase\", \"subphase\"])\n",
        "axs[0].plot(data_mean.to_numpy(), label=\"both conditions\", marker='o')\n",
        "axs[0].legend()\n",
        "axs[0].set_ylabel(\"normalized mean heart rate\")\n",
        "axs[0].set_xticks(range(9))\n",
        "axs[0].set_xticklabels(labels, rotation=45)\n",
        "\n",
        "data_mean = calc_mean_grouped(data_all, [\"condition\", \"phase\", \"subphase\"])\n",
        "axs[1].plot(data_mean.xs(\"Intervention\", level=\"condition\").to_numpy(), label=\"intervention\", marker='o')\n",
        "axs[1].plot(data_mean.xs(\"Control\", level=\"condition\").to_numpy(), label=\"control\", marker='o')\n",
        "axs[1].legend()\n",
        "axs[1].set_xticks(range(9))\n",
        "axs[1].set_xticklabels(labels, rotation=45)\n",
        "fig.tight_layout()"
      ]
    },
    {
      "cell_type": "code",
      "execution_count": null,
      "id": "797330b5-3223-46f4-b224-5a1fc3ec92e8",
      "metadata": {
        "id": "797330b5-3223-46f4-b224-5a1fc3ec92e8"
      },
      "outputs": [],
      "source": []
    }
  ],
  "metadata": {
    "kernelspec": {
      "display_name": "Python 3",
      "name": "python3"
    },
    "language_info": {
      "name": "python"
    },
    "colab": {
      "provenance": [],
      "include_colab_link": true
    },
    "widgets": {
      "application/vnd.jupyter.widget-state+json": {
        "6c84344da2354c1084b69489c02aa9e0": {
          "model_module": "@jupyter-widgets/controls",
          "model_name": "HBoxModel",
          "model_module_version": "1.5.0",
          "state": {
            "_dom_classes": [],
            "_model_module": "@jupyter-widgets/controls",
            "_model_module_version": "1.5.0",
            "_model_name": "HBoxModel",
            "_view_count": null,
            "_view_module": "@jupyter-widgets/controls",
            "_view_module_version": "1.5.0",
            "_view_name": "HBoxView",
            "box_style": "",
            "children": [
              "IPY_MODEL_10e3027b128940e48ac630a6b0de3e6e",
              "IPY_MODEL_8cb8e3edaf5045cd9ac5f68cbbc8db43",
              "IPY_MODEL_9a294344b8234c369f80f5ee60a82400"
            ],
            "layout": "IPY_MODEL_ad8ca9eca2d546d0a6f1ff14a823825f"
          }
        },
        "10e3027b128940e48ac630a6b0de3e6e": {
          "model_module": "@jupyter-widgets/controls",
          "model_name": "HTMLModel",
          "model_module_version": "1.5.0",
          "state": {
            "_dom_classes": [],
            "_model_module": "@jupyter-widgets/controls",
            "_model_module_version": "1.5.0",
            "_model_name": "HTMLModel",
            "_view_count": null,
            "_view_module": "@jupyter-widgets/controls",
            "_view_module_version": "1.5.0",
            "_view_name": "HTMLView",
            "description": "",
            "description_tooltip": null,
            "layout": "IPY_MODEL_9f5c71ec59e64cc7af1faf0f331404ee",
            "placeholder": "​",
            "style": "IPY_MODEL_31a0730397424e208abc436e4cac4696",
            "value": "hr_ensemble_sample_normalized.xlsx: "
          }
        },
        "8cb8e3edaf5045cd9ac5f68cbbc8db43": {
          "model_module": "@jupyter-widgets/controls",
          "model_name": "FloatProgressModel",
          "model_module_version": "1.5.0",
          "state": {
            "_dom_classes": [],
            "_model_module": "@jupyter-widgets/controls",
            "_model_module_version": "1.5.0",
            "_model_name": "FloatProgressModel",
            "_view_count": null,
            "_view_module": "@jupyter-widgets/controls",
            "_view_module_version": "1.5.0",
            "_view_name": "ProgressView",
            "bar_style": "success",
            "description": "",
            "description_tooltip": null,
            "layout": "IPY_MODEL_10a73ec2e68c4ebd865acb4a6cd5264b",
            "max": 1,
            "min": 0,
            "orientation": "horizontal",
            "style": "IPY_MODEL_362dc138664d4a75899c06e03ece9b6b",
            "value": 1
          }
        },
        "9a294344b8234c369f80f5ee60a82400": {
          "model_module": "@jupyter-widgets/controls",
          "model_name": "HTMLModel",
          "model_module_version": "1.5.0",
          "state": {
            "_dom_classes": [],
            "_model_module": "@jupyter-widgets/controls",
            "_model_module_version": "1.5.0",
            "_model_name": "HTMLModel",
            "_view_count": null,
            "_view_module": "@jupyter-widgets/controls",
            "_view_module_version": "1.5.0",
            "_view_name": "HTMLView",
            "description": "",
            "description_tooltip": null,
            "layout": "IPY_MODEL_008fbaf9294f4032bbd20773d56a8943",
            "placeholder": "​",
            "style": "IPY_MODEL_db3991592cb54ce9af68c0791257393a",
            "value": " 528k/? [00:00&lt;00:00, 19.1kB/s]"
          }
        },
        "ad8ca9eca2d546d0a6f1ff14a823825f": {
          "model_module": "@jupyter-widgets/base",
          "model_name": "LayoutModel",
          "model_module_version": "1.2.0",
          "state": {
            "_model_module": "@jupyter-widgets/base",
            "_model_module_version": "1.2.0",
            "_model_name": "LayoutModel",
            "_view_count": null,
            "_view_module": "@jupyter-widgets/base",
            "_view_module_version": "1.2.0",
            "_view_name": "LayoutView",
            "align_content": null,
            "align_items": null,
            "align_self": null,
            "border": null,
            "bottom": null,
            "display": null,
            "flex": null,
            "flex_flow": null,
            "grid_area": null,
            "grid_auto_columns": null,
            "grid_auto_flow": null,
            "grid_auto_rows": null,
            "grid_column": null,
            "grid_gap": null,
            "grid_row": null,
            "grid_template_areas": null,
            "grid_template_columns": null,
            "grid_template_rows": null,
            "height": null,
            "justify_content": null,
            "justify_items": null,
            "left": null,
            "margin": null,
            "max_height": null,
            "max_width": null,
            "min_height": null,
            "min_width": null,
            "object_fit": null,
            "object_position": null,
            "order": null,
            "overflow": null,
            "overflow_x": null,
            "overflow_y": null,
            "padding": null,
            "right": null,
            "top": null,
            "visibility": null,
            "width": null
          }
        },
        "9f5c71ec59e64cc7af1faf0f331404ee": {
          "model_module": "@jupyter-widgets/base",
          "model_name": "LayoutModel",
          "model_module_version": "1.2.0",
          "state": {
            "_model_module": "@jupyter-widgets/base",
            "_model_module_version": "1.2.0",
            "_model_name": "LayoutModel",
            "_view_count": null,
            "_view_module": "@jupyter-widgets/base",
            "_view_module_version": "1.2.0",
            "_view_name": "LayoutView",
            "align_content": null,
            "align_items": null,
            "align_self": null,
            "border": null,
            "bottom": null,
            "display": null,
            "flex": null,
            "flex_flow": null,
            "grid_area": null,
            "grid_auto_columns": null,
            "grid_auto_flow": null,
            "grid_auto_rows": null,
            "grid_column": null,
            "grid_gap": null,
            "grid_row": null,
            "grid_template_areas": null,
            "grid_template_columns": null,
            "grid_template_rows": null,
            "height": null,
            "justify_content": null,
            "justify_items": null,
            "left": null,
            "margin": null,
            "max_height": null,
            "max_width": null,
            "min_height": null,
            "min_width": null,
            "object_fit": null,
            "object_position": null,
            "order": null,
            "overflow": null,
            "overflow_x": null,
            "overflow_y": null,
            "padding": null,
            "right": null,
            "top": null,
            "visibility": null,
            "width": null
          }
        },
        "31a0730397424e208abc436e4cac4696": {
          "model_module": "@jupyter-widgets/controls",
          "model_name": "DescriptionStyleModel",
          "model_module_version": "1.5.0",
          "state": {
            "_model_module": "@jupyter-widgets/controls",
            "_model_module_version": "1.5.0",
            "_model_name": "DescriptionStyleModel",
            "_view_count": null,
            "_view_module": "@jupyter-widgets/base",
            "_view_module_version": "1.2.0",
            "_view_name": "StyleView",
            "description_width": ""
          }
        },
        "10a73ec2e68c4ebd865acb4a6cd5264b": {
          "model_module": "@jupyter-widgets/base",
          "model_name": "LayoutModel",
          "model_module_version": "1.2.0",
          "state": {
            "_model_module": "@jupyter-widgets/base",
            "_model_module_version": "1.2.0",
            "_model_name": "LayoutModel",
            "_view_count": null,
            "_view_module": "@jupyter-widgets/base",
            "_view_module_version": "1.2.0",
            "_view_name": "LayoutView",
            "align_content": null,
            "align_items": null,
            "align_self": null,
            "border": null,
            "bottom": null,
            "display": null,
            "flex": null,
            "flex_flow": null,
            "grid_area": null,
            "grid_auto_columns": null,
            "grid_auto_flow": null,
            "grid_auto_rows": null,
            "grid_column": null,
            "grid_gap": null,
            "grid_row": null,
            "grid_template_areas": null,
            "grid_template_columns": null,
            "grid_template_rows": null,
            "height": null,
            "justify_content": null,
            "justify_items": null,
            "left": null,
            "margin": null,
            "max_height": null,
            "max_width": null,
            "min_height": null,
            "min_width": null,
            "object_fit": null,
            "object_position": null,
            "order": null,
            "overflow": null,
            "overflow_x": null,
            "overflow_y": null,
            "padding": null,
            "right": null,
            "top": null,
            "visibility": null,
            "width": "20px"
          }
        },
        "362dc138664d4a75899c06e03ece9b6b": {
          "model_module": "@jupyter-widgets/controls",
          "model_name": "ProgressStyleModel",
          "model_module_version": "1.5.0",
          "state": {
            "_model_module": "@jupyter-widgets/controls",
            "_model_module_version": "1.5.0",
            "_model_name": "ProgressStyleModel",
            "_view_count": null,
            "_view_module": "@jupyter-widgets/base",
            "_view_module_version": "1.2.0",
            "_view_name": "StyleView",
            "bar_color": null,
            "description_width": ""
          }
        },
        "008fbaf9294f4032bbd20773d56a8943": {
          "model_module": "@jupyter-widgets/base",
          "model_name": "LayoutModel",
          "model_module_version": "1.2.0",
          "state": {
            "_model_module": "@jupyter-widgets/base",
            "_model_module_version": "1.2.0",
            "_model_name": "LayoutModel",
            "_view_count": null,
            "_view_module": "@jupyter-widgets/base",
            "_view_module_version": "1.2.0",
            "_view_name": "LayoutView",
            "align_content": null,
            "align_items": null,
            "align_self": null,
            "border": null,
            "bottom": null,
            "display": null,
            "flex": null,
            "flex_flow": null,
            "grid_area": null,
            "grid_auto_columns": null,
            "grid_auto_flow": null,
            "grid_auto_rows": null,
            "grid_column": null,
            "grid_gap": null,
            "grid_row": null,
            "grid_template_areas": null,
            "grid_template_columns": null,
            "grid_template_rows": null,
            "height": null,
            "justify_content": null,
            "justify_items": null,
            "left": null,
            "margin": null,
            "max_height": null,
            "max_width": null,
            "min_height": null,
            "min_width": null,
            "object_fit": null,
            "object_position": null,
            "order": null,
            "overflow": null,
            "overflow_x": null,
            "overflow_y": null,
            "padding": null,
            "right": null,
            "top": null,
            "visibility": null,
            "width": null
          }
        },
        "db3991592cb54ce9af68c0791257393a": {
          "model_module": "@jupyter-widgets/controls",
          "model_name": "DescriptionStyleModel",
          "model_module_version": "1.5.0",
          "state": {
            "_model_module": "@jupyter-widgets/controls",
            "_model_module_version": "1.5.0",
            "_model_name": "DescriptionStyleModel",
            "_view_count": null,
            "_view_module": "@jupyter-widgets/base",
            "_view_module_version": "1.2.0",
            "_view_name": "StyleView",
            "description_width": ""
          }
        },
        "c579a054819649f29be84c111cae1eb1": {
          "model_module": "@jupyter-widgets/controls",
          "model_name": "HBoxModel",
          "model_module_version": "1.5.0",
          "state": {
            "_dom_classes": [],
            "_model_module": "@jupyter-widgets/controls",
            "_model_module_version": "1.5.0",
            "_model_name": "HBoxModel",
            "_view_count": null,
            "_view_module": "@jupyter-widgets/controls",
            "_view_module_version": "1.5.0",
            "_view_name": "HBoxView",
            "box_style": "",
            "children": [
              "IPY_MODEL_0141d6ffc75b4bf89d380c479083611f",
              "IPY_MODEL_54125fcb01d14dae83b22cd08f2e9c6e",
              "IPY_MODEL_33df2e5fc59d4854887c7d9d3d46993b"
            ],
            "layout": "IPY_MODEL_2da9edf464c04e45bc275c0951f5dc70"
          }
        },
        "0141d6ffc75b4bf89d380c479083611f": {
          "model_module": "@jupyter-widgets/controls",
          "model_name": "HTMLModel",
          "model_module_version": "1.5.0",
          "state": {
            "_dom_classes": [],
            "_model_module": "@jupyter-widgets/controls",
            "_model_module_version": "1.5.0",
            "_model_name": "HTMLModel",
            "_view_count": null,
            "_view_module": "@jupyter-widgets/controls",
            "_view_module_version": "1.5.0",
            "_view_name": "HTMLView",
            "description": "",
            "description_tooltip": null,
            "layout": "IPY_MODEL_9c0a9f8b77bf4f25a8d6f7168bed350a",
            "placeholder": "​",
            "style": "IPY_MODEL_6f5d20ef964546968416ff18c5755207",
            "value": "cortisol_sample.csv: "
          }
        },
        "54125fcb01d14dae83b22cd08f2e9c6e": {
          "model_module": "@jupyter-widgets/controls",
          "model_name": "FloatProgressModel",
          "model_module_version": "1.5.0",
          "state": {
            "_dom_classes": [],
            "_model_module": "@jupyter-widgets/controls",
            "_model_module_version": "1.5.0",
            "_model_name": "FloatProgressModel",
            "_view_count": null,
            "_view_module": "@jupyter-widgets/controls",
            "_view_module_version": "1.5.0",
            "_view_name": "ProgressView",
            "bar_style": "success",
            "description": "",
            "description_tooltip": null,
            "layout": "IPY_MODEL_5f4485ae68794a8fa9cd2edf6919a9a9",
            "max": 1,
            "min": 0,
            "orientation": "horizontal",
            "style": "IPY_MODEL_650075ac2baa4f0887e182cfdebfdaec",
            "value": 1
          }
        },
        "33df2e5fc59d4854887c7d9d3d46993b": {
          "model_module": "@jupyter-widgets/controls",
          "model_name": "HTMLModel",
          "model_module_version": "1.5.0",
          "state": {
            "_dom_classes": [],
            "_model_module": "@jupyter-widgets/controls",
            "_model_module_version": "1.5.0",
            "_model_name": "HTMLModel",
            "_view_count": null,
            "_view_module": "@jupyter-widgets/controls",
            "_view_module_version": "1.5.0",
            "_view_name": "HTMLView",
            "description": "",
            "description_tooltip": null,
            "layout": "IPY_MODEL_3a01a58d087f429ba692cda247e10881",
            "placeholder": "​",
            "style": "IPY_MODEL_a973dea2fa3b4e0a9aed2bf296cab2be",
            "value": " 8.00k/? [00:00&lt;00:00, 19.8kB/s]"
          }
        },
        "2da9edf464c04e45bc275c0951f5dc70": {
          "model_module": "@jupyter-widgets/base",
          "model_name": "LayoutModel",
          "model_module_version": "1.2.0",
          "state": {
            "_model_module": "@jupyter-widgets/base",
            "_model_module_version": "1.2.0",
            "_model_name": "LayoutModel",
            "_view_count": null,
            "_view_module": "@jupyter-widgets/base",
            "_view_module_version": "1.2.0",
            "_view_name": "LayoutView",
            "align_content": null,
            "align_items": null,
            "align_self": null,
            "border": null,
            "bottom": null,
            "display": null,
            "flex": null,
            "flex_flow": null,
            "grid_area": null,
            "grid_auto_columns": null,
            "grid_auto_flow": null,
            "grid_auto_rows": null,
            "grid_column": null,
            "grid_gap": null,
            "grid_row": null,
            "grid_template_areas": null,
            "grid_template_columns": null,
            "grid_template_rows": null,
            "height": null,
            "justify_content": null,
            "justify_items": null,
            "left": null,
            "margin": null,
            "max_height": null,
            "max_width": null,
            "min_height": null,
            "min_width": null,
            "object_fit": null,
            "object_position": null,
            "order": null,
            "overflow": null,
            "overflow_x": null,
            "overflow_y": null,
            "padding": null,
            "right": null,
            "top": null,
            "visibility": null,
            "width": null
          }
        },
        "9c0a9f8b77bf4f25a8d6f7168bed350a": {
          "model_module": "@jupyter-widgets/base",
          "model_name": "LayoutModel",
          "model_module_version": "1.2.0",
          "state": {
            "_model_module": "@jupyter-widgets/base",
            "_model_module_version": "1.2.0",
            "_model_name": "LayoutModel",
            "_view_count": null,
            "_view_module": "@jupyter-widgets/base",
            "_view_module_version": "1.2.0",
            "_view_name": "LayoutView",
            "align_content": null,
            "align_items": null,
            "align_self": null,
            "border": null,
            "bottom": null,
            "display": null,
            "flex": null,
            "flex_flow": null,
            "grid_area": null,
            "grid_auto_columns": null,
            "grid_auto_flow": null,
            "grid_auto_rows": null,
            "grid_column": null,
            "grid_gap": null,
            "grid_row": null,
            "grid_template_areas": null,
            "grid_template_columns": null,
            "grid_template_rows": null,
            "height": null,
            "justify_content": null,
            "justify_items": null,
            "left": null,
            "margin": null,
            "max_height": null,
            "max_width": null,
            "min_height": null,
            "min_width": null,
            "object_fit": null,
            "object_position": null,
            "order": null,
            "overflow": null,
            "overflow_x": null,
            "overflow_y": null,
            "padding": null,
            "right": null,
            "top": null,
            "visibility": null,
            "width": null
          }
        },
        "6f5d20ef964546968416ff18c5755207": {
          "model_module": "@jupyter-widgets/controls",
          "model_name": "DescriptionStyleModel",
          "model_module_version": "1.5.0",
          "state": {
            "_model_module": "@jupyter-widgets/controls",
            "_model_module_version": "1.5.0",
            "_model_name": "DescriptionStyleModel",
            "_view_count": null,
            "_view_module": "@jupyter-widgets/base",
            "_view_module_version": "1.2.0",
            "_view_name": "StyleView",
            "description_width": ""
          }
        },
        "5f4485ae68794a8fa9cd2edf6919a9a9": {
          "model_module": "@jupyter-widgets/base",
          "model_name": "LayoutModel",
          "model_module_version": "1.2.0",
          "state": {
            "_model_module": "@jupyter-widgets/base",
            "_model_module_version": "1.2.0",
            "_model_name": "LayoutModel",
            "_view_count": null,
            "_view_module": "@jupyter-widgets/base",
            "_view_module_version": "1.2.0",
            "_view_name": "LayoutView",
            "align_content": null,
            "align_items": null,
            "align_self": null,
            "border": null,
            "bottom": null,
            "display": null,
            "flex": null,
            "flex_flow": null,
            "grid_area": null,
            "grid_auto_columns": null,
            "grid_auto_flow": null,
            "grid_auto_rows": null,
            "grid_column": null,
            "grid_gap": null,
            "grid_row": null,
            "grid_template_areas": null,
            "grid_template_columns": null,
            "grid_template_rows": null,
            "height": null,
            "justify_content": null,
            "justify_items": null,
            "left": null,
            "margin": null,
            "max_height": null,
            "max_width": null,
            "min_height": null,
            "min_width": null,
            "object_fit": null,
            "object_position": null,
            "order": null,
            "overflow": null,
            "overflow_x": null,
            "overflow_y": null,
            "padding": null,
            "right": null,
            "top": null,
            "visibility": null,
            "width": "20px"
          }
        },
        "650075ac2baa4f0887e182cfdebfdaec": {
          "model_module": "@jupyter-widgets/controls",
          "model_name": "ProgressStyleModel",
          "model_module_version": "1.5.0",
          "state": {
            "_model_module": "@jupyter-widgets/controls",
            "_model_module_version": "1.5.0",
            "_model_name": "ProgressStyleModel",
            "_view_count": null,
            "_view_module": "@jupyter-widgets/base",
            "_view_module_version": "1.2.0",
            "_view_name": "StyleView",
            "bar_color": null,
            "description_width": ""
          }
        },
        "3a01a58d087f429ba692cda247e10881": {
          "model_module": "@jupyter-widgets/base",
          "model_name": "LayoutModel",
          "model_module_version": "1.2.0",
          "state": {
            "_model_module": "@jupyter-widgets/base",
            "_model_module_version": "1.2.0",
            "_model_name": "LayoutModel",
            "_view_count": null,
            "_view_module": "@jupyter-widgets/base",
            "_view_module_version": "1.2.0",
            "_view_name": "LayoutView",
            "align_content": null,
            "align_items": null,
            "align_self": null,
            "border": null,
            "bottom": null,
            "display": null,
            "flex": null,
            "flex_flow": null,
            "grid_area": null,
            "grid_auto_columns": null,
            "grid_auto_flow": null,
            "grid_auto_rows": null,
            "grid_column": null,
            "grid_gap": null,
            "grid_row": null,
            "grid_template_areas": null,
            "grid_template_columns": null,
            "grid_template_rows": null,
            "height": null,
            "justify_content": null,
            "justify_items": null,
            "left": null,
            "margin": null,
            "max_height": null,
            "max_width": null,
            "min_height": null,
            "min_width": null,
            "object_fit": null,
            "object_position": null,
            "order": null,
            "overflow": null,
            "overflow_x": null,
            "overflow_y": null,
            "padding": null,
            "right": null,
            "top": null,
            "visibility": null,
            "width": null
          }
        },
        "a973dea2fa3b4e0a9aed2bf296cab2be": {
          "model_module": "@jupyter-widgets/controls",
          "model_name": "DescriptionStyleModel",
          "model_module_version": "1.5.0",
          "state": {
            "_model_module": "@jupyter-widgets/controls",
            "_model_module_version": "1.5.0",
            "_model_name": "DescriptionStyleModel",
            "_view_count": null,
            "_view_module": "@jupyter-widgets/base",
            "_view_module_version": "1.2.0",
            "_view_name": "StyleView",
            "description_width": ""
          }
        }
      }
    }
  },
  "nbformat": 4,
  "nbformat_minor": 5
}