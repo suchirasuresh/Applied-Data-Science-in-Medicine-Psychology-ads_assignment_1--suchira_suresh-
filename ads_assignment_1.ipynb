{
  "cells": [
    {
      "cell_type": "markdown",
      "id": "287a209e-37b1-4946-83df-a0b91b3e977b",
      "metadata": {
        "pycharm": {
          "name": "#%% md\n"
        },
        "id": "287a209e-37b1-4946-83df-a0b91b3e977b"
      },
      "source": [
        "# **Applied Data Science in Medicine & Psychology** - Assignment 1\n",
        "---\n",
        "**Deadline: 25.04.2023, 23:59**\n",
        "\n",
        "This first assignment of the \"Applied Data Science in Medicine & Psychology\" course introduces the tools used for the programming tasks and gives instructions about their setup.\n",
        "\n",
        "### **Setup**  \n",
        "1. Click on the blue \"Open in Colab\" button on the top of the assignment. A new tab or window should open in your browser, displaying this notebook in Google Colaboratory.\n",
        "2. **Continue the setup of your assignment whithin Google Colaboratory with the following point**\n",
        "3. To be able to edit and submit the assignment you need to save an editable copy of your notebook. Click ``File`` $\\rightarrow$ ``Save a copy in Drive`` and then save your copy as ``ads_assignment_1`` (i.e. remove the \"Copy of\" text that gets automatically appended to the beginning of the filename). Do not change the file name.\n"
      ]
    },
    {
      "cell_type": "markdown",
      "id": "6e0a0bed-2b02-46aa-bf34-da0b11d7e20e",
      "metadata": {
        "pycharm": {
          "name": "#%% md\n"
        },
        "id": "6e0a0bed-2b02-46aa-bf34-da0b11d7e20e"
      },
      "source": [
        "### **Assignment Description**\n",
        "\n",
        "#### **Assignment goals**\n",
        "You are going to learn the following things in this assignment:\n",
        "1. How to setup your Google Colaboratory and GitHub accounts\n",
        "2. How to access and submit assignments\n",
        "\n",
        "#### **Assignment point value**\n",
        "This assignment is worth a total (up to) **1** point. If your code passes all of the automatic tests, you will receive full credit."
      ]
    },
    {
      "cell_type": "markdown",
      "id": "06556fce-5bbf-430e-ba20-02d0ed4b81c9",
      "metadata": {
        "pycharm": {
          "name": "#%% md\n"
        },
        "id": "06556fce-5bbf-430e-ba20-02d0ed4b81c9"
      },
      "source": [
        "### **Tasks**\n",
        "Make sure that you now work on your *copied* version of this assignment's notebook.\n",
        "\n",
        "1. Change the code in the next cell to indicate that you have gone through the exercise introduction in StudOn and set up your Google Colaboratory and GitHub account. You should change each variable from ``False`` to ``True`` to show which tasks you have accomplished (by self-report). By running the cell you can check for errors in your implementation. Make sure that no \"AssertationError\" occurs."
      ]
    },
    {
      "cell_type": "code",
      "execution_count": 1,
      "id": "93016972-6143-480f-ac7b-a1480bb33ce1",
      "metadata": {
        "deletable": false,
        "nbgrader": {
          "cell_type": "code",
          "checksum": "939053c99f0a7a48b864388dd09ce9d8",
          "grade": false,
          "grade_id": "task_1",
          "locked": false,
          "schema_version": 3,
          "solution": true,
          "task": false
        },
        "pycharm": {
          "name": "#%%\n"
        },
        "tags": [],
        "id": "93016972-6143-480f-ac7b-a1480bb33ce1"
      },
      "outputs": [],
      "source": [
        "# I have read through the introduction about Tools, Grading and Setup\n",
        "read_introduction = True\n",
        "\n",
        "# I have a Google account and can access Google Colaboratory under my own \n",
        "# account\n",
        "access_colaboratory = True\n",
        "\n",
        "# I have a GitHub account\n",
        "github_account = True"
      ]
    },
    {
      "cell_type": "code",
      "execution_count": 2,
      "id": "04a48ecc-afaf-4b99-9806-7e99825be809",
      "metadata": {
        "deletable": false,
        "editable": false,
        "nbgrader": {
          "cell_type": "code",
          "checksum": "a8829b2e18d039e06ce3769722ece36b",
          "grade": true,
          "grade_id": "task_1_test",
          "locked": true,
          "points": 0.5,
          "schema_version": 3,
          "solution": false,
          "task": false
        },
        "pycharm": {
          "name": "#%%\n"
        },
        "tags": [],
        "id": "04a48ecc-afaf-4b99-9806-7e99825be809"
      },
      "outputs": [],
      "source": [
        "# run tests to check your implementation\n",
        "assert read_introduction == True, \"The variable read_introduction is not set to True\"\n",
        "assert access_colaboratory == True, \"The variable access_colaboratory is not set to True\"\n",
        "assert github_account == True, \"The variable github_account is not set to True\""
      ]
    },
    {
      "cell_type": "markdown",
      "id": "4732268e-d1c5-4a23-9023-51c840755178",
      "metadata": {
        "pycharm": {
          "name": "#%% md\n"
        },
        "id": "4732268e-d1c5-4a23-9023-51c840755178"
      },
      "source": [
        "2. Also update the ``github_username`` and ``idm_credentials`` accordingly. Keep the **'** around **'**username**'** and **'**ab12abcd**'**."
      ]
    },
    {
      "cell_type": "code",
      "execution_count": 3,
      "id": "5b544f76-3569-4d92-a45e-0cd232f280e0",
      "metadata": {
        "deletable": false,
        "nbgrader": {
          "cell_type": "code",
          "checksum": "c533fae12dd3c0fb7e08fd9c782ce5c6",
          "grade": false,
          "grade_id": "task_2",
          "locked": false,
          "schema_version": 3,
          "solution": true,
          "task": false
        },
        "pycharm": {
          "name": "#%%\n"
        },
        "tags": [],
        "id": "5b544f76-3569-4d92-a45e-0cd232f280e0"
      },
      "outputs": [],
      "source": [
        "# enter your github username\n",
        "github_username = 'suchira_suresh'\n",
        "\n",
        "# enter your FAU idM-credentials\n",
        "idm_credentials = 'yh07ajaw'"
      ]
    },
    {
      "cell_type": "code",
      "execution_count": 4,
      "id": "f5bb6fc0-f51e-4dc7-b385-bce8decb4457",
      "metadata": {
        "deletable": false,
        "editable": false,
        "nbgrader": {
          "cell_type": "code",
          "checksum": "5af5fae222e8d7ef1e1000ea443920c1",
          "grade": true,
          "grade_id": "task_2_test",
          "locked": true,
          "points": 0.5,
          "schema_version": 3,
          "solution": false,
          "task": false
        },
        "pycharm": {
          "name": "#%%\n"
        },
        "tags": [],
        "id": "f5bb6fc0-f51e-4dc7-b385-bce8decb4457"
      },
      "outputs": [],
      "source": [
        "# run tests to check your implementation\n",
        "assert isinstance(github_username, str), \"The variable github_username is not of type string\"\n",
        "assert isinstance(idm_credentials, str), \"The variable idm_credentials is not of type string\""
      ]
    },
    {
      "cell_type": "markdown",
      "id": "f791c938-c6ad-45a0-b3f6-9c1bb3e0a956",
      "metadata": {
        "pycharm": {
          "name": "#%% md\n"
        },
        "id": "f791c938-c6ad-45a0-b3f6-9c1bb3e0a956"
      },
      "source": [
        "### **Submission**\n",
        "After you finished completing the code above, you need to submit your assignment. Submitting the assignment entails syncing your copy of the notebook with your private GitHub assignment repository (``Applied Data Science in Medicine & Psychology/ads_assignment_1-<username>``):\n",
        "1. Save your notebook, click ``File`` $\\rightarrow$ ``Save``\n",
        "2. From within Google Colaboratory, click ``File`` $\\rightarrow$ ``save a copy in Github``\n",
        "3. Select ``Applied Data Science in Medicine & Psychology/ads_assignment_1-<username>`` from the repository drop-down menu\n",
        "4. Type ``ads_assignment_1.ipynb`` into the File path text box\n",
        "5. Optionally, you may enter a description into the \"Commit message\" text box (like: \"solved task 1\" or \"ready for grading\")\n",
        "6. Make sure that the \"Include a link to Colaboratory\" box is checked\n",
        "7. Press \"Ok\"\n",
        "\n",
        "A new tab or window should open up, displaying your submitted notebook within your GitHub repository.\n",
        "\n",
        "### **Updating your submission**\n",
        "Prior to the assignment deadline you can re-submit your assignment as often as you would like. This will update the copy of your assignment file in your assignment's repository. Update the assignment from the notebook that you saved in your Google Drive (access from your Google Colab account) or your own repository."
      ]
    }
  ],
  "metadata": {
    "kernelspec": {
      "display_name": "ads_exercise",
      "language": "python",
      "name": "ads_exercise"
    },
    "language_info": {
      "codemirror_mode": {
        "name": "ipython",
        "version": 3
      },
      "file_extension": ".py",
      "mimetype": "text/x-python",
      "name": "python",
      "nbconvert_exporter": "python",
      "pygments_lexer": "ipython3",
      "version": "3.8.6"
    },
    "colab": {
      "provenance": []
    }
  },
  "nbformat": 4,
  "nbformat_minor": 5
}